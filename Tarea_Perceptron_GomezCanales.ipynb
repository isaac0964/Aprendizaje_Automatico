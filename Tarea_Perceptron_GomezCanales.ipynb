{
 "cells": [
  {
   "cell_type": "markdown",
   "metadata": {
    "id": "NwqTUWuxYMQg"
   },
   "source": [
    "# El perceptrón y las compuertas lógicas\n"
   ]
  },
  {
   "cell_type": "markdown",
   "metadata": {
    "id": "AhoJLbMxYVty"
   },
   "source": [
    "Paso 1. Corre la siguiente casilla para importar la paquetería necesaria."
   ]
  },
  {
   "cell_type": "code",
   "execution_count": 1,
   "metadata": {
    "id": "wKjED1KUYfRe"
   },
   "outputs": [],
   "source": [
    "import numpy as np\n",
    "import matplotlib.pyplot as plt"
   ]
  },
  {
   "cell_type": "markdown",
   "metadata": {
    "id": "eLLpPjoKYh1Q"
   },
   "source": [
    "Paso 2. Modifica la siguiente clase para que tenga un método de entrenamiento con el algoritmo del perceptrón."
   ]
  },
  {
   "cell_type": "code",
   "execution_count": 1,
   "metadata": {
    "id": "zShXwHkCOmEm"
   },
   "outputs": [],
   "source": [
    "class Perceptron:\n",
    "\n",
    "  def __init__(self, n_inputs, learning_rate):\n",
    "    self.w = - 1 + 2 * np.random.rand(n_inputs)\n",
    "    self.b = - 1 + 2 * np.random.rand()\n",
    "    self.eta = learning_rate\n",
    "\n",
    "  def predict(self, X):\n",
    "    _, p = X.shape\n",
    "    y_est = np.zeros(p)\n",
    "    for i in range(p):\n",
    "      y_est[i] = np.dot(self.w, X[:,i])+self.b\n",
    "      if y_est[i] >= 0:\n",
    "        y_est[i]=1\n",
    "      else:\n",
    "        y_est[i]=0\n",
    "    return y_est\n",
    "\n",
    "  def fit(self, X, Y, epochs=50):\n",
    "    _, p = X.shape\n",
    "    for _ in range(epochs):\n",
    "      for i in range(p):\n",
    "        # Escribe las ecuaciones del perceptrón\n",
    "        y_est = self.predict(X[:, i].reshape((-1, 1)))\n",
    "        self.w += self.eta * (Y[i] - y_est) * X[:, i] \n",
    "        self.b += self.eta * (Y[i] - y_est)"
   ]
  },
  {
   "cell_type": "markdown",
   "metadata": {
    "id": "3zQjTYVXbHlG"
   },
   "source": [
    "Paso 3. Instancía la siguiente función para poder dibujar la línea que representa el Perceptrón."
   ]
  },
  {
   "cell_type": "code",
   "execution_count": 3,
   "metadata": {
    "id": "kALOGpgmmd7X"
   },
   "outputs": [],
   "source": [
    "# Función para dibujar superficie de desición\n",
    "def draw_2d_percep(model):\n",
    "  w1, w2, b = model.w[0], model.w[1], model.b \n",
    "  plt.plot([-2, 2],[(1/w2)*(-w1*(-2)-b),(1/w2)*(-w1*2-b)],'--k')"
   ]
  },
  {
   "cell_type": "markdown",
   "metadata": {
    "id": "iMrnL9uvmz2J"
   },
   "source": [
    "Paso 4. Corre el siguiente código para comprobar que la neurona es capaz de aprender la compuerta OR"
   ]
  },
  {
   "cell_type": "code",
   "execution_count": 6,
   "metadata": {
    "id": "FvpXhoe2msE6"
   },
   "outputs": [
    {
     "data": {
      "image/png": "[encoded data removed]",
      "text/plain": [
       "<Figure size 640x480 with 1 Axes>"
      ]
     },
     "metadata": {},
     "output_type": "display_data"
    }
   ],
   "source": [
    "# Instanciar el modelo\n",
    "model = Perceptron(2, 0.1)\n",
    "\n",
    "# Datos\n",
    "X = np.array([[0, 0, 1, 1],\n",
    "              [0, 1, 0, 1]])\n",
    "Y = np.array( [0, 1, 1, 0])\n",
    "\n",
    "# Entrenar\n",
    "model.fit(X,Y)\n",
    "\n",
    "# Predicción\n",
    "model.predict(X)\n",
    "\n",
    "# Primero dibujemos los puntos\n",
    "_, p = X.shape\n",
    "for i in range(p):\n",
    "  if Y[i] == 0:\n",
    "    plt.plot(X[0,i],X[1,i], 'or')\n",
    "  else:\n",
    "    plt.plot(X[0,i],X[1,i], 'ob')\n",
    "\n",
    "plt.title('Perceptrón')\n",
    "plt.grid('on')\n",
    "plt.xlim([-2,2])\n",
    "plt.ylim([-2,2])\n",
    "plt.xlabel(r'$x_1$')\n",
    "plt.ylabel(r'$x_2$')\n",
    "\n",
    "draw_2d_percep(model)"
   ]
  },
  {
   "cell_type": "markdown",
   "metadata": {
    "id": "GsgmBu1BnJMh"
   },
   "source": [
    "Paso 5. Realiza el paso anterior con pero con los datos de la compuerta AND y de la compuerta XOR"
   ]
  },
  {
   "cell_type": "markdown",
   "metadata": {
    "id": "oYzR2HPTnhro"
   },
   "source": [
    "Paso 6. ¿Que diferencia puedes notar entre el aprendizaje de la compuerta AND y la compuerta XOR?: Escribe aquí tu respuesta"
   ]
  },
  {
   "cell_type": "markdown",
   "metadata": {
    "id": "P9ck9xq8nwBx"
   },
   "source": [
    "Respuesta: La compuerta AND es un problema lineal, mientras la compuerta XOR es un problema no lineal por lo que el perceptrón no será capaz de resolver la compuerta XOR debido a que el perceptrón es un modelo lineal"
   ]
  }
 ],
 "metadata": {
  "colab": {
   "authorship_tag": "ABX9TyPXv9nlIfwdXNfqOgvXmpwB",
   "include_colab_link": true,
   "provenance": []
  },
  "kernelspec": {
   "display_name": "Python 3 (ipykernel)",
   "language": "python",
   "name": "python3"
  },
  "language_info": {
   "codemirror_mode": {
    "name": "ipython",
    "version": 3
   },
   "file_extension": ".py",
   "mimetype": "text/x-python",
   "name": "python",
   "nbconvert_exporter": "python",
   "pygments_lexer": "ipython3",
   "version": "3.11.4"
  }
 },
 "nbformat": 4,
 "nbformat_minor": 1
}
