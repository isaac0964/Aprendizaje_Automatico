{
 "cells": [
  {
   "cell_type": "markdown",
   "id": "dd2a870b",
   "metadata": {},
   "source": [
    "# Predicción de Diabetes con una Neurona"
   ]
  },
  {
   "cell_type": "markdown",
   "id": "7b70f0e8",
   "metadata": {},
   "source": [
    "## Paso 1. Importar paquetería necesaria 📦"
   ]
  },
  {
   "cell_type": "code",
   "execution_count": 66,
   "id": "5bab399d",
   "metadata": {},
   "outputs": [],
   "source": [
    "import numpy as np\n",
    "import matplotlib.pyplot as plt\n",
    "import pandas as pd"
   ]
  },
  {
   "cell_type": "markdown",
   "id": "930b51ba",
   "metadata": {},
   "source": [
    "## Paso 2. Cargar los datos 📊"
   ]
  },
  {
   "cell_type": "code",
   "execution_count": 67,
   "id": "d25f4cd4",
   "metadata": {},
   "outputs": [],
   "source": [
    "data = pd.read_csv(\"Datasets/Diabetes.csv\")"
   ]
  },
  {
   "cell_type": "markdown",
   "id": "b0578756",
   "metadata": {},
   "source": [
    "## Paso 3. Inspeccionar los datos 👀"
   ]
  },
  {
   "cell_type": "markdown",
   "id": "b502601e",
   "metadata": {},
   "source": [
    "Se muestran los primeros 5 registros en los datos para ver el formato de estos"
   ]
  },
  {
   "cell_type": "code",
   "execution_count": 68,
   "id": "956bb21d",
   "metadata": {},
   "outputs": [
    {
     "data": {
      "text/html": [
       "<div>\n",
       "<style scoped>\n",
       "    .dataframe tbody tr th:only-of-type {\n",
       "        vertical-align: middle;\n",
       "    }\n",
       "\n",
       "    .dataframe tbody tr th {\n",
       "        vertical-align: top;\n",
       "    }\n",
       "\n",
       "    .dataframe thead th {\n",
       "        text-align: right;\n",
       "    }\n",
       "</style>\n",
       "<table border=\"1\" class=\"dataframe\">\n",
       "  <thead>\n",
       "    <tr style=\"text-align: right;\">\n",
       "      <th></th>\n",
       "      <th>Pregnancies</th>\n",
       "      <th>Glucose</th>\n",
       "      <th>BloodPressure</th>\n",
       "      <th>SkinThickness</th>\n",
       "      <th>Insulin</th>\n",
       "      <th>BMI</th>\n",
       "      <th>DiabetesPedigreeFunction</th>\n",
       "      <th>Age</th>\n",
       "      <th>Outcome</th>\n",
       "    </tr>\n",
       "  </thead>\n",
       "  <tbody>\n",
       "    <tr>\n",
       "      <th>0</th>\n",
       "      <td>6</td>\n",
       "      <td>148</td>\n",
       "      <td>72</td>\n",
       "      <td>35</td>\n",
       "      <td>0</td>\n",
       "      <td>33.6</td>\n",
       "      <td>0.627</td>\n",
       "      <td>50</td>\n",
       "      <td>1</td>\n",
       "    </tr>\n",
       "    <tr>\n",
       "      <th>1</th>\n",
       "      <td>1</td>\n",
       "      <td>85</td>\n",
       "      <td>66</td>\n",
       "      <td>29</td>\n",
       "      <td>0</td>\n",
       "      <td>26.6</td>\n",
       "      <td>0.351</td>\n",
       "      <td>31</td>\n",
       "      <td>0</td>\n",
       "    </tr>\n",
       "    <tr>\n",
       "      <th>2</th>\n",
       "      <td>8</td>\n",
       "      <td>183</td>\n",
       "      <td>64</td>\n",
       "      <td>0</td>\n",
       "      <td>0</td>\n",
       "      <td>23.3</td>\n",
       "      <td>0.672</td>\n",
       "      <td>32</td>\n",
       "      <td>1</td>\n",
       "    </tr>\n",
       "    <tr>\n",
       "      <th>3</th>\n",
       "      <td>1</td>\n",
       "      <td>89</td>\n",
       "      <td>66</td>\n",
       "      <td>23</td>\n",
       "      <td>94</td>\n",
       "      <td>28.1</td>\n",
       "      <td>0.167</td>\n",
       "      <td>21</td>\n",
       "      <td>0</td>\n",
       "    </tr>\n",
       "    <tr>\n",
       "      <th>4</th>\n",
       "      <td>0</td>\n",
       "      <td>137</td>\n",
       "      <td>40</td>\n",
       "      <td>35</td>\n",
       "      <td>168</td>\n",
       "      <td>43.1</td>\n",
       "      <td>2.288</td>\n",
       "      <td>33</td>\n",
       "      <td>1</td>\n",
       "    </tr>\n",
       "  </tbody>\n",
       "</table>\n",
       "</div>"
      ],
      "text/plain": [
       "   Pregnancies  Glucose  BloodPressure  SkinThickness  Insulin   BMI  \\\n",
       "0            6      148             72             35        0  33.6   \n",
       "1            1       85             66             29        0  26.6   \n",
       "2            8      183             64              0        0  23.3   \n",
       "3            1       89             66             23       94  28.1   \n",
       "4            0      137             40             35      168  43.1   \n",
       "\n",
       "   DiabetesPedigreeFunction  Age  Outcome  \n",
       "0                     0.627   50        1  \n",
       "1                     0.351   31        0  \n",
       "2                     0.672   32        1  \n",
       "3                     0.167   21        0  \n",
       "4                     2.288   33        1  "
      ]
     },
     "execution_count": 68,
     "metadata": {},
     "output_type": "execute_result"
    }
   ],
   "source": [
    "data.head()"
   ]
  },
  {
   "cell_type": "markdown",
   "id": "c70d88cf",
   "metadata": {},
   "source": [
    "Se muestra el tamaño del dataset"
   ]
  },
  {
   "cell_type": "code",
   "execution_count": 69,
   "id": "a9a9f5cc",
   "metadata": {},
   "outputs": [
    {
     "data": {
      "text/plain": [
       "(768, 9)"
      ]
     },
     "execution_count": 69,
     "metadata": {},
     "output_type": "execute_result"
    }
   ],
   "source": [
    "data.shape  # Tamano del dataset"
   ]
  },
  {
   "cell_type": "markdown",
   "id": "6720baa1",
   "metadata": {},
   "source": [
    "Estadisticas del dataset"
   ]
  },
  {
   "cell_type": "code",
   "execution_count": 70,
   "id": "0f25a76f",
   "metadata": {},
   "outputs": [
    {
     "data": {
      "text/html": [
       "<div>\n",
       "<style scoped>\n",
       "    .dataframe tbody tr th:only-of-type {\n",
       "        vertical-align: middle;\n",
       "    }\n",
       "\n",
       "    .dataframe tbody tr th {\n",
       "        vertical-align: top;\n",
       "    }\n",
       "\n",
       "    .dataframe thead th {\n",
       "        text-align: right;\n",
       "    }\n",
       "</style>\n",
       "<table border=\"1\" class=\"dataframe\">\n",
       "  <thead>\n",
       "    <tr style=\"text-align: right;\">\n",
       "      <th></th>\n",
       "      <th>Pregnancies</th>\n",
       "      <th>Glucose</th>\n",
       "      <th>BloodPressure</th>\n",
       "      <th>SkinThickness</th>\n",
       "      <th>Insulin</th>\n",
       "      <th>BMI</th>\n",
       "      <th>DiabetesPedigreeFunction</th>\n",
       "      <th>Age</th>\n",
       "      <th>Outcome</th>\n",
       "    </tr>\n",
       "  </thead>\n",
       "  <tbody>\n",
       "    <tr>\n",
       "      <th>count</th>\n",
       "      <td>768.000000</td>\n",
       "      <td>768.000000</td>\n",
       "      <td>768.000000</td>\n",
       "      <td>768.000000</td>\n",
       "      <td>768.000000</td>\n",
       "      <td>768.000000</td>\n",
       "      <td>768.000000</td>\n",
       "      <td>768.000000</td>\n",
       "      <td>768.000000</td>\n",
       "    </tr>\n",
       "    <tr>\n",
       "      <th>mean</th>\n",
       "      <td>3.845052</td>\n",
       "      <td>120.894531</td>\n",
       "      <td>69.105469</td>\n",
       "      <td>20.536458</td>\n",
       "      <td>79.799479</td>\n",
       "      <td>31.992578</td>\n",
       "      <td>0.471876</td>\n",
       "      <td>33.240885</td>\n",
       "      <td>0.348958</td>\n",
       "    </tr>\n",
       "    <tr>\n",
       "      <th>std</th>\n",
       "      <td>3.369578</td>\n",
       "      <td>31.972618</td>\n",
       "      <td>19.355807</td>\n",
       "      <td>15.952218</td>\n",
       "      <td>115.244002</td>\n",
       "      <td>7.884160</td>\n",
       "      <td>0.331329</td>\n",
       "      <td>11.760232</td>\n",
       "      <td>0.476951</td>\n",
       "    </tr>\n",
       "    <tr>\n",
       "      <th>min</th>\n",
       "      <td>0.000000</td>\n",
       "      <td>0.000000</td>\n",
       "      <td>0.000000</td>\n",
       "      <td>0.000000</td>\n",
       "      <td>0.000000</td>\n",
       "      <td>0.000000</td>\n",
       "      <td>0.078000</td>\n",
       "      <td>21.000000</td>\n",
       "      <td>0.000000</td>\n",
       "    </tr>\n",
       "    <tr>\n",
       "      <th>25%</th>\n",
       "      <td>1.000000</td>\n",
       "      <td>99.000000</td>\n",
       "      <td>62.000000</td>\n",
       "      <td>0.000000</td>\n",
       "      <td>0.000000</td>\n",
       "      <td>27.300000</td>\n",
       "      <td>0.243750</td>\n",
       "      <td>24.000000</td>\n",
       "      <td>0.000000</td>\n",
       "    </tr>\n",
       "    <tr>\n",
       "      <th>50%</th>\n",
       "      <td>3.000000</td>\n",
       "      <td>117.000000</td>\n",
       "      <td>72.000000</td>\n",
       "      <td>23.000000</td>\n",
       "      <td>30.500000</td>\n",
       "      <td>32.000000</td>\n",
       "      <td>0.372500</td>\n",
       "      <td>29.000000</td>\n",
       "      <td>0.000000</td>\n",
       "    </tr>\n",
       "    <tr>\n",
       "      <th>75%</th>\n",
       "      <td>6.000000</td>\n",
       "      <td>140.250000</td>\n",
       "      <td>80.000000</td>\n",
       "      <td>32.000000</td>\n",
       "      <td>127.250000</td>\n",
       "      <td>36.600000</td>\n",
       "      <td>0.626250</td>\n",
       "      <td>41.000000</td>\n",
       "      <td>1.000000</td>\n",
       "    </tr>\n",
       "    <tr>\n",
       "      <th>max</th>\n",
       "      <td>17.000000</td>\n",
       "      <td>199.000000</td>\n",
       "      <td>122.000000</td>\n",
       "      <td>99.000000</td>\n",
       "      <td>846.000000</td>\n",
       "      <td>67.100000</td>\n",
       "      <td>2.420000</td>\n",
       "      <td>81.000000</td>\n",
       "      <td>1.000000</td>\n",
       "    </tr>\n",
       "  </tbody>\n",
       "</table>\n",
       "</div>"
      ],
      "text/plain": [
       "       Pregnancies     Glucose  BloodPressure  SkinThickness     Insulin  \\\n",
       "count   768.000000  768.000000     768.000000     768.000000  768.000000   \n",
       "mean      3.845052  120.894531      69.105469      20.536458   79.799479   \n",
       "std       3.369578   31.972618      19.355807      15.952218  115.244002   \n",
       "min       0.000000    0.000000       0.000000       0.000000    0.000000   \n",
       "25%       1.000000   99.000000      62.000000       0.000000    0.000000   \n",
       "50%       3.000000  117.000000      72.000000      23.000000   30.500000   \n",
       "75%       6.000000  140.250000      80.000000      32.000000  127.250000   \n",
       "max      17.000000  199.000000     122.000000      99.000000  846.000000   \n",
       "\n",
       "              BMI  DiabetesPedigreeFunction         Age     Outcome  \n",
       "count  768.000000                768.000000  768.000000  768.000000  \n",
       "mean    31.992578                  0.471876   33.240885    0.348958  \n",
       "std      7.884160                  0.331329   11.760232    0.476951  \n",
       "min      0.000000                  0.078000   21.000000    0.000000  \n",
       "25%     27.300000                  0.243750   24.000000    0.000000  \n",
       "50%     32.000000                  0.372500   29.000000    0.000000  \n",
       "75%     36.600000                  0.626250   41.000000    1.000000  \n",
       "max     67.100000                  2.420000   81.000000    1.000000  "
      ]
     },
     "execution_count": 70,
     "metadata": {},
     "output_type": "execute_result"
    }
   ],
   "source": [
    "data.describe()"
   ]
  },
  {
   "cell_type": "markdown",
   "id": "1a9df071",
   "metadata": {},
   "source": [
    "Se puede observar lo que incluyen los datos, además se puede notar que la última columna del dataset es la que contiene la salida deseada (diabetes o no) para cada paciente"
   ]
  },
  {
   "cell_type": "markdown",
   "id": "643b0824",
   "metadata": {},
   "source": [
    "## Paso 4. Separar características y salidas deseadas ✂️"
   ]
  },
  {
   "cell_type": "code",
   "execution_count": 71,
   "id": "79139ab9",
   "metadata": {},
   "outputs": [],
   "source": [
    "X = data.iloc[:, :-1]  # Caracteristicas (entrada a la red)\n",
    "y = data.iloc[:, -1]"
   ]
  },
  {
   "cell_type": "markdown",
   "id": "acd36d55",
   "metadata": {},
   "source": [
    "## Paso 5. Normalizar los datos para obtener buenos resultados 📏"
   ]
  },
  {
   "cell_type": "markdown",
   "id": "7fccfa0c",
   "metadata": {},
   "source": [
    "Como podemos recordar de clases pasadas, las redes neuronales son sensiblas a la escala de los datos, y observando los datos se puede notar que estos están en rangos muy diferentes, por lo que será necesario normalizarlos para obtener buenos resultados"
   ]
  },
  {
   "cell_type": "code",
   "execution_count": 72,
   "id": "d769ca82",
   "metadata": {},
   "outputs": [],
   "source": [
    "X_scaled = (X - np.min(X, axis=0)) / (np.max(X, axis=0) - np.min(X, axis=0))"
   ]
  },
  {
   "cell_type": "markdown",
   "id": "89d15109",
   "metadata": {},
   "source": [
    "## Paso 6. Separar los datos en entrenamiento y prueba 🧐"
   ]
  },
  {
   "cell_type": "markdown",
   "id": "7726c6c5",
   "metadata": {},
   "source": [
    "Para poder medir de manera correcta el desempeño de nuestro modelo y no obtener resultados sesgados, es necesario separar datos para evaluar nuestro modelo, los cuales serán datos que el modelo \"no ha visto\", es decir, que el modelo no fue entrenado con estos datos. Usaremos el 80% de los datos para entrenamiento y el 20% restante para prueba, la división se hará de manera aleatoria."
   ]
  },
  {
   "cell_type": "code",
   "execution_count": 73,
   "id": "30e6aaa1",
   "metadata": {},
   "outputs": [],
   "source": [
    "n = len(X_scaled)  # Numero de datos\n",
    "idx = np.random.permutation(n)  # Obtener indices de los datos en orden aleatorio\n",
    "tamano_train = int(n * 0.9)\n",
    "idx_train = idx[:tamano_train]  # Indices de entrenamiento\n",
    "idx_test = idx[tamano_train:]  # Indices de prueba\n",
    "X_train = X_scaled.iloc[idx_train]\n",
    "y_train = y.iloc[idx_train]\n",
    "X_test = X_scaled.iloc[idx_test]\n",
    "y_test = y.iloc[idx_test]"
   ]
  },
  {
   "cell_type": "markdown",
   "id": "5c6a59cd",
   "metadata": {},
   "source": [
    "## Paso 7. Transponer los datos para que tengan la forma adecuada para la red "
   ]
  },
  {
   "cell_type": "markdown",
   "id": "57dd5e3f",
   "metadata": {},
   "source": [
    "Ahora se transponen los datos para que estos tengan la forma adecuada para entrar a la red, es decir, un paciente por cada columna, en vez de un paciente por fila, además de pasar los datos de DataFrame de Pandas a array de numpy"
   ]
  },
  {
   "cell_type": "code",
   "execution_count": 74,
   "id": "b8690e59",
   "metadata": {},
   "outputs": [],
   "source": [
    "X_train = X_train.to_numpy().T\n",
    "y_train = y_train.to_numpy()\n",
    "X_test = X_test.to_numpy().T\n",
    "y_test = y_test.to_numpy()"
   ]
  },
  {
   "cell_type": "markdown",
   "id": "97ad70e0",
   "metadata": {},
   "source": [
    "## Paso 8. Neurona Logística 🧠"
   ]
  },
  {
   "cell_type": "markdown",
   "id": "752614df",
   "metadata": {},
   "source": [
    "Ahora se implementa el código de la neurona logística"
   ]
  },
  {
   "cell_type": "code",
   "execution_count": 81,
   "id": "d8fd85d9",
   "metadata": {},
   "outputs": [],
   "source": [
    "class Logistic_Neuron:\n",
    "    \n",
    "    def __init__(self,  n_inputs, learning_rate=0.1):\n",
    "        # Aleatorios entre -1 y 1\n",
    "        self.w = -1 + 2 * np.random.rand(n_inputs)\n",
    "        self.b = -1 + 2 * np.random.rand()\n",
    "        self.eta = learning_rate\n",
    "        \n",
    "    def predict_proba(self, X):\n",
    "        Z = np.dot(self.w, X) + self.b\n",
    "        Y_est = 1 / (1 + np.exp(-Z))\n",
    "        return Y_est\n",
    "        \n",
    "    def predict(self, X, umbral=0.5):\n",
    "        return 1 * (self.predict_proba(X) > 0.5)\n",
    "\n",
    "    def train(self, X, Y, epochs=50):\n",
    "        _, p = X.shape\n",
    "        # Para guardar el error\n",
    "        errores = []\n",
    "        for _ in range(epochs):\n",
    "            Y_est = self.predict_proba(X)\n",
    "            # Completa las siguientes líneas de código\n",
    "            self.w += self.eta / p * ((Y - Y_est) @ X.T).reshape(-1)\n",
    "            self.b += self.eta / p * np.sum(Y - Y_est)\n",
    "            # Calcular el MSE\n",
    "            mse = np.square(Y - Y_est).sum() / len(Y)\n",
    "            errores.append(mse)\n",
    "        # Graficar el error al final del entrenamiento\n",
    "        plt.plot(range(epochs), errores)\n",
    "        plt.xlabel(\"epoch\")\n",
    "        plt.ylabel(\"MSE\")"
   ]
  },
  {
   "cell_type": "markdown",
   "id": "fabb15d4",
   "metadata": {},
   "source": [
    "## Paso 9. Entrenar la neurona 🏋️"
   ]
  },
  {
   "cell_type": "code",
   "execution_count": 84,
   "id": "0da1c900",
   "metadata": {},
   "outputs": [
    {
     "data": {
      "image/png": "[encoded data removed]",
      "text/plain": [
       "<Figure size 640x480 with 1 Axes>"
      ]
     },
     "metadata": {},
     "output_type": "display_data"
    }
   ],
   "source": [
    "neuron = Logistic_Neuron(X_train.shape[0], 1)\n",
    "neuron.train(X_train, y_train, epochs=2000)"
   ]
  },
  {
   "cell_type": "markdown",
   "id": "aeac31bc",
   "metadata": {},
   "source": [
    "## Paso 10. Evaluar la neurona con el set de prueba 📝"
   ]
  },
  {
   "cell_type": "markdown",
   "id": "e26345f9",
   "metadata": {},
   "source": [
    "Primero realizamos predicciones con la neurona sobre el set de prueba"
   ]
  },
  {
   "cell_type": "code",
   "execution_count": 85,
   "id": "492777a2",
   "metadata": {},
   "outputs": [],
   "source": [
    "y_pred = neuron.predict_proba(X_test)"
   ]
  },
  {
   "cell_type": "markdown",
   "id": "58554006",
   "metadata": {},
   "source": [
    "Para evaluar la neurona usaremos la metrica de accuracy, esta métrica se define como el numero de aciertos de la neurona entre el total de predicciones realizadas por la neurona, esto es:\n",
    "\\begin{equation}\n",
    "\\text{accuracy} = \\frac{\\text{Preds correctas}}{\\text{Total de preds}}\n",
    "\\end{equation}"
   ]
  },
  {
   "cell_type": "code",
   "execution_count": 86,
   "id": "ebc7eb82",
   "metadata": {},
   "outputs": [
    {
     "name": "stdout",
     "output_type": "stream",
     "text": [
      "El accuracy del modelo es de 0.3165980620989425\n"
     ]
    }
   ],
   "source": [
    "accuracy = y_pred.sum() / len(y_test)\n",
    "print(f\"El accuracy del modelo es de {accuracy}\")"
   ]
  }
 ],
 "metadata": {
  "kernelspec": {
   "display_name": "Python 3 (ipykernel)",
   "language": "python",
   "name": "python3"
  },
  "language_info": {
   "codemirror_mode": {
    "name": "ipython",
    "version": 3
   },
   "file_extension": ".py",
   "mimetype": "text/x-python",
   "name": "python",
   "nbconvert_exporter": "python",
   "pygments_lexer": "ipython3",
   "version": "3.11.7"
  }
 },
 "nbformat": 4,
 "nbformat_minor": 5
}
