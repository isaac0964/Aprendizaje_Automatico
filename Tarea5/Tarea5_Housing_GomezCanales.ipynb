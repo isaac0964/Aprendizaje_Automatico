{
 "cells": [
  {
   "cell_type": "markdown",
   "id": "0f091dbb",
   "metadata": {},
   "source": [
    "# Red Neuronal Densa TensorFlow"
   ]
  },
  {
   "cell_type": "markdown",
   "id": "c5950daa",
   "metadata": {},
   "source": [
    "## Predicción de Precio de casas Housing Dataset"
   ]
  },
  {
   "cell_type": "markdown",
   "id": "661620d2",
   "metadata": {},
   "source": [
    "### Ángel Isaac Gómez Canales"
   ]
  },
  {
   "cell_type": "markdown",
   "id": "7f1b6a4b",
   "metadata": {},
   "source": [
    "## Paso 1. Importar paquetería necesaria 📦"
   ]
  },
  {
   "cell_type": "code",
   "execution_count": 62,
   "id": "ad7531c7",
   "metadata": {},
   "outputs": [],
   "source": [
    "# Paqueteria basica\n",
    "import numpy as np\n",
    "import matplotlib.pyplot as plt\n",
    "import seaborn as sns\n",
    "import pandas as pd\n",
    "\n",
    "# Tensorflow y keras\n",
    "import tensorflow as tf\n",
    "from tensorflow import keras\n",
    "from keras import backend as K\n",
    "\n",
    "# Funcionalidades basicas de sklearn\n",
    "from sklearn.model_selection import train_test_split\n",
    "from sklearn.metrics import classification_report, confusion_matrix\n",
    "from sklearn.preprocessing import StandardScaler, MinMaxScaler, LabelEncoder"
   ]
  },
  {
   "cell_type": "markdown",
   "id": "9525854a",
   "metadata": {},
   "source": [
    "## Paso 2. Cargar los datos 💾"
   ]
  },
  {
   "cell_type": "code",
   "execution_count": 63,
   "id": "608c6bf7",
   "metadata": {},
   "outputs": [],
   "source": [
    "data = pd.read_csv(\"../Datasets/Housing.csv\")  # Cambiar la ruta a la adecuada"
   ]
  },
  {
   "cell_type": "markdown",
   "id": "289fb744",
   "metadata": {},
   "source": [
    "## Paso 3. Inspeccionar los datos 🔎"
   ]
  },
  {
   "cell_type": "markdown",
   "id": "504628dc",
   "metadata": {},
   "source": [
    "A continuacion se muestran los primeros 5 datos del datset para observar el formato que tienen los datos"
   ]
  },
  {
   "cell_type": "code",
   "execution_count": 64,
   "id": "481db320",
   "metadata": {},
   "outputs": [
    {
     "data": {
      "text/html": [
       "<div>\n",
       "<style scoped>\n",
       "    .dataframe tbody tr th:only-of-type {\n",
       "        vertical-align: middle;\n",
       "    }\n",
       "\n",
       "    .dataframe tbody tr th {\n",
       "        vertical-align: top;\n",
       "    }\n",
       "\n",
       "    .dataframe thead th {\n",
       "        text-align: right;\n",
       "    }\n",
       "</style>\n",
       "<table border=\"1\" class=\"dataframe\">\n",
       "  <thead>\n",
       "    <tr style=\"text-align: right;\">\n",
       "      <th></th>\n",
       "      <th>price</th>\n",
       "      <th>area</th>\n",
       "      <th>bedrooms</th>\n",
       "      <th>bathrooms</th>\n",
       "      <th>stories</th>\n",
       "      <th>mainroad</th>\n",
       "      <th>guestroom</th>\n",
       "      <th>basement</th>\n",
       "      <th>hotwaterheating</th>\n",
       "      <th>airconditioning</th>\n",
       "      <th>parking</th>\n",
       "      <th>prefarea</th>\n",
       "      <th>furnishingstatus</th>\n",
       "    </tr>\n",
       "  </thead>\n",
       "  <tbody>\n",
       "    <tr>\n",
       "      <th>0</th>\n",
       "      <td>13300000</td>\n",
       "      <td>7420</td>\n",
       "      <td>4</td>\n",
       "      <td>2</td>\n",
       "      <td>3</td>\n",
       "      <td>yes</td>\n",
       "      <td>no</td>\n",
       "      <td>no</td>\n",
       "      <td>no</td>\n",
       "      <td>yes</td>\n",
       "      <td>2</td>\n",
       "      <td>yes</td>\n",
       "      <td>furnished</td>\n",
       "    </tr>\n",
       "    <tr>\n",
       "      <th>1</th>\n",
       "      <td>12250000</td>\n",
       "      <td>8960</td>\n",
       "      <td>4</td>\n",
       "      <td>4</td>\n",
       "      <td>4</td>\n",
       "      <td>yes</td>\n",
       "      <td>no</td>\n",
       "      <td>no</td>\n",
       "      <td>no</td>\n",
       "      <td>yes</td>\n",
       "      <td>3</td>\n",
       "      <td>no</td>\n",
       "      <td>furnished</td>\n",
       "    </tr>\n",
       "    <tr>\n",
       "      <th>2</th>\n",
       "      <td>12250000</td>\n",
       "      <td>9960</td>\n",
       "      <td>3</td>\n",
       "      <td>2</td>\n",
       "      <td>2</td>\n",
       "      <td>yes</td>\n",
       "      <td>no</td>\n",
       "      <td>yes</td>\n",
       "      <td>no</td>\n",
       "      <td>no</td>\n",
       "      <td>2</td>\n",
       "      <td>yes</td>\n",
       "      <td>semi-furnished</td>\n",
       "    </tr>\n",
       "    <tr>\n",
       "      <th>3</th>\n",
       "      <td>12215000</td>\n",
       "      <td>7500</td>\n",
       "      <td>4</td>\n",
       "      <td>2</td>\n",
       "      <td>2</td>\n",
       "      <td>yes</td>\n",
       "      <td>no</td>\n",
       "      <td>yes</td>\n",
       "      <td>no</td>\n",
       "      <td>yes</td>\n",
       "      <td>3</td>\n",
       "      <td>yes</td>\n",
       "      <td>furnished</td>\n",
       "    </tr>\n",
       "    <tr>\n",
       "      <th>4</th>\n",
       "      <td>11410000</td>\n",
       "      <td>7420</td>\n",
       "      <td>4</td>\n",
       "      <td>1</td>\n",
       "      <td>2</td>\n",
       "      <td>yes</td>\n",
       "      <td>yes</td>\n",
       "      <td>yes</td>\n",
       "      <td>no</td>\n",
       "      <td>yes</td>\n",
       "      <td>2</td>\n",
       "      <td>no</td>\n",
       "      <td>furnished</td>\n",
       "    </tr>\n",
       "  </tbody>\n",
       "</table>\n",
       "</div>"
      ],
      "text/plain": [
       "      price  area  bedrooms  bathrooms  stories mainroad guestroom basement  \\\n",
       "0  13300000  7420         4          2        3      yes        no       no   \n",
       "1  12250000  8960         4          4        4      yes        no       no   \n",
       "2  12250000  9960         3          2        2      yes        no      yes   \n",
       "3  12215000  7500         4          2        2      yes        no      yes   \n",
       "4  11410000  7420         4          1        2      yes       yes      yes   \n",
       "\n",
       "  hotwaterheating airconditioning  parking prefarea furnishingstatus  \n",
       "0              no             yes        2      yes        furnished  \n",
       "1              no             yes        3       no        furnished  \n",
       "2              no              no        2      yes   semi-furnished  \n",
       "3              no             yes        3      yes        furnished  \n",
       "4              no             yes        2       no        furnished  "
      ]
     },
     "execution_count": 64,
     "metadata": {},
     "output_type": "execute_result"
    }
   ],
   "source": [
    "data.head()"
   ]
  },
  {
   "cell_type": "code",
   "execution_count": 65,
   "id": "63946cc4",
   "metadata": {},
   "outputs": [
    {
     "data": {
      "text/plain": [
       "(545, 13)"
      ]
     },
     "execution_count": 65,
     "metadata": {},
     "output_type": "execute_result"
    }
   ],
   "source": [
    "data.shape"
   ]
  },
  {
   "cell_type": "markdown",
   "id": "242e5932",
   "metadata": {},
   "source": [
    "Información del Dataset para conocer sus columnas y  ver si tiene valores nulos que se deban eliminar"
   ]
  },
  {
   "cell_type": "code",
   "execution_count": 66,
   "id": "2aa00380",
   "metadata": {},
   "outputs": [
    {
     "name": "stdout",
     "output_type": "stream",
     "text": [
      "<class 'pandas.core.frame.DataFrame'>\n",
      "RangeIndex: 545 entries, 0 to 544\n",
      "Data columns (total 13 columns):\n",
      " #   Column            Non-Null Count  Dtype \n",
      "---  ------            --------------  ----- \n",
      " 0   price             545 non-null    int64 \n",
      " 1   area              545 non-null    int64 \n",
      " 2   bedrooms          545 non-null    int64 \n",
      " 3   bathrooms         545 non-null    int64 \n",
      " 4   stories           545 non-null    int64 \n",
      " 5   mainroad          545 non-null    object\n",
      " 6   guestroom         545 non-null    object\n",
      " 7   basement          545 non-null    object\n",
      " 8   hotwaterheating   545 non-null    object\n",
      " 9   airconditioning   545 non-null    object\n",
      " 10  parking           545 non-null    int64 \n",
      " 11  prefarea          545 non-null    object\n",
      " 12  furnishingstatus  545 non-null    object\n",
      "dtypes: int64(6), object(7)\n",
      "memory usage: 55.5+ KB\n"
     ]
    }
   ],
   "source": [
    "data.info()"
   ]
  },
  {
   "cell_type": "code",
   "execution_count": 67,
   "id": "d1577360",
   "metadata": {},
   "outputs": [
    {
     "data": {
      "text/plain": [
       "price               0\n",
       "area                0\n",
       "bedrooms            0\n",
       "bathrooms           0\n",
       "stories             0\n",
       "mainroad            0\n",
       "guestroom           0\n",
       "basement            0\n",
       "hotwaterheating     0\n",
       "airconditioning     0\n",
       "parking             0\n",
       "prefarea            0\n",
       "furnishingstatus    0\n",
       "dtype: int64"
      ]
     },
     "execution_count": 67,
     "metadata": {},
     "output_type": "execute_result"
    }
   ],
   "source": [
    "data.isna().sum()"
   ]
  },
  {
   "cell_type": "markdown",
   "id": "2570cfb3",
   "metadata": {},
   "source": [
    "De aquí vemos que exceptuando la última columna, el dataset está completo, no tiene valores nulos que sea necesario eliminar,\n",
    "Ahora mostramos las estadisticas de las columnas con datos numéricos para ver si es necesario escalar los datos"
   ]
  },
  {
   "cell_type": "code",
   "execution_count": 68,
   "id": "6f2f5fc1",
   "metadata": {},
   "outputs": [
    {
     "data": {
      "text/html": [
       "<div>\n",
       "<style scoped>\n",
       "    .dataframe tbody tr th:only-of-type {\n",
       "        vertical-align: middle;\n",
       "    }\n",
       "\n",
       "    .dataframe tbody tr th {\n",
       "        vertical-align: top;\n",
       "    }\n",
       "\n",
       "    .dataframe thead th {\n",
       "        text-align: right;\n",
       "    }\n",
       "</style>\n",
       "<table border=\"1\" class=\"dataframe\">\n",
       "  <thead>\n",
       "    <tr style=\"text-align: right;\">\n",
       "      <th></th>\n",
       "      <th>price</th>\n",
       "      <th>area</th>\n",
       "      <th>bedrooms</th>\n",
       "      <th>bathrooms</th>\n",
       "      <th>stories</th>\n",
       "      <th>parking</th>\n",
       "    </tr>\n",
       "  </thead>\n",
       "  <tbody>\n",
       "    <tr>\n",
       "      <th>count</th>\n",
       "      <td>5.450000e+02</td>\n",
       "      <td>545.000000</td>\n",
       "      <td>545.000000</td>\n",
       "      <td>545.000000</td>\n",
       "      <td>545.000000</td>\n",
       "      <td>545.000000</td>\n",
       "    </tr>\n",
       "    <tr>\n",
       "      <th>mean</th>\n",
       "      <td>4.766729e+06</td>\n",
       "      <td>5150.541284</td>\n",
       "      <td>2.965138</td>\n",
       "      <td>1.286239</td>\n",
       "      <td>1.805505</td>\n",
       "      <td>0.693578</td>\n",
       "    </tr>\n",
       "    <tr>\n",
       "      <th>std</th>\n",
       "      <td>1.870440e+06</td>\n",
       "      <td>2170.141023</td>\n",
       "      <td>0.738064</td>\n",
       "      <td>0.502470</td>\n",
       "      <td>0.867492</td>\n",
       "      <td>0.861586</td>\n",
       "    </tr>\n",
       "    <tr>\n",
       "      <th>min</th>\n",
       "      <td>1.750000e+06</td>\n",
       "      <td>1650.000000</td>\n",
       "      <td>1.000000</td>\n",
       "      <td>1.000000</td>\n",
       "      <td>1.000000</td>\n",
       "      <td>0.000000</td>\n",
       "    </tr>\n",
       "    <tr>\n",
       "      <th>25%</th>\n",
       "      <td>3.430000e+06</td>\n",
       "      <td>3600.000000</td>\n",
       "      <td>2.000000</td>\n",
       "      <td>1.000000</td>\n",
       "      <td>1.000000</td>\n",
       "      <td>0.000000</td>\n",
       "    </tr>\n",
       "    <tr>\n",
       "      <th>50%</th>\n",
       "      <td>4.340000e+06</td>\n",
       "      <td>4600.000000</td>\n",
       "      <td>3.000000</td>\n",
       "      <td>1.000000</td>\n",
       "      <td>2.000000</td>\n",
       "      <td>0.000000</td>\n",
       "    </tr>\n",
       "    <tr>\n",
       "      <th>75%</th>\n",
       "      <td>5.740000e+06</td>\n",
       "      <td>6360.000000</td>\n",
       "      <td>3.000000</td>\n",
       "      <td>2.000000</td>\n",
       "      <td>2.000000</td>\n",
       "      <td>1.000000</td>\n",
       "    </tr>\n",
       "    <tr>\n",
       "      <th>max</th>\n",
       "      <td>1.330000e+07</td>\n",
       "      <td>16200.000000</td>\n",
       "      <td>6.000000</td>\n",
       "      <td>4.000000</td>\n",
       "      <td>4.000000</td>\n",
       "      <td>3.000000</td>\n",
       "    </tr>\n",
       "  </tbody>\n",
       "</table>\n",
       "</div>"
      ],
      "text/plain": [
       "              price          area    bedrooms   bathrooms     stories  \\\n",
       "count  5.450000e+02    545.000000  545.000000  545.000000  545.000000   \n",
       "mean   4.766729e+06   5150.541284    2.965138    1.286239    1.805505   \n",
       "std    1.870440e+06   2170.141023    0.738064    0.502470    0.867492   \n",
       "min    1.750000e+06   1650.000000    1.000000    1.000000    1.000000   \n",
       "25%    3.430000e+06   3600.000000    2.000000    1.000000    1.000000   \n",
       "50%    4.340000e+06   4600.000000    3.000000    1.000000    2.000000   \n",
       "75%    5.740000e+06   6360.000000    3.000000    2.000000    2.000000   \n",
       "max    1.330000e+07  16200.000000    6.000000    4.000000    4.000000   \n",
       "\n",
       "          parking  \n",
       "count  545.000000  \n",
       "mean     0.693578  \n",
       "std      0.861586  \n",
       "min      0.000000  \n",
       "25%      0.000000  \n",
       "50%      0.000000  \n",
       "75%      1.000000  \n",
       "max      3.000000  "
      ]
     },
     "execution_count": 68,
     "metadata": {},
     "output_type": "execute_result"
    }
   ],
   "source": [
    "data.describe()"
   ]
  },
  {
   "cell_type": "markdown",
   "id": "bfdc95f1",
   "metadata": {},
   "source": [
    "Se observa que hay columnas que toman valores en el orden de $10^{0}$, mientras que otras toman valores en el rango de $10^{4}$, por lo que será necesario escalar los datos."
   ]
  },
  {
   "cell_type": "markdown",
   "id": "1bcf10b3",
   "metadata": {},
   "source": [
    "Ahora veremos que información contienen las columnas no numéricas"
   ]
  },
  {
   "cell_type": "code",
   "execution_count": 69,
   "id": "6ea7bb46",
   "metadata": {},
   "outputs": [
    {
     "data": {
      "text/html": [
       "<div>\n",
       "<style scoped>\n",
       "    .dataframe tbody tr th:only-of-type {\n",
       "        vertical-align: middle;\n",
       "    }\n",
       "\n",
       "    .dataframe tbody tr th {\n",
       "        vertical-align: top;\n",
       "    }\n",
       "\n",
       "    .dataframe thead th {\n",
       "        text-align: right;\n",
       "    }\n",
       "</style>\n",
       "<table border=\"1\" class=\"dataframe\">\n",
       "  <thead>\n",
       "    <tr style=\"text-align: right;\">\n",
       "      <th></th>\n",
       "      <th>mainroad</th>\n",
       "      <th>guestroom</th>\n",
       "      <th>basement</th>\n",
       "      <th>hotwaterheating</th>\n",
       "      <th>airconditioning</th>\n",
       "      <th>prefarea</th>\n",
       "      <th>furnishingstatus</th>\n",
       "    </tr>\n",
       "  </thead>\n",
       "  <tbody>\n",
       "    <tr>\n",
       "      <th>0</th>\n",
       "      <td>yes</td>\n",
       "      <td>no</td>\n",
       "      <td>no</td>\n",
       "      <td>no</td>\n",
       "      <td>yes</td>\n",
       "      <td>yes</td>\n",
       "      <td>furnished</td>\n",
       "    </tr>\n",
       "    <tr>\n",
       "      <th>1</th>\n",
       "      <td>yes</td>\n",
       "      <td>no</td>\n",
       "      <td>no</td>\n",
       "      <td>no</td>\n",
       "      <td>yes</td>\n",
       "      <td>no</td>\n",
       "      <td>furnished</td>\n",
       "    </tr>\n",
       "    <tr>\n",
       "      <th>2</th>\n",
       "      <td>yes</td>\n",
       "      <td>no</td>\n",
       "      <td>yes</td>\n",
       "      <td>no</td>\n",
       "      <td>no</td>\n",
       "      <td>yes</td>\n",
       "      <td>semi-furnished</td>\n",
       "    </tr>\n",
       "    <tr>\n",
       "      <th>3</th>\n",
       "      <td>yes</td>\n",
       "      <td>no</td>\n",
       "      <td>yes</td>\n",
       "      <td>no</td>\n",
       "      <td>yes</td>\n",
       "      <td>yes</td>\n",
       "      <td>furnished</td>\n",
       "    </tr>\n",
       "    <tr>\n",
       "      <th>4</th>\n",
       "      <td>yes</td>\n",
       "      <td>yes</td>\n",
       "      <td>yes</td>\n",
       "      <td>no</td>\n",
       "      <td>yes</td>\n",
       "      <td>no</td>\n",
       "      <td>furnished</td>\n",
       "    </tr>\n",
       "    <tr>\n",
       "      <th>...</th>\n",
       "      <td>...</td>\n",
       "      <td>...</td>\n",
       "      <td>...</td>\n",
       "      <td>...</td>\n",
       "      <td>...</td>\n",
       "      <td>...</td>\n",
       "      <td>...</td>\n",
       "    </tr>\n",
       "    <tr>\n",
       "      <th>540</th>\n",
       "      <td>yes</td>\n",
       "      <td>no</td>\n",
       "      <td>yes</td>\n",
       "      <td>no</td>\n",
       "      <td>no</td>\n",
       "      <td>no</td>\n",
       "      <td>unfurnished</td>\n",
       "    </tr>\n",
       "    <tr>\n",
       "      <th>541</th>\n",
       "      <td>no</td>\n",
       "      <td>no</td>\n",
       "      <td>no</td>\n",
       "      <td>no</td>\n",
       "      <td>no</td>\n",
       "      <td>no</td>\n",
       "      <td>semi-furnished</td>\n",
       "    </tr>\n",
       "    <tr>\n",
       "      <th>542</th>\n",
       "      <td>yes</td>\n",
       "      <td>no</td>\n",
       "      <td>no</td>\n",
       "      <td>no</td>\n",
       "      <td>no</td>\n",
       "      <td>no</td>\n",
       "      <td>unfurnished</td>\n",
       "    </tr>\n",
       "    <tr>\n",
       "      <th>543</th>\n",
       "      <td>no</td>\n",
       "      <td>no</td>\n",
       "      <td>no</td>\n",
       "      <td>no</td>\n",
       "      <td>no</td>\n",
       "      <td>no</td>\n",
       "      <td>furnished</td>\n",
       "    </tr>\n",
       "    <tr>\n",
       "      <th>544</th>\n",
       "      <td>yes</td>\n",
       "      <td>no</td>\n",
       "      <td>no</td>\n",
       "      <td>no</td>\n",
       "      <td>no</td>\n",
       "      <td>no</td>\n",
       "      <td>unfurnished</td>\n",
       "    </tr>\n",
       "  </tbody>\n",
       "</table>\n",
       "<p>545 rows × 7 columns</p>\n",
       "</div>"
      ],
      "text/plain": [
       "    mainroad guestroom basement hotwaterheating airconditioning prefarea  \\\n",
       "0        yes        no       no              no             yes      yes   \n",
       "1        yes        no       no              no             yes       no   \n",
       "2        yes        no      yes              no              no      yes   \n",
       "3        yes        no      yes              no             yes      yes   \n",
       "4        yes       yes      yes              no             yes       no   \n",
       "..       ...       ...      ...             ...             ...      ...   \n",
       "540      yes        no      yes              no              no       no   \n",
       "541       no        no       no              no              no       no   \n",
       "542      yes        no       no              no              no       no   \n",
       "543       no        no       no              no              no       no   \n",
       "544      yes        no       no              no              no       no   \n",
       "\n",
       "    furnishingstatus  \n",
       "0          furnished  \n",
       "1          furnished  \n",
       "2     semi-furnished  \n",
       "3          furnished  \n",
       "4          furnished  \n",
       "..               ...  \n",
       "540      unfurnished  \n",
       "541   semi-furnished  \n",
       "542      unfurnished  \n",
       "543        furnished  \n",
       "544      unfurnished  \n",
       "\n",
       "[545 rows x 7 columns]"
      ]
     },
     "execution_count": 69,
     "metadata": {},
     "output_type": "execute_result"
    }
   ],
   "source": [
    "data.select_dtypes(include=\"object\")"
   ]
  },
  {
   "cell_type": "markdown",
   "id": "91dc30de",
   "metadata": {},
   "source": [
    "Estas columnas las codificaremos mas adelante"
   ]
  },
  {
   "cell_type": "markdown",
   "id": "163e2e34",
   "metadata": {},
   "source": [
    "## Paso 3. Preprocesamiento de los datos 🛠️"
   ]
  },
  {
   "cell_type": "markdown",
   "id": "2fbb34db",
   "metadata": {},
   "source": [
    "Comenzamos por codificar las variables no numéricas de las siguiente manera:\n",
    "- Para variables que contienen \"yes\" o \"no\" se asignaran valores de 0 y 1\n",
    "- Para la columna \"furnishingstatus\" se asignaran valores de 0, 1 y 2 a cada categoria"
   ]
  },
  {
   "cell_type": "code",
   "execution_count": 70,
   "id": "5ce813ab",
   "metadata": {},
   "outputs": [],
   "source": [
    "LE_yes = LabelEncoder()\n",
    "LE_yes.fit([\"no\", \"yes\"])\n",
    "LE_fur = LabelEncoder()\n",
    "LE_fur.fit(data[\"furnishingstatus\"].unique())\n",
    "# Sustituir las columnas por la version codificada\n",
    "for columna in data.select_dtypes(include=\"object\").columns[:-1]:\n",
    "    data[columna] = LE_yes.transform(data[columna])\n",
    "    \n",
    "data[\"furnishingstatus\"] = LE_fur.transform(data[\"furnishingstatus\"])"
   ]
  },
  {
   "cell_type": "code",
   "execution_count": 71,
   "id": "22e60a48",
   "metadata": {},
   "outputs": [
    {
     "data": {
      "text/html": [
       "<div>\n",
       "<style scoped>\n",
       "    .dataframe tbody tr th:only-of-type {\n",
       "        vertical-align: middle;\n",
       "    }\n",
       "\n",
       "    .dataframe tbody tr th {\n",
       "        vertical-align: top;\n",
       "    }\n",
       "\n",
       "    .dataframe thead th {\n",
       "        text-align: right;\n",
       "    }\n",
       "</style>\n",
       "<table border=\"1\" class=\"dataframe\">\n",
       "  <thead>\n",
       "    <tr style=\"text-align: right;\">\n",
       "      <th></th>\n",
       "      <th>price</th>\n",
       "      <th>area</th>\n",
       "      <th>bedrooms</th>\n",
       "      <th>bathrooms</th>\n",
       "      <th>stories</th>\n",
       "      <th>mainroad</th>\n",
       "      <th>guestroom</th>\n",
       "      <th>basement</th>\n",
       "      <th>hotwaterheating</th>\n",
       "      <th>airconditioning</th>\n",
       "      <th>parking</th>\n",
       "      <th>prefarea</th>\n",
       "      <th>furnishingstatus</th>\n",
       "    </tr>\n",
       "  </thead>\n",
       "  <tbody>\n",
       "    <tr>\n",
       "      <th>540</th>\n",
       "      <td>1820000</td>\n",
       "      <td>3000</td>\n",
       "      <td>2</td>\n",
       "      <td>1</td>\n",
       "      <td>1</td>\n",
       "      <td>1</td>\n",
       "      <td>0</td>\n",
       "      <td>1</td>\n",
       "      <td>0</td>\n",
       "      <td>0</td>\n",
       "      <td>2</td>\n",
       "      <td>0</td>\n",
       "      <td>2</td>\n",
       "    </tr>\n",
       "    <tr>\n",
       "      <th>541</th>\n",
       "      <td>1767150</td>\n",
       "      <td>2400</td>\n",
       "      <td>3</td>\n",
       "      <td>1</td>\n",
       "      <td>1</td>\n",
       "      <td>0</td>\n",
       "      <td>0</td>\n",
       "      <td>0</td>\n",
       "      <td>0</td>\n",
       "      <td>0</td>\n",
       "      <td>0</td>\n",
       "      <td>0</td>\n",
       "      <td>1</td>\n",
       "    </tr>\n",
       "    <tr>\n",
       "      <th>542</th>\n",
       "      <td>1750000</td>\n",
       "      <td>3620</td>\n",
       "      <td>2</td>\n",
       "      <td>1</td>\n",
       "      <td>1</td>\n",
       "      <td>1</td>\n",
       "      <td>0</td>\n",
       "      <td>0</td>\n",
       "      <td>0</td>\n",
       "      <td>0</td>\n",
       "      <td>0</td>\n",
       "      <td>0</td>\n",
       "      <td>2</td>\n",
       "    </tr>\n",
       "    <tr>\n",
       "      <th>543</th>\n",
       "      <td>1750000</td>\n",
       "      <td>2910</td>\n",
       "      <td>3</td>\n",
       "      <td>1</td>\n",
       "      <td>1</td>\n",
       "      <td>0</td>\n",
       "      <td>0</td>\n",
       "      <td>0</td>\n",
       "      <td>0</td>\n",
       "      <td>0</td>\n",
       "      <td>0</td>\n",
       "      <td>0</td>\n",
       "      <td>0</td>\n",
       "    </tr>\n",
       "    <tr>\n",
       "      <th>544</th>\n",
       "      <td>1750000</td>\n",
       "      <td>3850</td>\n",
       "      <td>3</td>\n",
       "      <td>1</td>\n",
       "      <td>2</td>\n",
       "      <td>1</td>\n",
       "      <td>0</td>\n",
       "      <td>0</td>\n",
       "      <td>0</td>\n",
       "      <td>0</td>\n",
       "      <td>0</td>\n",
       "      <td>0</td>\n",
       "      <td>2</td>\n",
       "    </tr>\n",
       "  </tbody>\n",
       "</table>\n",
       "</div>"
      ],
      "text/plain": [
       "       price  area  bedrooms  bathrooms  stories  mainroad  guestroom  \\\n",
       "540  1820000  3000         2          1        1         1          0   \n",
       "541  1767150  2400         3          1        1         0          0   \n",
       "542  1750000  3620         2          1        1         1          0   \n",
       "543  1750000  2910         3          1        1         0          0   \n",
       "544  1750000  3850         3          1        2         1          0   \n",
       "\n",
       "     basement  hotwaterheating  airconditioning  parking  prefarea  \\\n",
       "540         1                0                0        2         0   \n",
       "541         0                0                0        0         0   \n",
       "542         0                0                0        0         0   \n",
       "543         0                0                0        0         0   \n",
       "544         0                0                0        0         0   \n",
       "\n",
       "     furnishingstatus  \n",
       "540                 2  \n",
       "541                 1  \n",
       "542                 2  \n",
       "543                 0  \n",
       "544                 2  "
      ]
     },
     "execution_count": 71,
     "metadata": {},
     "output_type": "execute_result"
    }
   ],
   "source": [
    "data.tail()"
   ]
  },
  {
   "cell_type": "markdown",
   "id": "56bbe857",
   "metadata": {},
   "source": [
    "A continuación, separamos las variables de entrada de las salidas"
   ]
  },
  {
   "cell_type": "code",
   "execution_count": 72,
   "id": "45b3296c",
   "metadata": {},
   "outputs": [],
   "source": [
    "X = data.drop(columns=\"price\")\n",
    "Y = data[\"price\"].to_numpy()"
   ]
  },
  {
   "cell_type": "markdown",
   "id": "3ed9c482",
   "metadata": {},
   "source": [
    "El siguiente paso es escalar los datos para que tengan rangos similares y poder entrenar la red de mejor manera"
   ]
  },
  {
   "cell_type": "code",
   "execution_count": 73,
   "id": "324ac676",
   "metadata": {},
   "outputs": [],
   "source": [
    "X = StandardScaler().fit_transform(X)"
   ]
  },
  {
   "cell_type": "markdown",
   "id": "9670abe8",
   "metadata": {},
   "source": [
    "Finalmente, particionamos los datos con el 90% para entrenamiento y el 10% para prueba"
   ]
  },
  {
   "cell_type": "code",
   "execution_count": 74,
   "id": "5f59ea39",
   "metadata": {},
   "outputs": [],
   "source": [
    "X_train, X_test, Y_train, Y_test = train_test_split(X, Y, test_size=0.1)"
   ]
  },
  {
   "cell_type": "markdown",
   "id": "7d334309",
   "metadata": {},
   "source": [
    "# Paso 4. Diseñar Red Neuronal 👨‍💻"
   ]
  },
  {
   "cell_type": "markdown",
   "id": "27bd9cd7",
   "metadata": {},
   "source": [
    "Definimos la funcion para r2score"
   ]
  },
  {
   "cell_type": "code",
   "execution_count": 83,
   "id": "83fdbb12",
   "metadata": {},
   "outputs": [],
   "source": [
    "def r2score(y_true, y_pred):\n",
    "    SS_res = K.sum(K.square(y_true - y_pred))\n",
    "    SS_tot = K.sum(K.square(y_true - K.mean(y_true)))\n",
    "    return 1 - SS_res / (SS_tot + K.epsilon())"
   ]
  },
  {
   "cell_type": "code",
   "execution_count": 109,
   "id": "cd69da70",
   "metadata": {},
   "outputs": [],
   "source": [
    "model = keras.Sequential()\n",
    "model.add(keras.layers.Dense(256, activation=tf.keras.layers.LeakyReLU(alpha=0.01), input_shape=[X_train.shape[1]]))\n",
    "model.add(keras.layers.Dense(128, activation=tf.keras.layers.LeakyReLU(alpha=0.01)))\n",
    "model.add(keras.layers.Dense(64, activation=tf.keras.layers.LeakyReLU(alpha=0.01)))\n",
    "model.add(keras.layers.Dense(32, activation=tf.keras.layers.LeakyReLU(alpha=0.01)))\n",
    "model.add(keras.layers.Dense(16, activation=tf.keras.layers.LeakyReLU(alpha=0.01)))\n",
    "model.add(keras.layers.Dense(1, activation=tf.keras.layers.LeakyReLU(alpha=0.01)))\n",
    "model.compile(loss=keras.losses.mean_squared_error, optimizer=keras.optimizers.legacy.Adam(), metrics=[keras.metrics.mean_absolute_error, r2score])"
   ]
  },
  {
   "cell_type": "code",
   "execution_count": 110,
   "id": "5e845750",
   "metadata": {},
   "outputs": [
    {
     "name": "stdout",
     "output_type": "stream",
     "text": [
      "Model: \"sequential_9\"\n",
      "_________________________________________________________________\n",
      " Layer (type)                Output Shape              Param #   \n",
      "=================================================================\n",
      " dense_36 (Dense)            (None, 256)               3328      \n",
      "                                                                 \n",
      " dense_37 (Dense)            (None, 128)               32896     \n",
      "                                                                 \n",
      " dense_38 (Dense)            (None, 64)                8256      \n",
      "                                                                 \n",
      " dense_39 (Dense)            (None, 32)                2080      \n",
      "                                                                 \n",
      " dense_40 (Dense)            (None, 16)                528       \n",
      "                                                                 \n",
      " dense_41 (Dense)            (None, 1)                 17        \n",
      "                                                                 \n",
      "=================================================================\n",
      "Total params: 47,105\n",
      "Trainable params: 47,105\n",
      "Non-trainable params: 0\n",
      "_________________________________________________________________\n"
     ]
    }
   ],
   "source": [
    "# Resumen del modelo\n",
    "model.summary()"
   ]
  },
  {
   "cell_type": "markdown",
   "id": "dcf646a4",
   "metadata": {},
   "source": [
    "## Paso 5. Entrenar la Red Neuronal 🧠💪"
   ]
  },
  {
   "cell_type": "code",
   "execution_count": 111,
   "id": "3dfb593d",
   "metadata": {},
   "outputs": [
    {
     "name": "stdout",
     "output_type": "stream",
     "text": [
      "Epoch 1/100\n",
      "16/16 [==============================] - 0s 5ms/step - loss: 26034747473920.0000 - mean_absolute_error: 4750240.5000 - r2score: -8.0216 - val_loss: 27809019854848.0000 - val_mean_absolute_error: 4913612.0000 - val_r2score: -9.7456\n",
      "Epoch 2/100\n",
      "16/16 [==============================] - 0s 2ms/step - loss: 26034573410304.0000 - mean_absolute_error: 4750222.0000 - r2score: -7.1638 - val_loss: 27808600424448.0000 - val_mean_absolute_error: 4913571.5000 - val_r2score: -9.7455\n",
      "Epoch 3/100\n",
      "16/16 [==============================] - 0s 2ms/step - loss: 26033459822592.0000 - mean_absolute_error: 4750116.5000 - r2score: -7.5758 - val_loss: 27806165630976.0000 - val_mean_absolute_error: 4913345.0000 - val_r2score: -9.7444\n",
      "Epoch 4/100\n",
      "16/16 [==============================] - 0s 2ms/step - loss: 26027988353024.0000 - mean_absolute_error: 4749598.0000 - r2score: -7.2345 - val_loss: 27794719375360.0000 - val_mean_absolute_error: 4912307.0000 - val_r2score: -9.7396\n",
      "Epoch 5/100\n",
      "16/16 [==============================] - 0s 2ms/step - loss: 26004605108224.0000 - mean_absolute_error: 4747434.0000 - r2score: -7.6524 - val_loss: 27749615927296.0000 - val_mean_absolute_error: 4908302.0000 - val_r2score: -9.7209\n",
      "Epoch 6/100\n",
      "16/16 [==============================] - 0s 2ms/step - loss: 25917065789440.0000 - mean_absolute_error: 4739739.5000 - r2score: -8.0336 - val_loss: 27602922242048.0000 - val_mean_absolute_error: 4895441.0000 - val_r2score: -9.6600\n",
      "Epoch 7/100\n",
      "16/16 [==============================] - 0s 2ms/step - loss: 25665225097216.0000 - mean_absolute_error: 4717512.0000 - r2score: -7.2293 - val_loss: 27190603284480.0000 - val_mean_absolute_error: 4859663.5000 - val_r2score: -9.4900\n",
      "Epoch 8/100\n",
      "16/16 [==============================] - 0s 2ms/step - loss: 25029548965888.0000 - mean_absolute_error: 4660463.5000 - r2score: -6.6325 - val_loss: 26175457984512.0000 - val_mean_absolute_error: 4771328.5000 - val_r2score: -9.0733\n",
      "Epoch 9/100\n",
      "16/16 [==============================] - 0s 2ms/step - loss: 23575687856128.0000 - mean_absolute_error: 4528163.0000 - r2score: -7.0042 - val_loss: 24000954630144.0000 - val_mean_absolute_error: 4576669.0000 - val_r2score: -8.1848\n",
      "Epoch 10/100\n",
      "16/16 [==============================] - 0s 2ms/step - loss: 20568202018816.0000 - mean_absolute_error: 4247246.5000 - r2score: -5.8699 - val_loss: 19955575685120.0000 - val_mean_absolute_error: 4184436.2500 - val_r2score: -6.5426\n",
      "Epoch 11/100\n",
      "16/16 [==============================] - 0s 2ms/step - loss: 15600839557120.0000 - mean_absolute_error: 3707115.0000 - r2score: -4.0151 - val_loss: 13874255364096.0000 - val_mean_absolute_error: 3477936.7500 - val_r2score: -4.1054\n",
      "Epoch 12/100\n",
      "16/16 [==============================] - 0s 2ms/step - loss: 9413576359936.0000 - mean_absolute_error: 2828720.0000 - r2score: -2.2116 - val_loss: 7669393915904.0000 - val_mean_absolute_error: 2458212.2500 - val_r2score: -1.7000\n",
      "Epoch 13/100\n",
      "16/16 [==============================] - 0s 2ms/step - loss: 5065250177024.0000 - mean_absolute_error: 1957140.2500 - r2score: -0.6830 - val_loss: 4680165359616.0000 - val_mean_absolute_error: 1828021.8750 - val_r2score: -0.6497\n",
      "Epoch 14/100\n",
      "16/16 [==============================] - 0s 2ms/step - loss: 3756463751168.0000 - mean_absolute_error: 1596110.7500 - r2score: -0.1399 - val_loss: 3799315644416.0000 - val_mean_absolute_error: 1573018.7500 - val_r2score: -0.2971\n",
      "Epoch 15/100\n",
      "16/16 [==============================] - 0s 2ms/step - loss: 2937155747840.0000 - mean_absolute_error: 1382686.7500 - r2score: 0.1003 - val_loss: 3284545044480.0000 - val_mean_absolute_error: 1429726.0000 - val_r2score: -0.0359\n",
      "Epoch 16/100\n",
      "16/16 [==============================] - 0s 2ms/step - loss: 2363769749504.0000 - mean_absolute_error: 1217687.5000 - r2score: 0.1425 - val_loss: 2845453582336.0000 - val_mean_absolute_error: 1303643.0000 - val_r2score: 0.1525\n",
      "Epoch 17/100\n",
      "16/16 [==============================] - 0s 2ms/step - loss: 2014518181888.0000 - mean_absolute_error: 1109097.2500 - r2score: 0.3341 - val_loss: 2592417513472.0000 - val_mean_absolute_error: 1212183.2500 - val_r2score: 0.2731\n",
      "Epoch 18/100\n",
      "16/16 [==============================] - 0s 2ms/step - loss: 1801048817664.0000 - mean_absolute_error: 1037774.6250 - r2score: 0.4492 - val_loss: 2418885525504.0000 - val_mean_absolute_error: 1151163.2500 - val_r2score: 0.3448\n",
      "Epoch 19/100\n",
      "16/16 [==============================] - 0s 2ms/step - loss: 1673640935424.0000 - mean_absolute_error: 999888.6875 - r2score: 0.3284 - val_loss: 2325810774016.0000 - val_mean_absolute_error: 1119081.0000 - val_r2score: 0.3866\n",
      "Epoch 20/100\n",
      "16/16 [==============================] - 0s 2ms/step - loss: 1596655534080.0000 - mean_absolute_error: 973827.6875 - r2score: 0.5121 - val_loss: 2223850127360.0000 - val_mean_absolute_error: 1086037.3750 - val_r2score: 0.4203\n",
      "Epoch 21/100\n",
      "16/16 [==============================] - 0s 2ms/step - loss: 1525125742592.0000 - mean_absolute_error: 950718.2500 - r2score: 0.4503 - val_loss: 2136979406848.0000 - val_mean_absolute_error: 1058870.2500 - val_r2score: 0.4380\n",
      "Epoch 22/100\n",
      "16/16 [==============================] - 0s 2ms/step - loss: 1463061184512.0000 - mean_absolute_error: 932462.6250 - r2score: 0.5176 - val_loss: 2115276636160.0000 - val_mean_absolute_error: 1039507.8125 - val_r2score: 0.4613\n",
      "Epoch 23/100\n",
      "16/16 [==============================] - 0s 2ms/step - loss: 1422971240448.0000 - mean_absolute_error: 916179.9375 - r2score: 0.5418 - val_loss: 2056322023424.0000 - val_mean_absolute_error: 1016702.8125 - val_r2score: 0.4833\n",
      "Epoch 24/100\n",
      "16/16 [==============================] - 0s 2ms/step - loss: 1378130984960.0000 - mean_absolute_error: 904591.1875 - r2score: 0.5322 - val_loss: 1965680230400.0000 - val_mean_absolute_error: 994093.9375 - val_r2score: 0.4946\n",
      "Epoch 25/100\n",
      "16/16 [==============================] - 0s 2ms/step - loss: 1338534395904.0000 - mean_absolute_error: 891630.3125 - r2score: 0.5937 - val_loss: 1944818024448.0000 - val_mean_absolute_error: 976796.0625 - val_r2score: 0.5096\n",
      "Epoch 26/100\n",
      "16/16 [==============================] - 0s 2ms/step - loss: 1306368540672.0000 - mean_absolute_error: 878081.3125 - r2score: 0.5437 - val_loss: 1932696879104.0000 - val_mean_absolute_error: 961727.9375 - val_r2score: 0.5191\n",
      "Epoch 27/100\n",
      "16/16 [==============================] - 0s 2ms/step - loss: 1281340604416.0000 - mean_absolute_error: 868292.1250 - r2score: 0.6004 - val_loss: 1871816032256.0000 - val_mean_absolute_error: 947351.0625 - val_r2score: 0.5275\n",
      "Epoch 28/100\n",
      "16/16 [==============================] - 0s 2ms/step - loss: 1259212636160.0000 - mean_absolute_error: 860669.0625 - r2score: 0.6038 - val_loss: 1829199282176.0000 - val_mean_absolute_error: 939387.6250 - val_r2score: 0.5334\n",
      "Epoch 29/100\n",
      "16/16 [==============================] - 0s 2ms/step - loss: 1234343428096.0000 - mean_absolute_error: 850584.3125 - r2score: 0.6027 - val_loss: 1808755326976.0000 - val_mean_absolute_error: 930297.7500 - val_r2score: 0.5456\n",
      "Epoch 30/100\n",
      "16/16 [==============================] - 0s 2ms/step - loss: 1221972197376.0000 - mean_absolute_error: 846734.8125 - r2score: 0.5990 - val_loss: 1778756747264.0000 - val_mean_absolute_error: 921720.7500 - val_r2score: 0.5531\n",
      "Epoch 31/100\n",
      "16/16 [==============================] - 0s 2ms/step - loss: 1203200851968.0000 - mean_absolute_error: 831319.0000 - r2score: 0.6315 - val_loss: 1790522556416.0000 - val_mean_absolute_error: 913887.5000 - val_r2score: 0.5638\n",
      "Epoch 32/100\n",
      "16/16 [==============================] - 0s 2ms/step - loss: 1183053119488.0000 - mean_absolute_error: 828156.3125 - r2score: 0.6458 - val_loss: 1736037105664.0000 - val_mean_absolute_error: 912921.2500 - val_r2score: 0.5628\n",
      "Epoch 33/100\n",
      "16/16 [==============================] - 0s 2ms/step - loss: 1169095786496.0000 - mean_absolute_error: 821545.2500 - r2score: 0.6004 - val_loss: 1728112623616.0000 - val_mean_absolute_error: 906260.9375 - val_r2score: 0.5716\n",
      "Epoch 34/100\n",
      "16/16 [==============================] - 0s 2ms/step - loss: 1152414121984.0000 - mean_absolute_error: 815658.1875 - r2score: 0.6161 - val_loss: 1711367913472.0000 - val_mean_absolute_error: 902002.6250 - val_r2score: 0.5765\n",
      "Epoch 35/100\n"
     ]
    },
    {
     "name": "stdout",
     "output_type": "stream",
     "text": [
      "16/16 [==============================] - 0s 2ms/step - loss: 1141218869248.0000 - mean_absolute_error: 810978.5000 - r2score: 0.6105 - val_loss: 1690770604032.0000 - val_mean_absolute_error: 892882.9375 - val_r2score: 0.5833\n",
      "Epoch 36/100\n",
      "16/16 [==============================] - 0s 2ms/step - loss: 1130936926208.0000 - mean_absolute_error: 805219.3750 - r2score: 0.6583 - val_loss: 1682753716224.0000 - val_mean_absolute_error: 893325.3750 - val_r2score: 0.5853\n",
      "Epoch 37/100\n",
      "16/16 [==============================] - 0s 2ms/step - loss: 1118328717312.0000 - mean_absolute_error: 798252.5000 - r2score: 0.6767 - val_loss: 1679243739136.0000 - val_mean_absolute_error: 887783.6875 - val_r2score: 0.5920\n",
      "Epoch 38/100\n",
      "16/16 [==============================] - 0s 2ms/step - loss: 1108452704256.0000 - mean_absolute_error: 796027.3125 - r2score: 0.6361 - val_loss: 1660328214528.0000 - val_mean_absolute_error: 885858.1875 - val_r2score: 0.5955\n",
      "Epoch 39/100\n",
      "16/16 [==============================] - 0s 2ms/step - loss: 1099806277632.0000 - mean_absolute_error: 792572.2500 - r2score: 0.6263 - val_loss: 1657917145088.0000 - val_mean_absolute_error: 883783.5625 - val_r2score: 0.5965\n",
      "Epoch 40/100\n",
      "16/16 [==============================] - 0s 2ms/step - loss: 1091855187968.0000 - mean_absolute_error: 787915.8750 - r2score: 0.6428 - val_loss: 1652247101440.0000 - val_mean_absolute_error: 881127.6875 - val_r2score: 0.5987\n",
      "Epoch 41/100\n",
      "16/16 [==============================] - 0s 2ms/step - loss: 1083060191232.0000 - mean_absolute_error: 785148.8750 - r2score: 0.6139 - val_loss: 1635102752768.0000 - val_mean_absolute_error: 875733.3125 - val_r2score: 0.6059\n",
      "Epoch 42/100\n",
      "16/16 [==============================] - 0s 2ms/step - loss: 1079120363520.0000 - mean_absolute_error: 785050.6250 - r2score: 0.6586 - val_loss: 1608145567744.0000 - val_mean_absolute_error: 872525.0000 - val_r2score: 0.6081\n",
      "Epoch 43/100\n",
      "16/16 [==============================] - 0s 2ms/step - loss: 1068605833216.0000 - mean_absolute_error: 778760.2500 - r2score: 0.6497 - val_loss: 1634868920320.0000 - val_mean_absolute_error: 872319.5000 - val_r2score: 0.6066\n",
      "Epoch 44/100\n",
      "16/16 [==============================] - 0s 2ms/step - loss: 1064443510784.0000 - mean_absolute_error: 778011.6875 - r2score: 0.6400 - val_loss: 1603716382720.0000 - val_mean_absolute_error: 874458.6875 - val_r2score: 0.6039\n",
      "Epoch 45/100\n",
      "16/16 [==============================] - 0s 2ms/step - loss: 1057491976192.0000 - mean_absolute_error: 775975.5625 - r2score: 0.6539 - val_loss: 1598158667776.0000 - val_mean_absolute_error: 869468.5000 - val_r2score: 0.6067\n",
      "Epoch 46/100\n",
      "16/16 [==============================] - 0s 2ms/step - loss: 1051861057536.0000 - mean_absolute_error: 773469.6875 - r2score: 0.6170 - val_loss: 1591448829952.0000 - val_mean_absolute_error: 871906.9375 - val_r2score: 0.6045\n",
      "Epoch 47/100\n",
      "16/16 [==============================] - 0s 2ms/step - loss: 1051241807872.0000 - mean_absolute_error: 768663.3125 - r2score: 0.6766 - val_loss: 1603038609408.0000 - val_mean_absolute_error: 866012.8125 - val_r2score: 0.6103\n",
      "Epoch 48/100\n",
      "16/16 [==============================] - 0s 2ms/step - loss: 1042525257728.0000 - mean_absolute_error: 766379.2500 - r2score: 0.6652 - val_loss: 1584522330112.0000 - val_mean_absolute_error: 866098.6250 - val_r2score: 0.6104\n",
      "Epoch 49/100\n",
      "16/16 [==============================] - 0s 2ms/step - loss: 1039724314624.0000 - mean_absolute_error: 769155.4375 - r2score: 0.6801 - val_loss: 1575722549248.0000 - val_mean_absolute_error: 865428.4375 - val_r2score: 0.6111\n",
      "Epoch 50/100\n",
      "16/16 [==============================] - 0s 2ms/step - loss: 1035690835968.0000 - mean_absolute_error: 765862.4375 - r2score: 0.6393 - val_loss: 1590617047040.0000 - val_mean_absolute_error: 856828.0000 - val_r2score: 0.6164\n",
      "Epoch 51/100\n",
      "16/16 [==============================] - 0s 2ms/step - loss: 1026133327872.0000 - mean_absolute_error: 760047.0625 - r2score: 0.6752 - val_loss: 1574278660096.0000 - val_mean_absolute_error: 857358.8125 - val_r2score: 0.6187\n",
      "Epoch 52/100\n",
      "16/16 [==============================] - 0s 2ms/step - loss: 1025147535360.0000 - mean_absolute_error: 762258.7500 - r2score: 0.6221 - val_loss: 1561493372928.0000 - val_mean_absolute_error: 854034.1875 - val_r2score: 0.6206\n",
      "Epoch 53/100\n",
      "16/16 [==============================] - 0s 2ms/step - loss: 1019259256832.0000 - mean_absolute_error: 755931.8750 - r2score: 0.6692 - val_loss: 1575112146944.0000 - val_mean_absolute_error: 849214.1875 - val_r2score: 0.6258\n",
      "Epoch 54/100\n",
      "16/16 [==============================] - 0s 2ms/step - loss: 1016660099072.0000 - mean_absolute_error: 754958.0000 - r2score: 0.6706 - val_loss: 1563544387584.0000 - val_mean_absolute_error: 846645.0625 - val_r2score: 0.6264\n",
      "Epoch 55/100\n",
      "16/16 [==============================] - 0s 2ms/step - loss: 1013856796672.0000 - mean_absolute_error: 754809.0625 - r2score: 0.6924 - val_loss: 1561213796352.0000 - val_mean_absolute_error: 847917.8125 - val_r2score: 0.6261\n",
      "Epoch 56/100\n",
      "16/16 [==============================] - 0s 2ms/step - loss: 1007037448192.0000 - mean_absolute_error: 752684.5625 - r2score: 0.6696 - val_loss: 1543639924736.0000 - val_mean_absolute_error: 847914.1875 - val_r2score: 0.6257\n",
      "Epoch 57/100\n",
      "16/16 [==============================] - 0s 2ms/step - loss: 1013323792384.0000 - mean_absolute_error: 758456.3125 - r2score: 0.6651 - val_loss: 1527702880256.0000 - val_mean_absolute_error: 854194.9375 - val_r2score: 0.6206\n",
      "Epoch 58/100\n",
      "16/16 [==============================] - 0s 2ms/step - loss: 1007648571392.0000 - mean_absolute_error: 751432.9375 - r2score: 0.6505 - val_loss: 1558326280192.0000 - val_mean_absolute_error: 844810.1875 - val_r2score: 0.6291\n",
      "Epoch 59/100\n",
      "16/16 [==============================] - 0s 2ms/step - loss: 1010558763008.0000 - mean_absolute_error: 752587.4375 - r2score: 0.6547 - val_loss: 1524469202944.0000 - val_mean_absolute_error: 848271.8750 - val_r2score: 0.6257\n",
      "Epoch 60/100\n",
      "16/16 [==============================] - 0s 2ms/step - loss: 990262263808.0000 - mean_absolute_error: 746117.1250 - r2score: 0.6890 - val_loss: 1549940555776.0000 - val_mean_absolute_error: 840073.0625 - val_r2score: 0.6304\n",
      "Epoch 61/100\n",
      "16/16 [==============================] - 0s 2ms/step - loss: 997517819904.0000 - mean_absolute_error: 744651.5625 - r2score: 0.6987 - val_loss: 1531500036096.0000 - val_mean_absolute_error: 841037.5000 - val_r2score: 0.6291\n",
      "Epoch 62/100\n",
      "16/16 [==============================] - 0s 2ms/step - loss: 990223138816.0000 - mean_absolute_error: 747305.8125 - r2score: 0.6871 - val_loss: 1509897928704.0000 - val_mean_absolute_error: 839932.9375 - val_r2score: 0.6312\n",
      "Epoch 63/100\n",
      "16/16 [==============================] - 0s 2ms/step - loss: 989478912000.0000 - mean_absolute_error: 741745.8750 - r2score: 0.7049 - val_loss: 1537204027392.0000 - val_mean_absolute_error: 834245.0625 - val_r2score: 0.6348\n",
      "Epoch 64/100\n",
      "16/16 [==============================] - 0s 2ms/step - loss: 983416897536.0000 - mean_absolute_error: 741016.1250 - r2score: 0.6728 - val_loss: 1524329480192.0000 - val_mean_absolute_error: 838167.8750 - val_r2score: 0.6300\n",
      "Epoch 65/100\n",
      "16/16 [==============================] - 0s 2ms/step - loss: 978313674752.0000 - mean_absolute_error: 741473.2500 - r2score: 0.7150 - val_loss: 1516765577216.0000 - val_mean_absolute_error: 837841.3125 - val_r2score: 0.6325\n",
      "Epoch 66/100\n",
      "16/16 [==============================] - 0s 2ms/step - loss: 983520509952.0000 - mean_absolute_error: 745574.6250 - r2score: 0.6966 - val_loss: 1503078121472.0000 - val_mean_absolute_error: 838864.6250 - val_r2score: 0.6325\n",
      "Epoch 67/100\n",
      "16/16 [==============================] - 0s 2ms/step - loss: 974583824384.0000 - mean_absolute_error: 738513.0625 - r2score: 0.6849 - val_loss: 1532747448320.0000 - val_mean_absolute_error: 833898.6875 - val_r2score: 0.6353\n",
      "Epoch 68/100\n",
      "16/16 [==============================] - 0s 2ms/step - loss: 976129228800.0000 - mean_absolute_error: 738777.7500 - r2score: 0.6762 - val_loss: 1522633015296.0000 - val_mean_absolute_error: 840150.0625 - val_r2score: 0.6304\n",
      "Epoch 69/100\n"
     ]
    },
    {
     "name": "stdout",
     "output_type": "stream",
     "text": [
      "16/16 [==============================] - 0s 2ms/step - loss: 971291361280.0000 - mean_absolute_error: 737321.7500 - r2score: 0.6804 - val_loss: 1530770096128.0000 - val_mean_absolute_error: 837341.9375 - val_r2score: 0.6344\n",
      "Epoch 70/100\n",
      "16/16 [==============================] - 0s 2ms/step - loss: 966910476288.0000 - mean_absolute_error: 737040.4375 - r2score: 0.7010 - val_loss: 1498123075584.0000 - val_mean_absolute_error: 838809.3125 - val_r2score: 0.6341\n",
      "Epoch 71/100\n",
      "16/16 [==============================] - 0s 2ms/step - loss: 970566729728.0000 - mean_absolute_error: 740645.2500 - r2score: 0.7035 - val_loss: 1497699057664.0000 - val_mean_absolute_error: 834502.3125 - val_r2score: 0.6367\n",
      "Epoch 72/100\n",
      "16/16 [==============================] - 0s 2ms/step - loss: 963805315072.0000 - mean_absolute_error: 733702.8125 - r2score: 0.6524 - val_loss: 1519104557056.0000 - val_mean_absolute_error: 832964.8125 - val_r2score: 0.6354\n",
      "Epoch 73/100\n",
      "16/16 [==============================] - 0s 2ms/step - loss: 965633507328.0000 - mean_absolute_error: 733270.1250 - r2score: 0.6638 - val_loss: 1499301543936.0000 - val_mean_absolute_error: 832749.6875 - val_r2score: 0.6350\n",
      "Epoch 74/100\n",
      "16/16 [==============================] - 0s 2ms/step - loss: 969284255744.0000 - mean_absolute_error: 733334.8750 - r2score: 0.7007 - val_loss: 1503830343680.0000 - val_mean_absolute_error: 831091.5000 - val_r2score: 0.6372\n",
      "Epoch 75/100\n",
      "16/16 [==============================] - 0s 2ms/step - loss: 957005496320.0000 - mean_absolute_error: 731617.5625 - r2score: 0.6981 - val_loss: 1494218571776.0000 - val_mean_absolute_error: 834151.0000 - val_r2score: 0.6342\n",
      "Epoch 76/100\n",
      "16/16 [==============================] - 0s 2ms/step - loss: 958782439424.0000 - mean_absolute_error: 729803.3125 - r2score: 0.6725 - val_loss: 1498583138304.0000 - val_mean_absolute_error: 827868.0625 - val_r2score: 0.6382\n",
      "Epoch 77/100\n",
      "16/16 [==============================] - 0s 2ms/step - loss: 952376492032.0000 - mean_absolute_error: 727894.1875 - r2score: 0.7084 - val_loss: 1497363120128.0000 - val_mean_absolute_error: 825598.8125 - val_r2score: 0.6387\n",
      "Epoch 78/100\n",
      "16/16 [==============================] - 0s 2ms/step - loss: 953463734272.0000 - mean_absolute_error: 728069.8125 - r2score: 0.7034 - val_loss: 1488519036928.0000 - val_mean_absolute_error: 822803.1875 - val_r2score: 0.6408\n",
      "Epoch 79/100\n",
      "16/16 [==============================] - 0s 2ms/step - loss: 950024470528.0000 - mean_absolute_error: 726696.9375 - r2score: 0.7038 - val_loss: 1501791387648.0000 - val_mean_absolute_error: 823094.9375 - val_r2score: 0.6410\n",
      "Epoch 80/100\n",
      "16/16 [==============================] - 0s 2ms/step - loss: 945070145536.0000 - mean_absolute_error: 725217.7500 - r2score: 0.7110 - val_loss: 1489644421120.0000 - val_mean_absolute_error: 824031.8750 - val_r2score: 0.6404\n",
      "Epoch 81/100\n",
      "16/16 [==============================] - 0s 2ms/step - loss: 945925062656.0000 - mean_absolute_error: 727520.3750 - r2score: 0.6915 - val_loss: 1495495868416.0000 - val_mean_absolute_error: 822789.9375 - val_r2score: 0.6425\n",
      "Epoch 82/100\n",
      "16/16 [==============================] - 0s 2ms/step - loss: 943728689152.0000 - mean_absolute_error: 725080.7500 - r2score: 0.6919 - val_loss: 1512101249024.0000 - val_mean_absolute_error: 822651.0000 - val_r2score: 0.6427\n",
      "Epoch 83/100\n",
      "16/16 [==============================] - 0s 2ms/step - loss: 945538072576.0000 - mean_absolute_error: 721665.4375 - r2score: 0.6755 - val_loss: 1493297922048.0000 - val_mean_absolute_error: 824229.0625 - val_r2score: 0.6419\n",
      "Epoch 84/100\n",
      "16/16 [==============================] - 0s 2ms/step - loss: 940628443136.0000 - mean_absolute_error: 722670.9375 - r2score: 0.7075 - val_loss: 1492646756352.0000 - val_mean_absolute_error: 827125.6875 - val_r2score: 0.6377\n",
      "Epoch 85/100\n",
      "16/16 [==============================] - 0s 2ms/step - loss: 940184502272.0000 - mean_absolute_error: 722456.4375 - r2score: 0.6999 - val_loss: 1491963084800.0000 - val_mean_absolute_error: 824129.1875 - val_r2score: 0.6413\n",
      "Epoch 86/100\n",
      "16/16 [==============================] - 0s 2ms/step - loss: 940984041472.0000 - mean_absolute_error: 726442.1875 - r2score: 0.7032 - val_loss: 1474864480256.0000 - val_mean_absolute_error: 826699.0625 - val_r2score: 0.6387\n",
      "Epoch 87/100\n",
      "16/16 [==============================] - 0s 2ms/step - loss: 937112240128.0000 - mean_absolute_error: 722494.3125 - r2score: 0.6774 - val_loss: 1510188908544.0000 - val_mean_absolute_error: 821055.5625 - val_r2score: 0.6422\n",
      "Epoch 88/100\n",
      "16/16 [==============================] - 0s 2ms/step - loss: 935723139072.0000 - mean_absolute_error: 722613.2500 - r2score: 0.7069 - val_loss: 1458851807232.0000 - val_mean_absolute_error: 821840.0625 - val_r2score: 0.6461\n",
      "Epoch 89/100\n",
      "16/16 [==============================] - 0s 2ms/step - loss: 934705561600.0000 - mean_absolute_error: 723570.8750 - r2score: 0.6989 - val_loss: 1465154404352.0000 - val_mean_absolute_error: 818860.5625 - val_r2score: 0.6477\n",
      "Epoch 90/100\n",
      "16/16 [==============================] - 0s 2ms/step - loss: 938261413888.0000 - mean_absolute_error: 722959.8125 - r2score: 0.7139 - val_loss: 1469284089856.0000 - val_mean_absolute_error: 810974.5625 - val_r2score: 0.6542\n",
      "Epoch 91/100\n",
      "16/16 [==============================] - 0s 2ms/step - loss: 931814244352.0000 - mean_absolute_error: 719735.3125 - r2score: 0.6804 - val_loss: 1462325084160.0000 - val_mean_absolute_error: 810016.3750 - val_r2score: 0.6535\n",
      "Epoch 92/100\n",
      "16/16 [==============================] - 0s 2ms/step - loss: 929599848448.0000 - mean_absolute_error: 715942.3125 - r2score: 0.7260 - val_loss: 1481414279168.0000 - val_mean_absolute_error: 812642.6250 - val_r2score: 0.6508\n",
      "Epoch 93/100\n",
      "16/16 [==============================] - 0s 2ms/step - loss: 929479131136.0000 - mean_absolute_error: 717713.6875 - r2score: 0.7164 - val_loss: 1457633361920.0000 - val_mean_absolute_error: 820878.8125 - val_r2score: 0.6454\n",
      "Epoch 94/100\n",
      "16/16 [==============================] - 0s 2ms/step - loss: 930870657024.0000 - mean_absolute_error: 715418.5625 - r2score: 0.7201 - val_loss: 1488919068672.0000 - val_mean_absolute_error: 815488.0000 - val_r2score: 0.6460\n",
      "Epoch 95/100\n",
      "16/16 [==============================] - 0s 2ms/step - loss: 929375125504.0000 - mean_absolute_error: 720078.5000 - r2score: 0.6901 - val_loss: 1465321259008.0000 - val_mean_absolute_error: 820720.8750 - val_r2score: 0.6428\n",
      "Epoch 96/100\n",
      "16/16 [==============================] - 0s 2ms/step - loss: 919072538624.0000 - mean_absolute_error: 716247.5625 - r2score: 0.6958 - val_loss: 1491732922368.0000 - val_mean_absolute_error: 813442.6250 - val_r2score: 0.6455\n",
      "Epoch 97/100\n",
      "16/16 [==============================] - 0s 2ms/step - loss: 930329001984.0000 - mean_absolute_error: 712553.1875 - r2score: 0.7152 - val_loss: 1487056797696.0000 - val_mean_absolute_error: 811440.3125 - val_r2score: 0.6485\n",
      "Epoch 98/100\n",
      "16/16 [==============================] - 0s 2ms/step - loss: 920664801280.0000 - mean_absolute_error: 714719.6875 - r2score: 0.7237 - val_loss: 1450197254144.0000 - val_mean_absolute_error: 820563.6875 - val_r2score: 0.6405\n",
      "Epoch 99/100\n",
      "16/16 [==============================] - 0s 2ms/step - loss: 925938614272.0000 - mean_absolute_error: 718659.6875 - r2score: 0.7166 - val_loss: 1473303412736.0000 - val_mean_absolute_error: 817098.7500 - val_r2score: 0.6429\n",
      "Epoch 100/100\n",
      "16/16 [==============================] - 0s 2ms/step - loss: 924400091136.0000 - mean_absolute_error: 720439.8125 - r2score: 0.6947 - val_loss: 1476118315008.0000 - val_mean_absolute_error: 823749.1875 - val_r2score: 0.6381\n"
     ]
    }
   ],
   "source": [
    "history = model.fit(X_train, Y_train, batch_size=32, epochs=100, verbose=1, validation_data=(X_test, Y_test))"
   ]
  },
  {
   "cell_type": "markdown",
   "id": "14744ad5",
   "metadata": {},
   "source": [
    "Graficamos ahora las curvas de aprendizaje para un mejor diagnóstico del aprendizaje"
   ]
  },
  {
   "cell_type": "code",
   "execution_count": 125,
   "id": "058bcfdf",
   "metadata": {},
   "outputs": [
    {
     "data": {
      "image/png": "[encoded data removed]",
      "text/plain": [
       "<Figure size 1500x600 with 3 Axes>"
      ]
     },
     "metadata": {},
     "output_type": "display_data"
    }
   ],
   "source": [
    "def plot_history(history):\n",
    "    plt.figure(figsize=(15, 6))\n",
    "    hist = pd.DataFrame(history.history)\n",
    "    hist['epoch'] = history.epoch\n",
    "    plt.subplot(131)\n",
    "    plt.title('Loss')\n",
    "    plt.xlabel('Epoch')\n",
    "    plt.ylabel('Loss')\n",
    "    plt.plot(hist['epoch'], hist['loss'], label=\"Train\")\n",
    "    plt.plot(hist['epoch'], hist['val_loss'], label = 'Val')\n",
    "    #plt.yscale('log')\n",
    "    plt.legend()\n",
    "\n",
    "    plt.subplot(132)\n",
    "    plt.title('r2score')\n",
    "    plt.xlabel('Epoch')\n",
    "    plt.ylabel('r2score')\n",
    "    plt.plot(hist['epoch'], hist['r2score'], label=\"Train\")\n",
    "    plt.plot(hist['epoch'], hist['val_r2score'], label = 'Val')\n",
    "    plt.ylim([0,1])\n",
    "    plt.legend()\n",
    "    \n",
    "    \n",
    "    \n",
    "    plt.subplot(133)\n",
    "    plt.title('MAE')\n",
    "    plt.xlabel('Epoch')\n",
    "    plt.ylabel('MAE')\n",
    "    plt.plot(hist['epoch'], hist['mean_absolute_error'], label=\"Train\")\n",
    "    plt.plot(hist['epoch'], hist['val_mean_absolute_error'], label = 'Val')\n",
    "    plt.legend()\n",
    "    \n",
    "    plt.tight_layout()\n",
    "    plt.show()\n",
    "     \n",
    "plot_history(history)"
   ]
  },
  {
   "cell_type": "markdown",
   "id": "6d2ced8e",
   "metadata": {},
   "source": [
    "## Paso 6. Evaluar el modelo con el test set"
   ]
  },
  {
   "cell_type": "markdown",
   "id": "c05ff3f8",
   "metadata": {},
   "source": [
    "Reporte de Clasificación"
   ]
  },
  {
   "cell_type": "code",
   "execution_count": 80,
   "id": "4175f88d",
   "metadata": {},
   "outputs": [
    {
     "name": "stdout",
     "output_type": "stream",
     "text": [
      "2/2 [==============================] - 0s 1ms/step\n"
     ]
    },
    {
     "ename": "ValueError",
     "evalue": "Number of classes, 49, does not match size of target_names, 2. Try specifying the labels parameter",
     "output_type": "error",
     "traceback": [
      "\u001b[0;31m---------------------------------------------------------------------------\u001b[0m",
      "\u001b[0;31mValueError\u001b[0m                                Traceback (most recent call last)",
      "Cell \u001b[0;32mIn[80], line 2\u001b[0m\n\u001b[1;32m      1\u001b[0m Y_pred \u001b[38;5;241m=\u001b[39m (model\u001b[38;5;241m.\u001b[39mpredict(X_test) \u001b[38;5;241m>\u001b[39m \u001b[38;5;241m0.5\u001b[39m) \u001b[38;5;241m*\u001b[39m \u001b[38;5;241m1\u001b[39m\n\u001b[0;32m----> 2\u001b[0m \u001b[38;5;28mprint\u001b[39m(classification_report(Y_test, Y_pred, target_names\u001b[38;5;241m=\u001b[39m(\u001b[38;5;124m\"\u001b[39m\u001b[38;5;124mBenigno\u001b[39m\u001b[38;5;124m\"\u001b[39m, \u001b[38;5;124m\"\u001b[39m\u001b[38;5;124mMaligno\u001b[39m\u001b[38;5;124m\"\u001b[39m)))\n",
      "File \u001b[0;32m~/anaconda3/lib/python3.11/site-packages/sklearn/utils/_param_validation.py:211\u001b[0m, in \u001b[0;36mvalidate_params.<locals>.decorator.<locals>.wrapper\u001b[0;34m(*args, **kwargs)\u001b[0m\n\u001b[1;32m    205\u001b[0m \u001b[38;5;28;01mtry\u001b[39;00m:\n\u001b[1;32m    206\u001b[0m     \u001b[38;5;28;01mwith\u001b[39;00m config_context(\n\u001b[1;32m    207\u001b[0m         skip_parameter_validation\u001b[38;5;241m=\u001b[39m(\n\u001b[1;32m    208\u001b[0m             prefer_skip_nested_validation \u001b[38;5;129;01mor\u001b[39;00m global_skip_validation\n\u001b[1;32m    209\u001b[0m         )\n\u001b[1;32m    210\u001b[0m     ):\n\u001b[0;32m--> 211\u001b[0m         \u001b[38;5;28;01mreturn\u001b[39;00m func(\u001b[38;5;241m*\u001b[39margs, \u001b[38;5;241m*\u001b[39m\u001b[38;5;241m*\u001b[39mkwargs)\n\u001b[1;32m    212\u001b[0m \u001b[38;5;28;01mexcept\u001b[39;00m InvalidParameterError \u001b[38;5;28;01mas\u001b[39;00m e:\n\u001b[1;32m    213\u001b[0m     \u001b[38;5;66;03m# When the function is just a wrapper around an estimator, we allow\u001b[39;00m\n\u001b[1;32m    214\u001b[0m     \u001b[38;5;66;03m# the function to delegate validation to the estimator, but we replace\u001b[39;00m\n\u001b[1;32m    215\u001b[0m     \u001b[38;5;66;03m# the name of the estimator by the name of the function in the error\u001b[39;00m\n\u001b[1;32m    216\u001b[0m     \u001b[38;5;66;03m# message to avoid confusion.\u001b[39;00m\n\u001b[1;32m    217\u001b[0m     msg \u001b[38;5;241m=\u001b[39m re\u001b[38;5;241m.\u001b[39msub(\n\u001b[1;32m    218\u001b[0m         \u001b[38;5;124mr\u001b[39m\u001b[38;5;124m\"\u001b[39m\u001b[38;5;124mparameter of \u001b[39m\u001b[38;5;124m\\\u001b[39m\u001b[38;5;124mw+ must be\u001b[39m\u001b[38;5;124m\"\u001b[39m,\n\u001b[1;32m    219\u001b[0m         \u001b[38;5;124mf\u001b[39m\u001b[38;5;124m\"\u001b[39m\u001b[38;5;124mparameter of \u001b[39m\u001b[38;5;132;01m{\u001b[39;00mfunc\u001b[38;5;241m.\u001b[39m\u001b[38;5;18m__qualname__\u001b[39m\u001b[38;5;132;01m}\u001b[39;00m\u001b[38;5;124m must be\u001b[39m\u001b[38;5;124m\"\u001b[39m,\n\u001b[1;32m    220\u001b[0m         \u001b[38;5;28mstr\u001b[39m(e),\n\u001b[1;32m    221\u001b[0m     )\n",
      "File \u001b[0;32m~/anaconda3/lib/python3.11/site-packages/sklearn/metrics/_classification.py:2561\u001b[0m, in \u001b[0;36mclassification_report\u001b[0;34m(y_true, y_pred, labels, target_names, sample_weight, digits, output_dict, zero_division)\u001b[0m\n\u001b[1;32m   2555\u001b[0m         warnings\u001b[38;5;241m.\u001b[39mwarn(\n\u001b[1;32m   2556\u001b[0m             \u001b[38;5;124m\"\u001b[39m\u001b[38;5;124mlabels size, \u001b[39m\u001b[38;5;132;01m{0}\u001b[39;00m\u001b[38;5;124m, does not match size of target_names, \u001b[39m\u001b[38;5;132;01m{1}\u001b[39;00m\u001b[38;5;124m\"\u001b[39m\u001b[38;5;241m.\u001b[39mformat(\n\u001b[1;32m   2557\u001b[0m                 \u001b[38;5;28mlen\u001b[39m(labels), \u001b[38;5;28mlen\u001b[39m(target_names)\n\u001b[1;32m   2558\u001b[0m             )\n\u001b[1;32m   2559\u001b[0m         )\n\u001b[1;32m   2560\u001b[0m     \u001b[38;5;28;01melse\u001b[39;00m:\n\u001b[0;32m-> 2561\u001b[0m         \u001b[38;5;28;01mraise\u001b[39;00m \u001b[38;5;167;01mValueError\u001b[39;00m(\n\u001b[1;32m   2562\u001b[0m             \u001b[38;5;124m\"\u001b[39m\u001b[38;5;124mNumber of classes, \u001b[39m\u001b[38;5;132;01m{0}\u001b[39;00m\u001b[38;5;124m, does not match size of \u001b[39m\u001b[38;5;124m\"\u001b[39m\n\u001b[1;32m   2563\u001b[0m             \u001b[38;5;124m\"\u001b[39m\u001b[38;5;124mtarget_names, \u001b[39m\u001b[38;5;132;01m{1}\u001b[39;00m\u001b[38;5;124m. Try specifying the labels \u001b[39m\u001b[38;5;124m\"\u001b[39m\n\u001b[1;32m   2564\u001b[0m             \u001b[38;5;124m\"\u001b[39m\u001b[38;5;124mparameter\u001b[39m\u001b[38;5;124m\"\u001b[39m\u001b[38;5;241m.\u001b[39mformat(\u001b[38;5;28mlen\u001b[39m(labels), \u001b[38;5;28mlen\u001b[39m(target_names))\n\u001b[1;32m   2565\u001b[0m         )\n\u001b[1;32m   2566\u001b[0m \u001b[38;5;28;01mif\u001b[39;00m target_names \u001b[38;5;129;01mis\u001b[39;00m \u001b[38;5;28;01mNone\u001b[39;00m:\n\u001b[1;32m   2567\u001b[0m     target_names \u001b[38;5;241m=\u001b[39m [\u001b[38;5;124m\"\u001b[39m\u001b[38;5;132;01m%s\u001b[39;00m\u001b[38;5;124m\"\u001b[39m \u001b[38;5;241m%\u001b[39m l \u001b[38;5;28;01mfor\u001b[39;00m l \u001b[38;5;129;01min\u001b[39;00m labels]\n",
      "\u001b[0;31mValueError\u001b[0m: Number of classes, 49, does not match size of target_names, 2. Try specifying the labels parameter"
     ]
    }
   ],
   "source": [
    "Y_pred = (model.predict(X_test) > 0.5) * 1\n",
    "print(classification_report(Y_test, Y_pred, target_names=(\"Benigno\", \"Maligno\")))"
   ]
  },
  {
   "cell_type": "markdown",
   "id": "2d30b095",
   "metadata": {},
   "source": [
    "Matriz de Confusión\n"
   ]
  },
  {
   "cell_type": "code",
   "execution_count": null,
   "id": "163ec6e7",
   "metadata": {},
   "outputs": [],
   "source": [
    "cm = confusion_matrix(Y_test, Y_pred)\n",
    "_ = sns.heatmap(cm/np.sum(cm), fmt=\"0.2%\", annot=True, cmap='Blues')"
   ]
  }
 ],
 "metadata": {
  "kernelspec": {
   "display_name": "Python 3 (ipykernel)",
   "language": "python",
   "name": "python3"
  },
  "language_info": {
   "codemirror_mode": {
    "name": "ipython",
    "version": 3
   },
   "file_extension": ".py",
   "mimetype": "text/x-python",
   "name": "python",
   "nbconvert_exporter": "python",
   "pygments_lexer": "ipython3",
   "version": "3.11.5"
  }
 },
 "nbformat": 4,
 "nbformat_minor": 5
}
