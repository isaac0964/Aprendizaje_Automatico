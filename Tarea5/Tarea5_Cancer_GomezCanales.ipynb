{
 "cells": [
  {
   "cell_type": "markdown",
   "id": "0f091dbb",
   "metadata": {},
   "source": [
    "# Red Neuronal Densa TensorFlow"
   ]
  },
  {
   "cell_type": "markdown",
   "id": "c5950daa",
   "metadata": {},
   "source": [
    "## Predicción de Cancer de Mama Wisconsin Dataset"
   ]
  },
  {
   "cell_type": "markdown",
   "id": "661620d2",
   "metadata": {},
   "source": [
    "### Ángel Isaac Gómez Canales"
   ]
  },
  {
   "cell_type": "markdown",
   "id": "7f1b6a4b",
   "metadata": {},
   "source": [
    "## Paso 1. Importar paquetería necesaria 📦"
   ]
  },
  {
   "cell_type": "code",
   "execution_count": 190,
   "id": "ad7531c7",
   "metadata": {},
   "outputs": [],
   "source": [
    "# Paqueteria basica\n",
    "import numpy as np\n",
    "import matplotlib.pyplot as plt\n",
    "import seaborn as sns\n",
    "import pandas as pd\n",
    "\n",
    "# Tensorflow y keras\n",
    "import tensorflow as tf\n",
    "from tensorflow import keras\n",
    "\n",
    "# Funcionalidades basicas de sklearn\n",
    "from sklearn.model_selection import train_test_split\n",
    "from sklearn.metrics import classification_report, confusion_matrix\n",
    "from sklearn.preprocessing import StandardScaler, MinMaxScaler"
   ]
  },
  {
   "cell_type": "markdown",
   "id": "9525854a",
   "metadata": {},
   "source": [
    "## Paso 2. Cargar los datos 💾"
   ]
  },
  {
   "cell_type": "code",
   "execution_count": 191,
   "id": "608c6bf7",
   "metadata": {},
   "outputs": [],
   "source": [
    "data = pd.read_csv(\"../Datasets/BreastCancerWisconsin.csv\")  # Cambiar la ruta a la adecuada"
   ]
  },
  {
   "cell_type": "markdown",
   "id": "289fb744",
   "metadata": {},
   "source": [
    "## Paso 3. Inspeccionar los datos 🔎"
   ]
  },
  {
   "cell_type": "markdown",
   "id": "504628dc",
   "metadata": {},
   "source": [
    "A continuacion se muestran los primeros 5 datos del datset para observar el formato que tienen los datos"
   ]
  },
  {
   "cell_type": "code",
   "execution_count": 192,
   "id": "481db320",
   "metadata": {},
   "outputs": [
    {
     "data": {
      "text/html": [
       "<div>\n",
       "<style scoped>\n",
       "    .dataframe tbody tr th:only-of-type {\n",
       "        vertical-align: middle;\n",
       "    }\n",
       "\n",
       "    .dataframe tbody tr th {\n",
       "        vertical-align: top;\n",
       "    }\n",
       "\n",
       "    .dataframe thead th {\n",
       "        text-align: right;\n",
       "    }\n",
       "</style>\n",
       "<table border=\"1\" class=\"dataframe\">\n",
       "  <thead>\n",
       "    <tr style=\"text-align: right;\">\n",
       "      <th></th>\n",
       "      <th>id</th>\n",
       "      <th>diagnosis</th>\n",
       "      <th>radius_mean</th>\n",
       "      <th>texture_mean</th>\n",
       "      <th>perimeter_mean</th>\n",
       "      <th>area_mean</th>\n",
       "      <th>smoothness_mean</th>\n",
       "      <th>compactness_mean</th>\n",
       "      <th>concavity_mean</th>\n",
       "      <th>concave points_mean</th>\n",
       "      <th>...</th>\n",
       "      <th>texture_worst</th>\n",
       "      <th>perimeter_worst</th>\n",
       "      <th>area_worst</th>\n",
       "      <th>smoothness_worst</th>\n",
       "      <th>compactness_worst</th>\n",
       "      <th>concavity_worst</th>\n",
       "      <th>concave points_worst</th>\n",
       "      <th>symmetry_worst</th>\n",
       "      <th>fractal_dimension_worst</th>\n",
       "      <th>Unnamed: 32</th>\n",
       "    </tr>\n",
       "  </thead>\n",
       "  <tbody>\n",
       "    <tr>\n",
       "      <th>0</th>\n",
       "      <td>842302</td>\n",
       "      <td>M</td>\n",
       "      <td>17.99</td>\n",
       "      <td>10.38</td>\n",
       "      <td>122.80</td>\n",
       "      <td>1001.0</td>\n",
       "      <td>0.11840</td>\n",
       "      <td>0.27760</td>\n",
       "      <td>0.3001</td>\n",
       "      <td>0.14710</td>\n",
       "      <td>...</td>\n",
       "      <td>17.33</td>\n",
       "      <td>184.60</td>\n",
       "      <td>2019.0</td>\n",
       "      <td>0.1622</td>\n",
       "      <td>0.6656</td>\n",
       "      <td>0.7119</td>\n",
       "      <td>0.2654</td>\n",
       "      <td>0.4601</td>\n",
       "      <td>0.11890</td>\n",
       "      <td>NaN</td>\n",
       "    </tr>\n",
       "    <tr>\n",
       "      <th>1</th>\n",
       "      <td>842517</td>\n",
       "      <td>M</td>\n",
       "      <td>20.57</td>\n",
       "      <td>17.77</td>\n",
       "      <td>132.90</td>\n",
       "      <td>1326.0</td>\n",
       "      <td>0.08474</td>\n",
       "      <td>0.07864</td>\n",
       "      <td>0.0869</td>\n",
       "      <td>0.07017</td>\n",
       "      <td>...</td>\n",
       "      <td>23.41</td>\n",
       "      <td>158.80</td>\n",
       "      <td>1956.0</td>\n",
       "      <td>0.1238</td>\n",
       "      <td>0.1866</td>\n",
       "      <td>0.2416</td>\n",
       "      <td>0.1860</td>\n",
       "      <td>0.2750</td>\n",
       "      <td>0.08902</td>\n",
       "      <td>NaN</td>\n",
       "    </tr>\n",
       "    <tr>\n",
       "      <th>2</th>\n",
       "      <td>84300903</td>\n",
       "      <td>M</td>\n",
       "      <td>19.69</td>\n",
       "      <td>21.25</td>\n",
       "      <td>130.00</td>\n",
       "      <td>1203.0</td>\n",
       "      <td>0.10960</td>\n",
       "      <td>0.15990</td>\n",
       "      <td>0.1974</td>\n",
       "      <td>0.12790</td>\n",
       "      <td>...</td>\n",
       "      <td>25.53</td>\n",
       "      <td>152.50</td>\n",
       "      <td>1709.0</td>\n",
       "      <td>0.1444</td>\n",
       "      <td>0.4245</td>\n",
       "      <td>0.4504</td>\n",
       "      <td>0.2430</td>\n",
       "      <td>0.3613</td>\n",
       "      <td>0.08758</td>\n",
       "      <td>NaN</td>\n",
       "    </tr>\n",
       "    <tr>\n",
       "      <th>3</th>\n",
       "      <td>84348301</td>\n",
       "      <td>M</td>\n",
       "      <td>11.42</td>\n",
       "      <td>20.38</td>\n",
       "      <td>77.58</td>\n",
       "      <td>386.1</td>\n",
       "      <td>0.14250</td>\n",
       "      <td>0.28390</td>\n",
       "      <td>0.2414</td>\n",
       "      <td>0.10520</td>\n",
       "      <td>...</td>\n",
       "      <td>26.50</td>\n",
       "      <td>98.87</td>\n",
       "      <td>567.7</td>\n",
       "      <td>0.2098</td>\n",
       "      <td>0.8663</td>\n",
       "      <td>0.6869</td>\n",
       "      <td>0.2575</td>\n",
       "      <td>0.6638</td>\n",
       "      <td>0.17300</td>\n",
       "      <td>NaN</td>\n",
       "    </tr>\n",
       "    <tr>\n",
       "      <th>4</th>\n",
       "      <td>84358402</td>\n",
       "      <td>M</td>\n",
       "      <td>20.29</td>\n",
       "      <td>14.34</td>\n",
       "      <td>135.10</td>\n",
       "      <td>1297.0</td>\n",
       "      <td>0.10030</td>\n",
       "      <td>0.13280</td>\n",
       "      <td>0.1980</td>\n",
       "      <td>0.10430</td>\n",
       "      <td>...</td>\n",
       "      <td>16.67</td>\n",
       "      <td>152.20</td>\n",
       "      <td>1575.0</td>\n",
       "      <td>0.1374</td>\n",
       "      <td>0.2050</td>\n",
       "      <td>0.4000</td>\n",
       "      <td>0.1625</td>\n",
       "      <td>0.2364</td>\n",
       "      <td>0.07678</td>\n",
       "      <td>NaN</td>\n",
       "    </tr>\n",
       "  </tbody>\n",
       "</table>\n",
       "<p>5 rows × 33 columns</p>\n",
       "</div>"
      ],
      "text/plain": [
       "         id diagnosis  radius_mean  texture_mean  perimeter_mean  area_mean  \\\n",
       "0    842302         M        17.99         10.38          122.80     1001.0   \n",
       "1    842517         M        20.57         17.77          132.90     1326.0   \n",
       "2  84300903         M        19.69         21.25          130.00     1203.0   \n",
       "3  84348301         M        11.42         20.38           77.58      386.1   \n",
       "4  84358402         M        20.29         14.34          135.10     1297.0   \n",
       "\n",
       "   smoothness_mean  compactness_mean  concavity_mean  concave points_mean  \\\n",
       "0          0.11840           0.27760          0.3001              0.14710   \n",
       "1          0.08474           0.07864          0.0869              0.07017   \n",
       "2          0.10960           0.15990          0.1974              0.12790   \n",
       "3          0.14250           0.28390          0.2414              0.10520   \n",
       "4          0.10030           0.13280          0.1980              0.10430   \n",
       "\n",
       "   ...  texture_worst  perimeter_worst  area_worst  smoothness_worst  \\\n",
       "0  ...          17.33           184.60      2019.0            0.1622   \n",
       "1  ...          23.41           158.80      1956.0            0.1238   \n",
       "2  ...          25.53           152.50      1709.0            0.1444   \n",
       "3  ...          26.50            98.87       567.7            0.2098   \n",
       "4  ...          16.67           152.20      1575.0            0.1374   \n",
       "\n",
       "   compactness_worst  concavity_worst  concave points_worst  symmetry_worst  \\\n",
       "0             0.6656           0.7119                0.2654          0.4601   \n",
       "1             0.1866           0.2416                0.1860          0.2750   \n",
       "2             0.4245           0.4504                0.2430          0.3613   \n",
       "3             0.8663           0.6869                0.2575          0.6638   \n",
       "4             0.2050           0.4000                0.1625          0.2364   \n",
       "\n",
       "   fractal_dimension_worst  Unnamed: 32  \n",
       "0                  0.11890          NaN  \n",
       "1                  0.08902          NaN  \n",
       "2                  0.08758          NaN  \n",
       "3                  0.17300          NaN  \n",
       "4                  0.07678          NaN  \n",
       "\n",
       "[5 rows x 33 columns]"
      ]
     },
     "execution_count": 192,
     "metadata": {},
     "output_type": "execute_result"
    }
   ],
   "source": [
    "data.head()"
   ]
  },
  {
   "cell_type": "code",
   "execution_count": 193,
   "id": "63946cc4",
   "metadata": {},
   "outputs": [
    {
     "data": {
      "text/plain": [
       "(569, 33)"
      ]
     },
     "execution_count": 193,
     "metadata": {},
     "output_type": "execute_result"
    }
   ],
   "source": [
    "data.shape"
   ]
  },
  {
   "cell_type": "markdown",
   "id": "242e5932",
   "metadata": {},
   "source": [
    "Información del Dataset para conocer sus columnas y  ver si tiene valores nulos que se deban eliminar"
   ]
  },
  {
   "cell_type": "code",
   "execution_count": 194,
   "id": "2aa00380",
   "metadata": {},
   "outputs": [
    {
     "name": "stdout",
     "output_type": "stream",
     "text": [
      "<class 'pandas.core.frame.DataFrame'>\n",
      "RangeIndex: 569 entries, 0 to 568\n",
      "Data columns (total 33 columns):\n",
      " #   Column                   Non-Null Count  Dtype  \n",
      "---  ------                   --------------  -----  \n",
      " 0   id                       569 non-null    int64  \n",
      " 1   diagnosis                569 non-null    object \n",
      " 2   radius_mean              569 non-null    float64\n",
      " 3   texture_mean             569 non-null    float64\n",
      " 4   perimeter_mean           569 non-null    float64\n",
      " 5   area_mean                569 non-null    float64\n",
      " 6   smoothness_mean          569 non-null    float64\n",
      " 7   compactness_mean         569 non-null    float64\n",
      " 8   concavity_mean           569 non-null    float64\n",
      " 9   concave points_mean      569 non-null    float64\n",
      " 10  symmetry_mean            569 non-null    float64\n",
      " 11  fractal_dimension_mean   569 non-null    float64\n",
      " 12  radius_se                569 non-null    float64\n",
      " 13  texture_se               569 non-null    float64\n",
      " 14  perimeter_se             569 non-null    float64\n",
      " 15  area_se                  569 non-null    float64\n",
      " 16  smoothness_se            569 non-null    float64\n",
      " 17  compactness_se           569 non-null    float64\n",
      " 18  concavity_se             569 non-null    float64\n",
      " 19  concave points_se        569 non-null    float64\n",
      " 20  symmetry_se              569 non-null    float64\n",
      " 21  fractal_dimension_se     569 non-null    float64\n",
      " 22  radius_worst             569 non-null    float64\n",
      " 23  texture_worst            569 non-null    float64\n",
      " 24  perimeter_worst          569 non-null    float64\n",
      " 25  area_worst               569 non-null    float64\n",
      " 26  smoothness_worst         569 non-null    float64\n",
      " 27  compactness_worst        569 non-null    float64\n",
      " 28  concavity_worst          569 non-null    float64\n",
      " 29  concave points_worst     569 non-null    float64\n",
      " 30  symmetry_worst           569 non-null    float64\n",
      " 31  fractal_dimension_worst  569 non-null    float64\n",
      " 32  Unnamed: 32              0 non-null      float64\n",
      "dtypes: float64(31), int64(1), object(1)\n",
      "memory usage: 146.8+ KB\n"
     ]
    }
   ],
   "source": [
    "data.info()"
   ]
  },
  {
   "cell_type": "code",
   "execution_count": 195,
   "id": "d1577360",
   "metadata": {},
   "outputs": [
    {
     "data": {
      "text/plain": [
       "id                           0\n",
       "diagnosis                    0\n",
       "radius_mean                  0\n",
       "texture_mean                 0\n",
       "perimeter_mean               0\n",
       "area_mean                    0\n",
       "smoothness_mean              0\n",
       "compactness_mean             0\n",
       "concavity_mean               0\n",
       "concave points_mean          0\n",
       "symmetry_mean                0\n",
       "fractal_dimension_mean       0\n",
       "radius_se                    0\n",
       "texture_se                   0\n",
       "perimeter_se                 0\n",
       "area_se                      0\n",
       "smoothness_se                0\n",
       "compactness_se               0\n",
       "concavity_se                 0\n",
       "concave points_se            0\n",
       "symmetry_se                  0\n",
       "fractal_dimension_se         0\n",
       "radius_worst                 0\n",
       "texture_worst                0\n",
       "perimeter_worst              0\n",
       "area_worst                   0\n",
       "smoothness_worst             0\n",
       "compactness_worst            0\n",
       "concavity_worst              0\n",
       "concave points_worst         0\n",
       "symmetry_worst               0\n",
       "fractal_dimension_worst      0\n",
       "Unnamed: 32                569\n",
       "dtype: int64"
      ]
     },
     "execution_count": 195,
     "metadata": {},
     "output_type": "execute_result"
    }
   ],
   "source": [
    "data.isna().sum()"
   ]
  },
  {
   "cell_type": "markdown",
   "id": "2570cfb3",
   "metadata": {},
   "source": [
    "De aquí vemos que exceptuando la última columna, el dataset está completo, no tiene valores nulos que sea necesario eliminar,\n",
    "Ahora mostramos las estadisticas de los datos para ver si es necesario escalarlos.\n",
    "La última columna no contiene datos por lo que será necesario eliminarla"
   ]
  },
  {
   "cell_type": "code",
   "execution_count": 196,
   "id": "6f2f5fc1",
   "metadata": {},
   "outputs": [
    {
     "data": {
      "text/html": [
       "<div>\n",
       "<style scoped>\n",
       "    .dataframe tbody tr th:only-of-type {\n",
       "        vertical-align: middle;\n",
       "    }\n",
       "\n",
       "    .dataframe tbody tr th {\n",
       "        vertical-align: top;\n",
       "    }\n",
       "\n",
       "    .dataframe thead th {\n",
       "        text-align: right;\n",
       "    }\n",
       "</style>\n",
       "<table border=\"1\" class=\"dataframe\">\n",
       "  <thead>\n",
       "    <tr style=\"text-align: right;\">\n",
       "      <th></th>\n",
       "      <th>id</th>\n",
       "      <th>radius_mean</th>\n",
       "      <th>texture_mean</th>\n",
       "      <th>perimeter_mean</th>\n",
       "      <th>area_mean</th>\n",
       "      <th>smoothness_mean</th>\n",
       "      <th>compactness_mean</th>\n",
       "      <th>concavity_mean</th>\n",
       "      <th>concave points_mean</th>\n",
       "      <th>symmetry_mean</th>\n",
       "      <th>...</th>\n",
       "      <th>texture_worst</th>\n",
       "      <th>perimeter_worst</th>\n",
       "      <th>area_worst</th>\n",
       "      <th>smoothness_worst</th>\n",
       "      <th>compactness_worst</th>\n",
       "      <th>concavity_worst</th>\n",
       "      <th>concave points_worst</th>\n",
       "      <th>symmetry_worst</th>\n",
       "      <th>fractal_dimension_worst</th>\n",
       "      <th>Unnamed: 32</th>\n",
       "    </tr>\n",
       "  </thead>\n",
       "  <tbody>\n",
       "    <tr>\n",
       "      <th>count</th>\n",
       "      <td>5.690000e+02</td>\n",
       "      <td>569.000000</td>\n",
       "      <td>569.000000</td>\n",
       "      <td>569.000000</td>\n",
       "      <td>569.000000</td>\n",
       "      <td>569.000000</td>\n",
       "      <td>569.000000</td>\n",
       "      <td>569.000000</td>\n",
       "      <td>569.000000</td>\n",
       "      <td>569.000000</td>\n",
       "      <td>...</td>\n",
       "      <td>569.000000</td>\n",
       "      <td>569.000000</td>\n",
       "      <td>569.000000</td>\n",
       "      <td>569.000000</td>\n",
       "      <td>569.000000</td>\n",
       "      <td>569.000000</td>\n",
       "      <td>569.000000</td>\n",
       "      <td>569.000000</td>\n",
       "      <td>569.000000</td>\n",
       "      <td>0.0</td>\n",
       "    </tr>\n",
       "    <tr>\n",
       "      <th>mean</th>\n",
       "      <td>3.037183e+07</td>\n",
       "      <td>14.127292</td>\n",
       "      <td>19.289649</td>\n",
       "      <td>91.969033</td>\n",
       "      <td>654.889104</td>\n",
       "      <td>0.096360</td>\n",
       "      <td>0.104341</td>\n",
       "      <td>0.088799</td>\n",
       "      <td>0.048919</td>\n",
       "      <td>0.181162</td>\n",
       "      <td>...</td>\n",
       "      <td>25.677223</td>\n",
       "      <td>107.261213</td>\n",
       "      <td>880.583128</td>\n",
       "      <td>0.132369</td>\n",
       "      <td>0.254265</td>\n",
       "      <td>0.272188</td>\n",
       "      <td>0.114606</td>\n",
       "      <td>0.290076</td>\n",
       "      <td>0.083946</td>\n",
       "      <td>NaN</td>\n",
       "    </tr>\n",
       "    <tr>\n",
       "      <th>std</th>\n",
       "      <td>1.250206e+08</td>\n",
       "      <td>3.524049</td>\n",
       "      <td>4.301036</td>\n",
       "      <td>24.298981</td>\n",
       "      <td>351.914129</td>\n",
       "      <td>0.014064</td>\n",
       "      <td>0.052813</td>\n",
       "      <td>0.079720</td>\n",
       "      <td>0.038803</td>\n",
       "      <td>0.027414</td>\n",
       "      <td>...</td>\n",
       "      <td>6.146258</td>\n",
       "      <td>33.602542</td>\n",
       "      <td>569.356993</td>\n",
       "      <td>0.022832</td>\n",
       "      <td>0.157336</td>\n",
       "      <td>0.208624</td>\n",
       "      <td>0.065732</td>\n",
       "      <td>0.061867</td>\n",
       "      <td>0.018061</td>\n",
       "      <td>NaN</td>\n",
       "    </tr>\n",
       "    <tr>\n",
       "      <th>min</th>\n",
       "      <td>8.670000e+03</td>\n",
       "      <td>6.981000</td>\n",
       "      <td>9.710000</td>\n",
       "      <td>43.790000</td>\n",
       "      <td>143.500000</td>\n",
       "      <td>0.052630</td>\n",
       "      <td>0.019380</td>\n",
       "      <td>0.000000</td>\n",
       "      <td>0.000000</td>\n",
       "      <td>0.106000</td>\n",
       "      <td>...</td>\n",
       "      <td>12.020000</td>\n",
       "      <td>50.410000</td>\n",
       "      <td>185.200000</td>\n",
       "      <td>0.071170</td>\n",
       "      <td>0.027290</td>\n",
       "      <td>0.000000</td>\n",
       "      <td>0.000000</td>\n",
       "      <td>0.156500</td>\n",
       "      <td>0.055040</td>\n",
       "      <td>NaN</td>\n",
       "    </tr>\n",
       "    <tr>\n",
       "      <th>25%</th>\n",
       "      <td>8.692180e+05</td>\n",
       "      <td>11.700000</td>\n",
       "      <td>16.170000</td>\n",
       "      <td>75.170000</td>\n",
       "      <td>420.300000</td>\n",
       "      <td>0.086370</td>\n",
       "      <td>0.064920</td>\n",
       "      <td>0.029560</td>\n",
       "      <td>0.020310</td>\n",
       "      <td>0.161900</td>\n",
       "      <td>...</td>\n",
       "      <td>21.080000</td>\n",
       "      <td>84.110000</td>\n",
       "      <td>515.300000</td>\n",
       "      <td>0.116600</td>\n",
       "      <td>0.147200</td>\n",
       "      <td>0.114500</td>\n",
       "      <td>0.064930</td>\n",
       "      <td>0.250400</td>\n",
       "      <td>0.071460</td>\n",
       "      <td>NaN</td>\n",
       "    </tr>\n",
       "    <tr>\n",
       "      <th>50%</th>\n",
       "      <td>9.060240e+05</td>\n",
       "      <td>13.370000</td>\n",
       "      <td>18.840000</td>\n",
       "      <td>86.240000</td>\n",
       "      <td>551.100000</td>\n",
       "      <td>0.095870</td>\n",
       "      <td>0.092630</td>\n",
       "      <td>0.061540</td>\n",
       "      <td>0.033500</td>\n",
       "      <td>0.179200</td>\n",
       "      <td>...</td>\n",
       "      <td>25.410000</td>\n",
       "      <td>97.660000</td>\n",
       "      <td>686.500000</td>\n",
       "      <td>0.131300</td>\n",
       "      <td>0.211900</td>\n",
       "      <td>0.226700</td>\n",
       "      <td>0.099930</td>\n",
       "      <td>0.282200</td>\n",
       "      <td>0.080040</td>\n",
       "      <td>NaN</td>\n",
       "    </tr>\n",
       "    <tr>\n",
       "      <th>75%</th>\n",
       "      <td>8.813129e+06</td>\n",
       "      <td>15.780000</td>\n",
       "      <td>21.800000</td>\n",
       "      <td>104.100000</td>\n",
       "      <td>782.700000</td>\n",
       "      <td>0.105300</td>\n",
       "      <td>0.130400</td>\n",
       "      <td>0.130700</td>\n",
       "      <td>0.074000</td>\n",
       "      <td>0.195700</td>\n",
       "      <td>...</td>\n",
       "      <td>29.720000</td>\n",
       "      <td>125.400000</td>\n",
       "      <td>1084.000000</td>\n",
       "      <td>0.146000</td>\n",
       "      <td>0.339100</td>\n",
       "      <td>0.382900</td>\n",
       "      <td>0.161400</td>\n",
       "      <td>0.317900</td>\n",
       "      <td>0.092080</td>\n",
       "      <td>NaN</td>\n",
       "    </tr>\n",
       "    <tr>\n",
       "      <th>max</th>\n",
       "      <td>9.113205e+08</td>\n",
       "      <td>28.110000</td>\n",
       "      <td>39.280000</td>\n",
       "      <td>188.500000</td>\n",
       "      <td>2501.000000</td>\n",
       "      <td>0.163400</td>\n",
       "      <td>0.345400</td>\n",
       "      <td>0.426800</td>\n",
       "      <td>0.201200</td>\n",
       "      <td>0.304000</td>\n",
       "      <td>...</td>\n",
       "      <td>49.540000</td>\n",
       "      <td>251.200000</td>\n",
       "      <td>4254.000000</td>\n",
       "      <td>0.222600</td>\n",
       "      <td>1.058000</td>\n",
       "      <td>1.252000</td>\n",
       "      <td>0.291000</td>\n",
       "      <td>0.663800</td>\n",
       "      <td>0.207500</td>\n",
       "      <td>NaN</td>\n",
       "    </tr>\n",
       "  </tbody>\n",
       "</table>\n",
       "<p>8 rows × 32 columns</p>\n",
       "</div>"
      ],
      "text/plain": [
       "                 id  radius_mean  texture_mean  perimeter_mean    area_mean  \\\n",
       "count  5.690000e+02   569.000000    569.000000      569.000000   569.000000   \n",
       "mean   3.037183e+07    14.127292     19.289649       91.969033   654.889104   \n",
       "std    1.250206e+08     3.524049      4.301036       24.298981   351.914129   \n",
       "min    8.670000e+03     6.981000      9.710000       43.790000   143.500000   \n",
       "25%    8.692180e+05    11.700000     16.170000       75.170000   420.300000   \n",
       "50%    9.060240e+05    13.370000     18.840000       86.240000   551.100000   \n",
       "75%    8.813129e+06    15.780000     21.800000      104.100000   782.700000   \n",
       "max    9.113205e+08    28.110000     39.280000      188.500000  2501.000000   \n",
       "\n",
       "       smoothness_mean  compactness_mean  concavity_mean  concave points_mean  \\\n",
       "count       569.000000        569.000000      569.000000           569.000000   \n",
       "mean          0.096360          0.104341        0.088799             0.048919   \n",
       "std           0.014064          0.052813        0.079720             0.038803   \n",
       "min           0.052630          0.019380        0.000000             0.000000   \n",
       "25%           0.086370          0.064920        0.029560             0.020310   \n",
       "50%           0.095870          0.092630        0.061540             0.033500   \n",
       "75%           0.105300          0.130400        0.130700             0.074000   \n",
       "max           0.163400          0.345400        0.426800             0.201200   \n",
       "\n",
       "       symmetry_mean  ...  texture_worst  perimeter_worst   area_worst  \\\n",
       "count     569.000000  ...     569.000000       569.000000   569.000000   \n",
       "mean        0.181162  ...      25.677223       107.261213   880.583128   \n",
       "std         0.027414  ...       6.146258        33.602542   569.356993   \n",
       "min         0.106000  ...      12.020000        50.410000   185.200000   \n",
       "25%         0.161900  ...      21.080000        84.110000   515.300000   \n",
       "50%         0.179200  ...      25.410000        97.660000   686.500000   \n",
       "75%         0.195700  ...      29.720000       125.400000  1084.000000   \n",
       "max         0.304000  ...      49.540000       251.200000  4254.000000   \n",
       "\n",
       "       smoothness_worst  compactness_worst  concavity_worst  \\\n",
       "count        569.000000         569.000000       569.000000   \n",
       "mean           0.132369           0.254265         0.272188   \n",
       "std            0.022832           0.157336         0.208624   \n",
       "min            0.071170           0.027290         0.000000   \n",
       "25%            0.116600           0.147200         0.114500   \n",
       "50%            0.131300           0.211900         0.226700   \n",
       "75%            0.146000           0.339100         0.382900   \n",
       "max            0.222600           1.058000         1.252000   \n",
       "\n",
       "       concave points_worst  symmetry_worst  fractal_dimension_worst  \\\n",
       "count            569.000000      569.000000               569.000000   \n",
       "mean               0.114606        0.290076                 0.083946   \n",
       "std                0.065732        0.061867                 0.018061   \n",
       "min                0.000000        0.156500                 0.055040   \n",
       "25%                0.064930        0.250400                 0.071460   \n",
       "50%                0.099930        0.282200                 0.080040   \n",
       "75%                0.161400        0.317900                 0.092080   \n",
       "max                0.291000        0.663800                 0.207500   \n",
       "\n",
       "       Unnamed: 32  \n",
       "count          0.0  \n",
       "mean           NaN  \n",
       "std            NaN  \n",
       "min            NaN  \n",
       "25%            NaN  \n",
       "50%            NaN  \n",
       "75%            NaN  \n",
       "max            NaN  \n",
       "\n",
       "[8 rows x 32 columns]"
      ]
     },
     "execution_count": 196,
     "metadata": {},
     "output_type": "execute_result"
    }
   ],
   "source": [
    "data.describe()"
   ]
  },
  {
   "cell_type": "markdown",
   "id": "bfdc95f1",
   "metadata": {},
   "source": [
    "Se observa que hay columnas que toman valores en el orden de $10^{-1}$, mientras que otras toman valores en el rango de $10^{3}$, por lo que será necesario escalar los datos."
   ]
  },
  {
   "cell_type": "markdown",
   "id": "706b5859",
   "metadata": {},
   "source": [
    "Por último, veamos que valores toma la columna target (diagnosis)"
   ]
  },
  {
   "cell_type": "code",
   "execution_count": 197,
   "id": "b8d2065b",
   "metadata": {},
   "outputs": [
    {
     "data": {
      "text/plain": [
       "array(['M', 'B'], dtype=object)"
      ]
     },
     "execution_count": 197,
     "metadata": {},
     "output_type": "execute_result"
    }
   ],
   "source": [
    "data[\"diagnosis\"].unique()"
   ]
  },
  {
   "cell_type": "markdown",
   "id": "854f4a38",
   "metadata": {},
   "source": [
    "Vemos que toma el valor M para tumores malignos y B para tumores benignos por lo que sera necesario codificar esto par convertir M a 1 y B a 0 y poder pasarlo a la red"
   ]
  },
  {
   "cell_type": "markdown",
   "id": "163e2e34",
   "metadata": {},
   "source": [
    "## Paso 3. Preprocesamiento de los datos 🛠️"
   ]
  },
  {
   "cell_type": "markdown",
   "id": "b31bd308",
   "metadata": {},
   "source": [
    "Comenzamos por eliminar columnas que no son necesarias para el modelo como la columna de id y la ultima columna la cual no tiene valores"
   ]
  },
  {
   "cell_type": "code",
   "execution_count": 198,
   "id": "6dfb63cb",
   "metadata": {},
   "outputs": [],
   "source": [
    "data.drop(columns=[\"id\", data.columns[-1]], inplace=True)"
   ]
  },
  {
   "cell_type": "markdown",
   "id": "2fbb34db",
   "metadata": {},
   "source": [
    "Ahora codificamos el target asignando el valor de 1 a los diagnosticos malignos y el valor de 0 a los diagnosticos benignos"
   ]
  },
  {
   "cell_type": "code",
   "execution_count": 199,
   "id": "5ce813ab",
   "metadata": {},
   "outputs": [],
   "source": [
    "data[\"diagnostico\"] = (data[\"diagnosis\"] == \"M\").to_numpy() * 1\n",
    "# Eliminar la columna de diagnostico no codificada\n",
    "data.drop(\"diagnosis\", axis=1, inplace=True)"
   ]
  },
  {
   "cell_type": "markdown",
   "id": "a21af70c",
   "metadata": {},
   "source": [
    "Checamos el porcentaje de diagnosticos malignos para ver si el dataset está balanceado"
   ]
  },
  {
   "cell_type": "code",
   "execution_count": 200,
   "id": "b555e04c",
   "metadata": {},
   "outputs": [
    {
     "name": "stdout",
     "output_type": "stream",
     "text": [
      "El número de diagnosticos malignos es de 0.37258347978910367\n"
     ]
    }
   ],
   "source": [
    "n_maligno = data[\"diagnostico\"].sum()\n",
    "print(f\"El número de diagnosticos malignos es de {n_maligno / len(data)}\")"
   ]
  },
  {
   "cell_type": "markdown",
   "id": "ad07c881",
   "metadata": {},
   "source": [
    "Aunque hay menos registros malignos, el dataset no parece tan desbalanceado, por lo que podemos seguir"
   ]
  },
  {
   "cell_type": "markdown",
   "id": "56bbe857",
   "metadata": {},
   "source": [
    "A continuación, separamos las variables de entrada de las salidas"
   ]
  },
  {
   "cell_type": "code",
   "execution_count": 201,
   "id": "45b3296c",
   "metadata": {},
   "outputs": [],
   "source": [
    "X = data.drop(columns=\"diagnostico\")\n",
    "Y = data[\"diagnostico\"].to_numpy()"
   ]
  },
  {
   "cell_type": "markdown",
   "id": "3ed9c482",
   "metadata": {},
   "source": [
    "El siguiente paso es escalar los datos para que tengan rangos similares y poder entrenar la red de mejor manera"
   ]
  },
  {
   "cell_type": "code",
   "execution_count": 202,
   "id": "324ac676",
   "metadata": {},
   "outputs": [],
   "source": [
    "X = MinMaxScaler().fit_transform(X)"
   ]
  },
  {
   "cell_type": "markdown",
   "id": "9670abe8",
   "metadata": {},
   "source": [
    "Finalmente, particionamos los datos con el 90% para entrenamiento y el 10% para prueba"
   ]
  },
  {
   "cell_type": "code",
   "execution_count": 203,
   "id": "5f59ea39",
   "metadata": {},
   "outputs": [],
   "source": [
    "X_train, X_test, Y_train, Y_test = train_test_split(X, Y, test_size=0.1)"
   ]
  },
  {
   "cell_type": "markdown",
   "id": "7d334309",
   "metadata": {},
   "source": [
    "# Paso 4. Diseñar Red Neuronal 👨‍💻"
   ]
  },
  {
   "cell_type": "code",
   "execution_count": 204,
   "id": "cd69da70",
   "metadata": {},
   "outputs": [],
   "source": [
    "model = keras.Sequential()\n",
    "model.add(keras.layers.Dense(128, activation=keras.layers.LeakyReLU(), input_shape=[X_train.shape[1]]))\n",
    "model.add(keras.layers.Dense(32, activation=keras.layers.LeakyReLU()))\n",
    "model.add(keras.layers.Dense(1, activation=\"sigmoid\"))\n",
    "model.compile(loss=keras.losses.binary_crossentropy, optimizer=keras.optimizers.legacy.Adam(), metrics=[\"accuracy\"])"
   ]
  },
  {
   "cell_type": "code",
   "execution_count": 205,
   "id": "5e845750",
   "metadata": {},
   "outputs": [
    {
     "name": "stdout",
     "output_type": "stream",
     "text": [
      "Model: \"sequential_16\"\n",
      "_________________________________________________________________\n",
      " Layer (type)                Output Shape              Param #   \n",
      "=================================================================\n",
      " dense_57 (Dense)            (None, 128)               3968      \n",
      "                                                                 \n",
      " dense_58 (Dense)            (None, 32)                4128      \n",
      "                                                                 \n",
      " dense_59 (Dense)            (None, 1)                 33        \n",
      "                                                                 \n",
      "=================================================================\n",
      "Total params: 8,129\n",
      "Trainable params: 8,129\n",
      "Non-trainable params: 0\n",
      "_________________________________________________________________\n"
     ]
    }
   ],
   "source": [
    "# Resumen del modelo\n",
    "model.summary()"
   ]
  },
  {
   "cell_type": "markdown",
   "id": "dcf646a4",
   "metadata": {},
   "source": [
    "## Paso 5. Entrenar la Red Neuronal 🧠💪"
   ]
  },
  {
   "cell_type": "code",
   "execution_count": 206,
   "id": "3dfb593d",
   "metadata": {},
   "outputs": [
    {
     "name": "stdout",
     "output_type": "stream",
     "text": [
      "Epoch 1/100\n",
      "15/15 [==============================] - 0s 5ms/step - loss: 0.6389 - accuracy: 0.6348 - val_loss: 0.5995 - val_accuracy: 0.6538\n",
      "Epoch 2/100\n",
      "15/15 [==============================] - 0s 1ms/step - loss: 0.5231 - accuracy: 0.8435 - val_loss: 0.4324 - val_accuracy: 0.9615\n",
      "Epoch 3/100\n",
      "15/15 [==============================] - 0s 1ms/step - loss: 0.4101 - accuracy: 0.8935 - val_loss: 0.3450 - val_accuracy: 0.9038\n",
      "Epoch 4/100\n",
      "15/15 [==============================] - 0s 1ms/step - loss: 0.3196 - accuracy: 0.8957 - val_loss: 0.2105 - val_accuracy: 0.9423\n",
      "Epoch 5/100\n",
      "15/15 [==============================] - 0s 1ms/step - loss: 0.2546 - accuracy: 0.9022 - val_loss: 0.1838 - val_accuracy: 0.9615\n",
      "Epoch 6/100\n",
      "15/15 [==============================] - 0s 1ms/step - loss: 0.2217 - accuracy: 0.9130 - val_loss: 0.1319 - val_accuracy: 0.9615\n",
      "Epoch 7/100\n",
      "15/15 [==============================] - 0s 1ms/step - loss: 0.1886 - accuracy: 0.9239 - val_loss: 0.1159 - val_accuracy: 0.9615\n",
      "Epoch 8/100\n",
      "15/15 [==============================] - 0s 1ms/step - loss: 0.1730 - accuracy: 0.9326 - val_loss: 0.1131 - val_accuracy: 0.9808\n",
      "Epoch 9/100\n",
      "15/15 [==============================] - 0s 1ms/step - loss: 0.1556 - accuracy: 0.9413 - val_loss: 0.1007 - val_accuracy: 0.9423\n",
      "Epoch 10/100\n",
      "15/15 [==============================] - 0s 1ms/step - loss: 0.1415 - accuracy: 0.9413 - val_loss: 0.0950 - val_accuracy: 0.9423\n",
      "Epoch 11/100\n",
      "15/15 [==============================] - 0s 1ms/step - loss: 0.1255 - accuracy: 0.9674 - val_loss: 0.0938 - val_accuracy: 0.9615\n",
      "Epoch 12/100\n",
      "15/15 [==============================] - 0s 1ms/step - loss: 0.1166 - accuracy: 0.9565 - val_loss: 0.0849 - val_accuracy: 0.9615\n",
      "Epoch 13/100\n",
      "15/15 [==============================] - 0s 1ms/step - loss: 0.1057 - accuracy: 0.9652 - val_loss: 0.0825 - val_accuracy: 0.9615\n",
      "Epoch 14/100\n",
      "15/15 [==============================] - 0s 1ms/step - loss: 0.1052 - accuracy: 0.9717 - val_loss: 0.0852 - val_accuracy: 0.9615\n",
      "Epoch 15/100\n",
      "15/15 [==============================] - 0s 1ms/step - loss: 0.0924 - accuracy: 0.9761 - val_loss: 0.0793 - val_accuracy: 0.9615\n",
      "Epoch 16/100\n",
      "15/15 [==============================] - 0s 1ms/step - loss: 0.0892 - accuracy: 0.9761 - val_loss: 0.0822 - val_accuracy: 0.9808\n",
      "Epoch 17/100\n",
      "15/15 [==============================] - 0s 1ms/step - loss: 0.0859 - accuracy: 0.9761 - val_loss: 0.0773 - val_accuracy: 0.9615\n",
      "Epoch 18/100\n",
      "15/15 [==============================] - 0s 1ms/step - loss: 0.0826 - accuracy: 0.9783 - val_loss: 0.0747 - val_accuracy: 0.9615\n",
      "Epoch 19/100\n",
      "15/15 [==============================] - 0s 1ms/step - loss: 0.0804 - accuracy: 0.9739 - val_loss: 0.0694 - val_accuracy: 0.9808\n",
      "Epoch 20/100\n",
      "15/15 [==============================] - 0s 1ms/step - loss: 0.0742 - accuracy: 0.9783 - val_loss: 0.0675 - val_accuracy: 0.9808\n",
      "Epoch 21/100\n",
      "15/15 [==============================] - 0s 1ms/step - loss: 0.0712 - accuracy: 0.9783 - val_loss: 0.0682 - val_accuracy: 0.9808\n",
      "Epoch 22/100\n",
      "15/15 [==============================] - 0s 1ms/step - loss: 0.0718 - accuracy: 0.9761 - val_loss: 0.0803 - val_accuracy: 0.9808\n",
      "Epoch 23/100\n",
      "15/15 [==============================] - 0s 1ms/step - loss: 0.0692 - accuracy: 0.9739 - val_loss: 0.0713 - val_accuracy: 0.9808\n",
      "Epoch 24/100\n",
      "15/15 [==============================] - 0s 1ms/step - loss: 0.0649 - accuracy: 0.9804 - val_loss: 0.0686 - val_accuracy: 0.9808\n",
      "Epoch 25/100\n",
      "15/15 [==============================] - 0s 1ms/step - loss: 0.0638 - accuracy: 0.9783 - val_loss: 0.0671 - val_accuracy: 0.9808\n",
      "Epoch 26/100\n",
      "15/15 [==============================] - 0s 1ms/step - loss: 0.0624 - accuracy: 0.9804 - val_loss: 0.0620 - val_accuracy: 0.9808\n",
      "Epoch 27/100\n",
      "15/15 [==============================] - 0s 1ms/step - loss: 0.0646 - accuracy: 0.9783 - val_loss: 0.0637 - val_accuracy: 0.9808\n",
      "Epoch 28/100\n",
      "15/15 [==============================] - 0s 1ms/step - loss: 0.0640 - accuracy: 0.9783 - val_loss: 0.0680 - val_accuracy: 0.9808\n",
      "Epoch 29/100\n",
      "15/15 [==============================] - 0s 1ms/step - loss: 0.0589 - accuracy: 0.9783 - val_loss: 0.0661 - val_accuracy: 0.9808\n",
      "Epoch 30/100\n",
      "15/15 [==============================] - 0s 1ms/step - loss: 0.0593 - accuracy: 0.9826 - val_loss: 0.0628 - val_accuracy: 0.9808\n",
      "Epoch 31/100\n",
      "15/15 [==============================] - 0s 1ms/step - loss: 0.0568 - accuracy: 0.9804 - val_loss: 0.0609 - val_accuracy: 0.9808\n",
      "Epoch 32/100\n",
      "15/15 [==============================] - 0s 1ms/step - loss: 0.0588 - accuracy: 0.9848 - val_loss: 0.0679 - val_accuracy: 0.9615\n",
      "Epoch 33/100\n",
      "15/15 [==============================] - 0s 1ms/step - loss: 0.0648 - accuracy: 0.9804 - val_loss: 0.0604 - val_accuracy: 0.9808\n",
      "Epoch 34/100\n",
      "15/15 [==============================] - 0s 1ms/step - loss: 0.0873 - accuracy: 0.9761 - val_loss: 0.0811 - val_accuracy: 0.9615\n",
      "Epoch 35/100\n",
      "15/15 [==============================] - 0s 1ms/step - loss: 0.0598 - accuracy: 0.9783 - val_loss: 0.0588 - val_accuracy: 0.9808\n",
      "Epoch 36/100\n",
      "15/15 [==============================] - 0s 1ms/step - loss: 0.0533 - accuracy: 0.9826 - val_loss: 0.0682 - val_accuracy: 0.9615\n",
      "Epoch 37/100\n",
      "15/15 [==============================] - 0s 1ms/step - loss: 0.0562 - accuracy: 0.9783 - val_loss: 0.0606 - val_accuracy: 0.9808\n",
      "Epoch 38/100\n",
      "15/15 [==============================] - 0s 1ms/step - loss: 0.0608 - accuracy: 0.9804 - val_loss: 0.0704 - val_accuracy: 0.9615\n",
      "Epoch 39/100\n",
      "15/15 [==============================] - 0s 1ms/step - loss: 0.0629 - accuracy: 0.9761 - val_loss: 0.0644 - val_accuracy: 0.9808\n",
      "Epoch 40/100\n",
      "15/15 [==============================] - 0s 1ms/step - loss: 0.0514 - accuracy: 0.9826 - val_loss: 0.0605 - val_accuracy: 0.9808\n",
      "Epoch 41/100\n",
      "15/15 [==============================] - 0s 1ms/step - loss: 0.0521 - accuracy: 0.9804 - val_loss: 0.0676 - val_accuracy: 0.9808\n",
      "Epoch 42/100\n",
      "15/15 [==============================] - 0s 1ms/step - loss: 0.0513 - accuracy: 0.9870 - val_loss: 0.0602 - val_accuracy: 0.9808\n",
      "Epoch 43/100\n",
      "15/15 [==============================] - 0s 1ms/step - loss: 0.0492 - accuracy: 0.9826 - val_loss: 0.0648 - val_accuracy: 0.9808\n",
      "Epoch 44/100\n",
      "15/15 [==============================] - 0s 1ms/step - loss: 0.0496 - accuracy: 0.9870 - val_loss: 0.0544 - val_accuracy: 0.9808\n",
      "Epoch 45/100\n",
      "15/15 [==============================] - 0s 1ms/step - loss: 0.0485 - accuracy: 0.9891 - val_loss: 0.0582 - val_accuracy: 0.9808\n",
      "Epoch 46/100\n",
      "15/15 [==============================] - 0s 1ms/step - loss: 0.0528 - accuracy: 0.9848 - val_loss: 0.0947 - val_accuracy: 0.9615\n",
      "Epoch 47/100\n",
      "15/15 [==============================] - 0s 1ms/step - loss: 0.0649 - accuracy: 0.9717 - val_loss: 0.0528 - val_accuracy: 0.9808\n",
      "Epoch 48/100\n",
      "15/15 [==============================] - 0s 1ms/step - loss: 0.0475 - accuracy: 0.9870 - val_loss: 0.0535 - val_accuracy: 0.9808\n",
      "Epoch 49/100\n",
      "15/15 [==============================] - 0s 1ms/step - loss: 0.0503 - accuracy: 0.9848 - val_loss: 0.0545 - val_accuracy: 0.9808\n",
      "Epoch 50/100\n",
      "15/15 [==============================] - 0s 1ms/step - loss: 0.0471 - accuracy: 0.9848 - val_loss: 0.0553 - val_accuracy: 0.9808\n",
      "Epoch 51/100\n",
      "15/15 [==============================] - 0s 1ms/step - loss: 0.0461 - accuracy: 0.9848 - val_loss: 0.0587 - val_accuracy: 0.9808\n",
      "Epoch 52/100\n",
      "15/15 [==============================] - 0s 1ms/step - loss: 0.0501 - accuracy: 0.9848 - val_loss: 0.0683 - val_accuracy: 0.9615\n",
      "Epoch 53/100\n",
      "15/15 [==============================] - 0s 1ms/step - loss: 0.0526 - accuracy: 0.9848 - val_loss: 0.0561 - val_accuracy: 0.9808\n",
      "Epoch 54/100\n",
      "15/15 [==============================] - 0s 1ms/step - loss: 0.0550 - accuracy: 0.9761 - val_loss: 0.0585 - val_accuracy: 0.9808\n",
      "Epoch 55/100\n",
      "15/15 [==============================] - 0s 1ms/step - loss: 0.0468 - accuracy: 0.9848 - val_loss: 0.0520 - val_accuracy: 0.9808\n",
      "Epoch 56/100\n",
      "15/15 [==============================] - 0s 1ms/step - loss: 0.0447 - accuracy: 0.9848 - val_loss: 0.0546 - val_accuracy: 0.9808\n",
      "Epoch 57/100\n",
      "15/15 [==============================] - 0s 1ms/step - loss: 0.0493 - accuracy: 0.9848 - val_loss: 0.0662 - val_accuracy: 0.9615\n",
      "Epoch 58/100\n",
      "15/15 [==============================] - 0s 1ms/step - loss: 0.0448 - accuracy: 0.9848 - val_loss: 0.0509 - val_accuracy: 1.0000\n"
     ]
    },
    {
     "name": "stdout",
     "output_type": "stream",
     "text": [
      "Epoch 59/100\n",
      "15/15 [==============================] - 0s 1ms/step - loss: 0.0457 - accuracy: 0.9891 - val_loss: 0.0509 - val_accuracy: 1.0000\n",
      "Epoch 60/100\n",
      "15/15 [==============================] - 0s 1ms/step - loss: 0.0466 - accuracy: 0.9848 - val_loss: 0.0515 - val_accuracy: 0.9808\n",
      "Epoch 61/100\n",
      "15/15 [==============================] - 0s 1ms/step - loss: 0.0525 - accuracy: 0.9848 - val_loss: 0.0840 - val_accuracy: 0.9615\n",
      "Epoch 62/100\n",
      "15/15 [==============================] - 0s 1ms/step - loss: 0.0528 - accuracy: 0.9826 - val_loss: 0.0483 - val_accuracy: 0.9808\n",
      "Epoch 63/100\n",
      "15/15 [==============================] - 0s 1ms/step - loss: 0.0437 - accuracy: 0.9870 - val_loss: 0.0521 - val_accuracy: 0.9808\n",
      "Epoch 64/100\n",
      "15/15 [==============================] - 0s 1ms/step - loss: 0.0460 - accuracy: 0.9848 - val_loss: 0.0476 - val_accuracy: 0.9808\n",
      "Epoch 65/100\n",
      "15/15 [==============================] - 0s 1ms/step - loss: 0.0418 - accuracy: 0.9870 - val_loss: 0.0593 - val_accuracy: 0.9808\n",
      "Epoch 66/100\n",
      "15/15 [==============================] - 0s 1ms/step - loss: 0.0509 - accuracy: 0.9870 - val_loss: 0.0689 - val_accuracy: 0.9615\n",
      "Epoch 67/100\n",
      "15/15 [==============================] - 0s 1ms/step - loss: 0.0463 - accuracy: 0.9804 - val_loss: 0.0497 - val_accuracy: 0.9808\n",
      "Epoch 68/100\n",
      "15/15 [==============================] - 0s 1ms/step - loss: 0.0429 - accuracy: 0.9848 - val_loss: 0.0511 - val_accuracy: 0.9808\n",
      "Epoch 69/100\n",
      "15/15 [==============================] - 0s 1ms/step - loss: 0.0416 - accuracy: 0.9870 - val_loss: 0.0480 - val_accuracy: 0.9808\n",
      "Epoch 70/100\n",
      "15/15 [==============================] - 0s 1ms/step - loss: 0.0462 - accuracy: 0.9848 - val_loss: 0.0518 - val_accuracy: 0.9808\n",
      "Epoch 71/100\n",
      "15/15 [==============================] - 0s 1ms/step - loss: 0.0465 - accuracy: 0.9848 - val_loss: 0.0649 - val_accuracy: 0.9808\n",
      "Epoch 72/100\n",
      "15/15 [==============================] - 0s 1ms/step - loss: 0.0540 - accuracy: 0.9826 - val_loss: 0.0514 - val_accuracy: 0.9808\n",
      "Epoch 73/100\n",
      "15/15 [==============================] - 0s 1ms/step - loss: 0.0500 - accuracy: 0.9826 - val_loss: 0.0550 - val_accuracy: 0.9808\n",
      "Epoch 74/100\n",
      "15/15 [==============================] - 0s 1ms/step - loss: 0.0411 - accuracy: 0.9870 - val_loss: 0.0597 - val_accuracy: 0.9808\n",
      "Epoch 75/100\n",
      "15/15 [==============================] - 0s 1ms/step - loss: 0.0424 - accuracy: 0.9826 - val_loss: 0.0484 - val_accuracy: 0.9808\n",
      "Epoch 76/100\n",
      "15/15 [==============================] - 0s 1ms/step - loss: 0.0397 - accuracy: 0.9848 - val_loss: 0.0511 - val_accuracy: 0.9808\n",
      "Epoch 77/100\n",
      "15/15 [==============================] - 0s 1ms/step - loss: 0.0440 - accuracy: 0.9870 - val_loss: 0.0499 - val_accuracy: 1.0000\n",
      "Epoch 78/100\n",
      "15/15 [==============================] - 0s 1ms/step - loss: 0.0439 - accuracy: 0.9826 - val_loss: 0.0507 - val_accuracy: 1.0000\n",
      "Epoch 79/100\n",
      "15/15 [==============================] - 0s 1ms/step - loss: 0.0517 - accuracy: 0.9804 - val_loss: 0.0495 - val_accuracy: 1.0000\n",
      "Epoch 80/100\n",
      "15/15 [==============================] - 0s 1ms/step - loss: 0.0409 - accuracy: 0.9870 - val_loss: 0.0479 - val_accuracy: 0.9808\n",
      "Epoch 81/100\n",
      "15/15 [==============================] - 0s 1ms/step - loss: 0.0396 - accuracy: 0.9848 - val_loss: 0.0698 - val_accuracy: 0.9615\n",
      "Epoch 82/100\n",
      "15/15 [==============================] - 0s 1ms/step - loss: 0.0407 - accuracy: 0.9804 - val_loss: 0.0479 - val_accuracy: 1.0000\n",
      "Epoch 83/100\n",
      "15/15 [==============================] - 0s 1ms/step - loss: 0.0383 - accuracy: 0.9826 - val_loss: 0.0641 - val_accuracy: 0.9615\n",
      "Epoch 84/100\n",
      "15/15 [==============================] - 0s 1ms/step - loss: 0.0439 - accuracy: 0.9870 - val_loss: 0.0483 - val_accuracy: 0.9808\n",
      "Epoch 85/100\n",
      "15/15 [==============================] - 0s 1ms/step - loss: 0.0387 - accuracy: 0.9891 - val_loss: 0.0511 - val_accuracy: 1.0000\n",
      "Epoch 86/100\n",
      "15/15 [==============================] - 0s 1ms/step - loss: 0.0398 - accuracy: 0.9848 - val_loss: 0.0764 - val_accuracy: 0.9615\n",
      "Epoch 87/100\n",
      "15/15 [==============================] - 0s 1ms/step - loss: 0.0366 - accuracy: 0.9848 - val_loss: 0.0496 - val_accuracy: 1.0000\n",
      "Epoch 88/100\n",
      "15/15 [==============================] - 0s 1ms/step - loss: 0.0385 - accuracy: 0.9848 - val_loss: 0.0520 - val_accuracy: 0.9808\n",
      "Epoch 89/100\n",
      "15/15 [==============================] - 0s 1ms/step - loss: 0.0365 - accuracy: 0.9848 - val_loss: 0.0597 - val_accuracy: 0.9808\n",
      "Epoch 90/100\n",
      "15/15 [==============================] - 0s 1ms/step - loss: 0.0399 - accuracy: 0.9848 - val_loss: 0.0489 - val_accuracy: 0.9808\n",
      "Epoch 91/100\n",
      "15/15 [==============================] - 0s 1ms/step - loss: 0.0370 - accuracy: 0.9913 - val_loss: 0.0530 - val_accuracy: 1.0000\n",
      "Epoch 92/100\n",
      "15/15 [==============================] - 0s 1ms/step - loss: 0.0332 - accuracy: 0.9891 - val_loss: 0.1029 - val_accuracy: 0.9615\n",
      "Epoch 93/100\n",
      "15/15 [==============================] - 0s 1ms/step - loss: 0.0451 - accuracy: 0.9913 - val_loss: 0.0561 - val_accuracy: 0.9808\n",
      "Epoch 94/100\n",
      "15/15 [==============================] - 0s 1ms/step - loss: 0.0401 - accuracy: 0.9848 - val_loss: 0.0457 - val_accuracy: 0.9808\n",
      "Epoch 95/100\n",
      "15/15 [==============================] - 0s 1ms/step - loss: 0.0401 - accuracy: 0.9891 - val_loss: 0.0563 - val_accuracy: 0.9808\n",
      "Epoch 96/100\n",
      "15/15 [==============================] - 0s 2ms/step - loss: 0.0441 - accuracy: 0.9826 - val_loss: 0.0789 - val_accuracy: 0.9615\n",
      "Epoch 97/100\n",
      "15/15 [==============================] - 0s 2ms/step - loss: 0.0352 - accuracy: 0.9870 - val_loss: 0.0513 - val_accuracy: 1.0000\n",
      "Epoch 98/100\n",
      "15/15 [==============================] - 0s 1ms/step - loss: 0.0381 - accuracy: 0.9891 - val_loss: 0.0480 - val_accuracy: 0.9808\n",
      "Epoch 99/100\n",
      "15/15 [==============================] - 0s 1ms/step - loss: 0.0347 - accuracy: 0.9848 - val_loss: 0.0520 - val_accuracy: 0.9808\n",
      "Epoch 100/100\n",
      "15/15 [==============================] - 0s 2ms/step - loss: 0.0380 - accuracy: 0.9891 - val_loss: 0.0496 - val_accuracy: 0.9808\n"
     ]
    }
   ],
   "source": [
    "history = model.fit(X_train, Y_train, batch_size=32, epochs=100, verbose=1, validation_split=0.1)"
   ]
  },
  {
   "cell_type": "markdown",
   "id": "14744ad5",
   "metadata": {},
   "source": [
    "Graficamos ahora las curvas de aprendizaje para un mejor diagnóstico del aprendizaje"
   ]
  },
  {
   "cell_type": "code",
   "execution_count": 207,
   "id": "058bcfdf",
   "metadata": {},
   "outputs": [
    {
     "data": {
      "image/png": "[encoded data removed]",
      "text/plain": [
       "<Figure size 1500x600 with 2 Axes>"
      ]
     },
     "metadata": {},
     "output_type": "display_data"
    }
   ],
   "source": [
    "def plot_history(history):\n",
    "    hist = pd.DataFrame(history.history)\n",
    "    hist['epoch'] = history.epoch\n",
    "    plt.figure(figsize=(15, 6))\n",
    "    plt.subplot(121)\n",
    "    plt.title('Loss')\n",
    "    plt.xlabel('Epoch')\n",
    "    plt.ylabel('Loss')\n",
    "    plt.plot(hist['epoch'], hist['loss'], label=\"Train\")\n",
    "    plt.plot(hist['epoch'], hist['val_loss'], label = 'Val')\n",
    "    #plt.yscale('log')\n",
    "    plt.legend()\n",
    "\n",
    "    plt.subplot(122)\n",
    "    plt.title('Accuracy')\n",
    "    plt.xlabel('Epoch')\n",
    "    plt.ylabel('accuracy')\n",
    "    plt.plot(hist['epoch'], hist['accuracy'], label=\"Train\")\n",
    "    plt.plot(hist['epoch'], hist['val_accuracy'], label = 'Val')\n",
    "    plt.ylim([0,1])\n",
    "    plt.legend()\n",
    "    plt.tight_layout()\n",
    "    plt.show()\n",
    "     \n",
    "plot_history(history)"
   ]
  },
  {
   "cell_type": "markdown",
   "id": "6d2ced8e",
   "metadata": {},
   "source": [
    "## Paso 6. Evaluar el modelo con el test set"
   ]
  },
  {
   "cell_type": "markdown",
   "id": "c05ff3f8",
   "metadata": {},
   "source": [
    "Reporte de Clasificación"
   ]
  },
  {
   "cell_type": "code",
   "execution_count": 208,
   "id": "4175f88d",
   "metadata": {},
   "outputs": [
    {
     "name": "stdout",
     "output_type": "stream",
     "text": [
      "2/2 [==============================] - 0s 1ms/step\n",
      "              precision    recall  f1-score   support\n",
      "\n",
      "     Benigno       0.97      0.97      0.97        30\n",
      "     Maligno       0.96      0.96      0.96        27\n",
      "\n",
      "    accuracy                           0.96        57\n",
      "   macro avg       0.96      0.96      0.96        57\n",
      "weighted avg       0.96      0.96      0.96        57\n",
      "\n"
     ]
    }
   ],
   "source": [
    "Y_pred = (model.predict(X_test) > 0.5) * 1\n",
    "print(classification_report(Y_test, Y_pred, target_names=(\"Benigno\", \"Maligno\")))"
   ]
  },
  {
   "cell_type": "markdown",
   "id": "2d30b095",
   "metadata": {},
   "source": [
    "Matriz de Confusión\n"
   ]
  },
  {
   "cell_type": "code",
   "execution_count": 209,
   "id": "163ec6e7",
   "metadata": {},
   "outputs": [
    {
     "data": {
      "image/png": "[encoded data removed]",
      "text/plain": [
       "<Figure size 640x480 with 2 Axes>"
      ]
     },
     "metadata": {},
     "output_type": "display_data"
    }
   ],
   "source": [
    "cm = confusion_matrix(Y_test, Y_pred)\n",
    "_ = sns.heatmap(cm/np.sum(cm), fmt=\"0.2%\", annot=True, cmap='Blues')"
   ]
  }
 ],
 "metadata": {
  "kernelspec": {
   "display_name": "Python 3 (ipykernel)",
   "language": "python",
   "name": "python3"
  },
  "language_info": {
   "codemirror_mode": {
    "name": "ipython",
    "version": 3
   },
   "file_extension": ".py",
   "mimetype": "text/x-python",
   "name": "python",
   "nbconvert_exporter": "python",
   "pygments_lexer": "ipython3",
   "version": "3.11.5"
  }
 },
 "nbformat": 4,
 "nbformat_minor": 5
}
