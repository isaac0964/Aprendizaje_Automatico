{
 "cells": [
  {
   "cell_type": "markdown",
   "id": "0f091dbb",
   "metadata": {},
   "source": [
    "# Red Neuronal Densa TensorFlow"
   ]
  },
  {
   "cell_type": "markdown",
   "id": "c5950daa",
   "metadata": {},
   "source": [
    "## Predicción de Prestamo de Loan Prediction Dataset"
   ]
  },
  {
   "cell_type": "markdown",
   "id": "661620d2",
   "metadata": {},
   "source": [
    "### Ángel Isaac Gómez Canales"
   ]
  },
  {
   "cell_type": "markdown",
   "id": "7f1b6a4b",
   "metadata": {},
   "source": [
    "## Paso 1. Importar paquetería necesaria 📦"
   ]
  },
  {
   "cell_type": "code",
   "execution_count": 120,
   "id": "ad7531c7",
   "metadata": {},
   "outputs": [],
   "source": [
    "# Paqueteria basica\n",
    "import numpy as np\n",
    "import matplotlib.pyplot as plt\n",
    "import seaborn as sns\n",
    "import pandas as pd\n",
    "\n",
    "# Tensorflow y keras\n",
    "import tensorflow as tf\n",
    "from tensorflow import keras\n",
    "\n",
    "# Funcionalidades basicas de sklearn\n",
    "from sklearn.model_selection import train_test_split\n",
    "from sklearn.metrics import classification_report, confusion_matrix\n",
    "from sklearn.preprocessing import StandardScaler, MinMaxScaler"
   ]
  },
  {
   "cell_type": "markdown",
   "id": "9525854a",
   "metadata": {},
   "source": [
    "## Paso 2. Cargar los datos 💾"
   ]
  },
  {
   "cell_type": "code",
   "execution_count": 121,
   "id": "608c6bf7",
   "metadata": {},
   "outputs": [],
   "source": [
    "data = pd.read_csv(\"../Datasets/loan_prediction.csv\")  # Cambiar la ruta a la adecuada"
   ]
  },
  {
   "cell_type": "markdown",
   "id": "289fb744",
   "metadata": {},
   "source": [
    "## Paso 3. Inspeccionar los datos 🔎"
   ]
  },
  {
   "cell_type": "markdown",
   "id": "504628dc",
   "metadata": {},
   "source": [
    "A continuacion se muestran los primeros 5 datos del datset para observar el formato que tienen los datos"
   ]
  },
  {
   "cell_type": "code",
   "execution_count": 122,
   "id": "481db320",
   "metadata": {},
   "outputs": [
    {
     "data": {
      "text/html": [
       "<div>\n",
       "<style scoped>\n",
       "    .dataframe tbody tr th:only-of-type {\n",
       "        vertical-align: middle;\n",
       "    }\n",
       "\n",
       "    .dataframe tbody tr th {\n",
       "        vertical-align: top;\n",
       "    }\n",
       "\n",
       "    .dataframe thead th {\n",
       "        text-align: right;\n",
       "    }\n",
       "</style>\n",
       "<table border=\"1\" class=\"dataframe\">\n",
       "  <thead>\n",
       "    <tr style=\"text-align: right;\">\n",
       "      <th></th>\n",
       "      <th>ApplicantIncome</th>\n",
       "      <th>CoapplicantIncome</th>\n",
       "      <th>LoanAmount</th>\n",
       "      <th>Loan_Amount_Term</th>\n",
       "      <th>Credit_History</th>\n",
       "      <th>Loan_Status</th>\n",
       "    </tr>\n",
       "  </thead>\n",
       "  <tbody>\n",
       "    <tr>\n",
       "      <th>0</th>\n",
       "      <td>5849</td>\n",
       "      <td>0.0</td>\n",
       "      <td>0.0</td>\n",
       "      <td>360.0</td>\n",
       "      <td>1.0</td>\n",
       "      <td>1</td>\n",
       "    </tr>\n",
       "    <tr>\n",
       "      <th>1</th>\n",
       "      <td>4583</td>\n",
       "      <td>1508.0</td>\n",
       "      <td>128.0</td>\n",
       "      <td>360.0</td>\n",
       "      <td>1.0</td>\n",
       "      <td>0</td>\n",
       "    </tr>\n",
       "    <tr>\n",
       "      <th>2</th>\n",
       "      <td>3000</td>\n",
       "      <td>0.0</td>\n",
       "      <td>66.0</td>\n",
       "      <td>360.0</td>\n",
       "      <td>1.0</td>\n",
       "      <td>1</td>\n",
       "    </tr>\n",
       "    <tr>\n",
       "      <th>3</th>\n",
       "      <td>2583</td>\n",
       "      <td>2358.0</td>\n",
       "      <td>120.0</td>\n",
       "      <td>360.0</td>\n",
       "      <td>1.0</td>\n",
       "      <td>1</td>\n",
       "    </tr>\n",
       "    <tr>\n",
       "      <th>4</th>\n",
       "      <td>6000</td>\n",
       "      <td>0.0</td>\n",
       "      <td>141.0</td>\n",
       "      <td>360.0</td>\n",
       "      <td>1.0</td>\n",
       "      <td>1</td>\n",
       "    </tr>\n",
       "  </tbody>\n",
       "</table>\n",
       "</div>"
      ],
      "text/plain": [
       "   ApplicantIncome  CoapplicantIncome  LoanAmount  Loan_Amount_Term  \\\n",
       "0             5849                0.0         0.0             360.0   \n",
       "1             4583             1508.0       128.0             360.0   \n",
       "2             3000                0.0        66.0             360.0   \n",
       "3             2583             2358.0       120.0             360.0   \n",
       "4             6000                0.0       141.0             360.0   \n",
       "\n",
       "   Credit_History  Loan_Status  \n",
       "0             1.0            1  \n",
       "1             1.0            0  \n",
       "2             1.0            1  \n",
       "3             1.0            1  \n",
       "4             1.0            1  "
      ]
     },
     "execution_count": 122,
     "metadata": {},
     "output_type": "execute_result"
    }
   ],
   "source": [
    "data.head()"
   ]
  },
  {
   "cell_type": "code",
   "execution_count": 123,
   "id": "63946cc4",
   "metadata": {},
   "outputs": [
    {
     "data": {
      "text/plain": [
       "(614, 6)"
      ]
     },
     "execution_count": 123,
     "metadata": {},
     "output_type": "execute_result"
    }
   ],
   "source": [
    "data.shape"
   ]
  },
  {
   "cell_type": "markdown",
   "id": "242e5932",
   "metadata": {},
   "source": [
    "Información del Dataset para conocer sus columnas y  ver si tiene valores nulos que se deban eliminar"
   ]
  },
  {
   "cell_type": "code",
   "execution_count": 124,
   "id": "2aa00380",
   "metadata": {},
   "outputs": [
    {
     "name": "stdout",
     "output_type": "stream",
     "text": [
      "<class 'pandas.core.frame.DataFrame'>\n",
      "RangeIndex: 614 entries, 0 to 613\n",
      "Data columns (total 6 columns):\n",
      " #   Column             Non-Null Count  Dtype  \n",
      "---  ------             --------------  -----  \n",
      " 0   ApplicantIncome    614 non-null    int64  \n",
      " 1   CoapplicantIncome  614 non-null    float64\n",
      " 2   LoanAmount         614 non-null    float64\n",
      " 3   Loan_Amount_Term   614 non-null    float64\n",
      " 4   Credit_History     614 non-null    float64\n",
      " 5   Loan_Status        614 non-null    int64  \n",
      "dtypes: float64(4), int64(2)\n",
      "memory usage: 28.9 KB\n"
     ]
    }
   ],
   "source": [
    "data.info()"
   ]
  },
  {
   "cell_type": "code",
   "execution_count": 125,
   "id": "d1577360",
   "metadata": {},
   "outputs": [
    {
     "data": {
      "text/plain": [
       "ApplicantIncome      0\n",
       "CoapplicantIncome    0\n",
       "LoanAmount           0\n",
       "Loan_Amount_Term     0\n",
       "Credit_History       0\n",
       "Loan_Status          0\n",
       "dtype: int64"
      ]
     },
     "execution_count": 125,
     "metadata": {},
     "output_type": "execute_result"
    }
   ],
   "source": [
    "data.isna().sum()"
   ]
  },
  {
   "cell_type": "markdown",
   "id": "2570cfb3",
   "metadata": {},
   "source": [
    "De aquí vemos que el dataset está completo, no tiene valores nulos que sea necesario eliminar,\n",
    "Ahora mostramos las estadisticas de los datos para ver si es necesario escalarlos.\n",
    "La última columna no contiene datos por lo que será necesario eliminarla"
   ]
  },
  {
   "cell_type": "code",
   "execution_count": 126,
   "id": "6f2f5fc1",
   "metadata": {},
   "outputs": [
    {
     "data": {
      "text/html": [
       "<div>\n",
       "<style scoped>\n",
       "    .dataframe tbody tr th:only-of-type {\n",
       "        vertical-align: middle;\n",
       "    }\n",
       "\n",
       "    .dataframe tbody tr th {\n",
       "        vertical-align: top;\n",
       "    }\n",
       "\n",
       "    .dataframe thead th {\n",
       "        text-align: right;\n",
       "    }\n",
       "</style>\n",
       "<table border=\"1\" class=\"dataframe\">\n",
       "  <thead>\n",
       "    <tr style=\"text-align: right;\">\n",
       "      <th></th>\n",
       "      <th>ApplicantIncome</th>\n",
       "      <th>CoapplicantIncome</th>\n",
       "      <th>LoanAmount</th>\n",
       "      <th>Loan_Amount_Term</th>\n",
       "      <th>Credit_History</th>\n",
       "      <th>Loan_Status</th>\n",
       "    </tr>\n",
       "  </thead>\n",
       "  <tbody>\n",
       "    <tr>\n",
       "      <th>count</th>\n",
       "      <td>614.000000</td>\n",
       "      <td>614.000000</td>\n",
       "      <td>614.000000</td>\n",
       "      <td>614.000000</td>\n",
       "      <td>614.000000</td>\n",
       "      <td>614.000000</td>\n",
       "    </tr>\n",
       "    <tr>\n",
       "      <th>mean</th>\n",
       "      <td>5403.459283</td>\n",
       "      <td>1621.245798</td>\n",
       "      <td>141.166124</td>\n",
       "      <td>334.201954</td>\n",
       "      <td>0.773616</td>\n",
       "      <td>0.687296</td>\n",
       "    </tr>\n",
       "    <tr>\n",
       "      <th>std</th>\n",
       "      <td>6109.041673</td>\n",
       "      <td>2926.248369</td>\n",
       "      <td>88.340630</td>\n",
       "      <td>82.183884</td>\n",
       "      <td>0.418832</td>\n",
       "      <td>0.463973</td>\n",
       "    </tr>\n",
       "    <tr>\n",
       "      <th>min</th>\n",
       "      <td>150.000000</td>\n",
       "      <td>0.000000</td>\n",
       "      <td>0.000000</td>\n",
       "      <td>0.000000</td>\n",
       "      <td>0.000000</td>\n",
       "      <td>0.000000</td>\n",
       "    </tr>\n",
       "    <tr>\n",
       "      <th>25%</th>\n",
       "      <td>2877.500000</td>\n",
       "      <td>0.000000</td>\n",
       "      <td>98.000000</td>\n",
       "      <td>360.000000</td>\n",
       "      <td>1.000000</td>\n",
       "      <td>0.000000</td>\n",
       "    </tr>\n",
       "    <tr>\n",
       "      <th>50%</th>\n",
       "      <td>3812.500000</td>\n",
       "      <td>1188.500000</td>\n",
       "      <td>125.000000</td>\n",
       "      <td>360.000000</td>\n",
       "      <td>1.000000</td>\n",
       "      <td>1.000000</td>\n",
       "    </tr>\n",
       "    <tr>\n",
       "      <th>75%</th>\n",
       "      <td>5795.000000</td>\n",
       "      <td>2297.250000</td>\n",
       "      <td>164.750000</td>\n",
       "      <td>360.000000</td>\n",
       "      <td>1.000000</td>\n",
       "      <td>1.000000</td>\n",
       "    </tr>\n",
       "    <tr>\n",
       "      <th>max</th>\n",
       "      <td>81000.000000</td>\n",
       "      <td>41667.000000</td>\n",
       "      <td>700.000000</td>\n",
       "      <td>480.000000</td>\n",
       "      <td>1.000000</td>\n",
       "      <td>1.000000</td>\n",
       "    </tr>\n",
       "  </tbody>\n",
       "</table>\n",
       "</div>"
      ],
      "text/plain": [
       "       ApplicantIncome  CoapplicantIncome  LoanAmount  Loan_Amount_Term  \\\n",
       "count       614.000000         614.000000  614.000000        614.000000   \n",
       "mean       5403.459283        1621.245798  141.166124        334.201954   \n",
       "std        6109.041673        2926.248369   88.340630         82.183884   \n",
       "min         150.000000           0.000000    0.000000          0.000000   \n",
       "25%        2877.500000           0.000000   98.000000        360.000000   \n",
       "50%        3812.500000        1188.500000  125.000000        360.000000   \n",
       "75%        5795.000000        2297.250000  164.750000        360.000000   \n",
       "max       81000.000000       41667.000000  700.000000        480.000000   \n",
       "\n",
       "       Credit_History  Loan_Status  \n",
       "count      614.000000   614.000000  \n",
       "mean         0.773616     0.687296  \n",
       "std          0.418832     0.463973  \n",
       "min          0.000000     0.000000  \n",
       "25%          1.000000     0.000000  \n",
       "50%          1.000000     1.000000  \n",
       "75%          1.000000     1.000000  \n",
       "max          1.000000     1.000000  "
      ]
     },
     "execution_count": 126,
     "metadata": {},
     "output_type": "execute_result"
    }
   ],
   "source": [
    "data.describe()"
   ]
  },
  {
   "cell_type": "markdown",
   "id": "bfdc95f1",
   "metadata": {},
   "source": [
    "Se observa que hay columnas que toman valores en el orden de $10^{2}$, mientras que otras toman valores en el rango de $10^{4}$, por lo que será necesario escalar los datos."
   ]
  },
  {
   "cell_type": "markdown",
   "id": "706b5859",
   "metadata": {},
   "source": [
    "Por último, veamos que valores toma la columna target (diagnosis)"
   ]
  },
  {
   "cell_type": "code",
   "execution_count": 127,
   "id": "b8d2065b",
   "metadata": {},
   "outputs": [
    {
     "data": {
      "text/plain": [
       "array([1, 0])"
      ]
     },
     "execution_count": 127,
     "metadata": {},
     "output_type": "execute_result"
    }
   ],
   "source": [
    "data[\"Loan_Status\"].unique()"
   ]
  },
  {
   "cell_type": "markdown",
   "id": "854f4a38",
   "metadata": {},
   "source": [
    "Vemos que toma valores de 0 y 1, por lo que ya no será necesario codificar"
   ]
  },
  {
   "cell_type": "markdown",
   "id": "163e2e34",
   "metadata": {},
   "source": [
    "## Paso 3. Preprocesamiento de los datos 🛠️"
   ]
  },
  {
   "cell_type": "markdown",
   "id": "a21af70c",
   "metadata": {},
   "source": [
    "Checamos el porcentaje de prestamos aprobados y no aprobados para ver si el dataset está balanceado"
   ]
  },
  {
   "cell_type": "code",
   "execution_count": 128,
   "id": "b555e04c",
   "metadata": {},
   "outputs": [
    {
     "name": "stdout",
     "output_type": "stream",
     "text": [
      "El número de diagnosticos malignos es de 0.6872964169381107\n"
     ]
    }
   ],
   "source": [
    "n_aprob = data[\"Loan_Status\"].sum()\n",
    "print(f\"El número de diagnosticos malignos es de {n_aprob / len(data)}\")"
   ]
  },
  {
   "cell_type": "markdown",
   "id": "ad07c881",
   "metadata": {},
   "source": [
    "Aunque hay más registros aprobados, el dataset no parece tan desbalanceado, por lo que podemos seguir"
   ]
  },
  {
   "cell_type": "markdown",
   "id": "56bbe857",
   "metadata": {},
   "source": [
    "A continuación, separamos las variables de entrada de las salidas"
   ]
  },
  {
   "cell_type": "code",
   "execution_count": 129,
   "id": "45b3296c",
   "metadata": {},
   "outputs": [],
   "source": [
    "X = data.drop(columns=\"Loan_Status\")\n",
    "Y = data[\"Loan_Status\"].to_numpy()"
   ]
  },
  {
   "cell_type": "markdown",
   "id": "3ed9c482",
   "metadata": {},
   "source": [
    "El siguiente paso es escalar los datos para que tengan rangos similares y poder entrenar la red de mejor manera"
   ]
  },
  {
   "cell_type": "code",
   "execution_count": 130,
   "id": "324ac676",
   "metadata": {},
   "outputs": [],
   "source": [
    "X = StandardScaler().fit_transform(X)"
   ]
  },
  {
   "cell_type": "markdown",
   "id": "9670abe8",
   "metadata": {},
   "source": [
    "Finalmente, particionamos los datos con el 90% para entrenamiento y el 10% para prueba"
   ]
  },
  {
   "cell_type": "code",
   "execution_count": 131,
   "id": "5f59ea39",
   "metadata": {},
   "outputs": [],
   "source": [
    "X_train, X_test, Y_train, Y_test = train_test_split(X, Y, test_size=0.1)"
   ]
  },
  {
   "cell_type": "markdown",
   "id": "7d334309",
   "metadata": {},
   "source": [
    "# Paso 4. Diseñar Red Neuronal 👨‍💻"
   ]
  },
  {
   "cell_type": "code",
   "execution_count": 162,
   "id": "cd69da70",
   "metadata": {},
   "outputs": [],
   "source": [
    "model = keras.Sequential()\n",
    "model.add(keras.layers.Dense(20, activation=tf.keras.layers.LeakyReLU(), input_shape=[X_train.shape[1]], kernel_regularizer=keras.regularizers.L1L2(0.001)))\n",
    "model.add(keras.layers.Dense(1, activation=\"sigmoid\"))\n",
    "model.compile(loss=keras.losses.binary_crossentropy, optimizer=keras.optimizers.legacy.Adam(), metrics=[\"accuracy\"])"
   ]
  },
  {
   "cell_type": "code",
   "execution_count": 163,
   "id": "5e845750",
   "metadata": {},
   "outputs": [
    {
     "name": "stdout",
     "output_type": "stream",
     "text": [
      "Model: \"sequential_31\"\n",
      "_________________________________________________________________\n",
      " Layer (type)                Output Shape              Param #   \n",
      "=================================================================\n",
      " dense_95 (Dense)            (None, 20)                120       \n",
      "                                                                 \n",
      " dense_96 (Dense)            (None, 1)                 21        \n",
      "                                                                 \n",
      "=================================================================\n",
      "Total params: 141\n",
      "Trainable params: 141\n",
      "Non-trainable params: 0\n",
      "_________________________________________________________________\n"
     ]
    }
   ],
   "source": [
    "# Resumen del modelo\n",
    "model.summary()"
   ]
  },
  {
   "cell_type": "markdown",
   "id": "dcf646a4",
   "metadata": {},
   "source": [
    "## Paso 5. Entrenar la Red Neuronal 🧠💪"
   ]
  },
  {
   "cell_type": "code",
   "execution_count": 164,
   "id": "3dfb593d",
   "metadata": {},
   "outputs": [
    {
     "name": "stdout",
     "output_type": "stream",
     "text": [
      "Epoch 1/100\n",
      "16/16 [==============================] - 0s 4ms/step - loss: 0.7318 - accuracy: 0.5020 - val_loss: 0.7023 - val_accuracy: 0.6071\n",
      "Epoch 2/100\n",
      "16/16 [==============================] - 0s 1ms/step - loss: 0.7034 - accuracy: 0.5907 - val_loss: 0.6771 - val_accuracy: 0.7143\n",
      "Epoch 3/100\n",
      "16/16 [==============================] - 0s 1ms/step - loss: 0.6790 - accuracy: 0.6835 - val_loss: 0.6556 - val_accuracy: 0.7321\n",
      "Epoch 4/100\n",
      "16/16 [==============================] - 0s 1ms/step - loss: 0.6589 - accuracy: 0.7218 - val_loss: 0.6371 - val_accuracy: 0.7321\n",
      "Epoch 5/100\n",
      "16/16 [==============================] - 0s 1ms/step - loss: 0.6412 - accuracy: 0.7520 - val_loss: 0.6215 - val_accuracy: 0.7321\n",
      "Epoch 6/100\n",
      "16/16 [==============================] - 0s 1ms/step - loss: 0.6253 - accuracy: 0.7601 - val_loss: 0.6082 - val_accuracy: 0.7500\n",
      "Epoch 7/100\n",
      "16/16 [==============================] - 0s 1ms/step - loss: 0.6125 - accuracy: 0.7621 - val_loss: 0.5958 - val_accuracy: 0.7679\n",
      "Epoch 8/100\n",
      "16/16 [==============================] - 0s 1ms/step - loss: 0.6012 - accuracy: 0.7641 - val_loss: 0.5868 - val_accuracy: 0.7857\n",
      "Epoch 9/100\n",
      "16/16 [==============================] - 0s 1ms/step - loss: 0.5919 - accuracy: 0.7661 - val_loss: 0.5785 - val_accuracy: 0.7857\n",
      "Epoch 10/100\n",
      "16/16 [==============================] - 0s 1ms/step - loss: 0.5847 - accuracy: 0.7661 - val_loss: 0.5708 - val_accuracy: 0.7857\n",
      "Epoch 11/100\n",
      "16/16 [==============================] - 0s 1ms/step - loss: 0.5777 - accuracy: 0.7641 - val_loss: 0.5652 - val_accuracy: 0.7857\n",
      "Epoch 12/100\n",
      "16/16 [==============================] - 0s 1ms/step - loss: 0.5727 - accuracy: 0.7661 - val_loss: 0.5608 - val_accuracy: 0.7857\n",
      "Epoch 13/100\n",
      "16/16 [==============================] - 0s 1ms/step - loss: 0.5685 - accuracy: 0.7641 - val_loss: 0.5568 - val_accuracy: 0.7857\n",
      "Epoch 14/100\n",
      "16/16 [==============================] - 0s 1ms/step - loss: 0.5650 - accuracy: 0.7641 - val_loss: 0.5536 - val_accuracy: 0.7857\n",
      "Epoch 15/100\n",
      "16/16 [==============================] - 0s 1ms/step - loss: 0.5622 - accuracy: 0.7742 - val_loss: 0.5513 - val_accuracy: 0.8036\n",
      "Epoch 16/100\n",
      "16/16 [==============================] - 0s 1ms/step - loss: 0.5601 - accuracy: 0.7742 - val_loss: 0.5493 - val_accuracy: 0.8036\n",
      "Epoch 17/100\n",
      "16/16 [==============================] - 0s 1ms/step - loss: 0.5583 - accuracy: 0.7762 - val_loss: 0.5472 - val_accuracy: 0.7857\n",
      "Epoch 18/100\n",
      "16/16 [==============================] - 0s 1ms/step - loss: 0.5563 - accuracy: 0.7762 - val_loss: 0.5459 - val_accuracy: 0.7857\n",
      "Epoch 19/100\n",
      "16/16 [==============================] - 0s 1ms/step - loss: 0.5551 - accuracy: 0.7762 - val_loss: 0.5448 - val_accuracy: 0.7857\n",
      "Epoch 20/100\n",
      "16/16 [==============================] - 0s 1ms/step - loss: 0.5541 - accuracy: 0.7762 - val_loss: 0.5439 - val_accuracy: 0.7857\n",
      "Epoch 21/100\n",
      "16/16 [==============================] - 0s 1ms/step - loss: 0.5533 - accuracy: 0.7762 - val_loss: 0.5434 - val_accuracy: 0.7857\n",
      "Epoch 22/100\n",
      "16/16 [==============================] - 0s 1ms/step - loss: 0.5527 - accuracy: 0.7762 - val_loss: 0.5423 - val_accuracy: 0.7857\n",
      "Epoch 23/100\n",
      "16/16 [==============================] - 0s 1ms/step - loss: 0.5519 - accuracy: 0.7762 - val_loss: 0.5414 - val_accuracy: 0.7857\n",
      "Epoch 24/100\n",
      "16/16 [==============================] - 0s 1ms/step - loss: 0.5512 - accuracy: 0.7762 - val_loss: 0.5414 - val_accuracy: 0.7857\n",
      "Epoch 25/100\n",
      "16/16 [==============================] - 0s 1ms/step - loss: 0.5504 - accuracy: 0.7762 - val_loss: 0.5409 - val_accuracy: 0.7857\n",
      "Epoch 26/100\n",
      "16/16 [==============================] - 0s 1ms/step - loss: 0.5498 - accuracy: 0.7762 - val_loss: 0.5404 - val_accuracy: 0.7857\n",
      "Epoch 27/100\n",
      "16/16 [==============================] - 0s 1ms/step - loss: 0.5493 - accuracy: 0.7762 - val_loss: 0.5400 - val_accuracy: 0.7857\n",
      "Epoch 28/100\n",
      "16/16 [==============================] - 0s 1ms/step - loss: 0.5487 - accuracy: 0.7762 - val_loss: 0.5399 - val_accuracy: 0.7857\n",
      "Epoch 29/100\n",
      "16/16 [==============================] - 0s 1ms/step - loss: 0.5478 - accuracy: 0.7762 - val_loss: 0.5393 - val_accuracy: 0.7857\n",
      "Epoch 30/100\n",
      "16/16 [==============================] - 0s 1ms/step - loss: 0.5474 - accuracy: 0.7762 - val_loss: 0.5388 - val_accuracy: 0.7857\n",
      "Epoch 31/100\n",
      "16/16 [==============================] - 0s 1ms/step - loss: 0.5470 - accuracy: 0.7762 - val_loss: 0.5385 - val_accuracy: 0.7857\n",
      "Epoch 32/100\n",
      "16/16 [==============================] - 0s 1ms/step - loss: 0.5464 - accuracy: 0.7762 - val_loss: 0.5381 - val_accuracy: 0.7857\n",
      "Epoch 33/100\n",
      "16/16 [==============================] - 0s 1ms/step - loss: 0.5461 - accuracy: 0.7762 - val_loss: 0.5380 - val_accuracy: 0.7857\n",
      "Epoch 34/100\n",
      "16/16 [==============================] - 0s 1ms/step - loss: 0.5456 - accuracy: 0.7762 - val_loss: 0.5374 - val_accuracy: 0.7857\n",
      "Epoch 35/100\n",
      "16/16 [==============================] - 0s 1ms/step - loss: 0.5453 - accuracy: 0.7762 - val_loss: 0.5376 - val_accuracy: 0.7857\n",
      "Epoch 36/100\n",
      "16/16 [==============================] - 0s 1ms/step - loss: 0.5448 - accuracy: 0.7762 - val_loss: 0.5370 - val_accuracy: 0.7857\n",
      "Epoch 37/100\n",
      "16/16 [==============================] - 0s 1ms/step - loss: 0.5445 - accuracy: 0.7762 - val_loss: 0.5367 - val_accuracy: 0.7857\n",
      "Epoch 38/100\n",
      "16/16 [==============================] - 0s 1ms/step - loss: 0.5442 - accuracy: 0.7762 - val_loss: 0.5365 - val_accuracy: 0.7857\n",
      "Epoch 39/100\n",
      "16/16 [==============================] - 0s 1ms/step - loss: 0.5435 - accuracy: 0.7762 - val_loss: 0.5358 - val_accuracy: 0.7857\n",
      "Epoch 40/100\n",
      "16/16 [==============================] - 0s 1ms/step - loss: 0.5432 - accuracy: 0.7762 - val_loss: 0.5358 - val_accuracy: 0.7857\n",
      "Epoch 41/100\n",
      "16/16 [==============================] - 0s 1ms/step - loss: 0.5429 - accuracy: 0.7762 - val_loss: 0.5357 - val_accuracy: 0.7857\n",
      "Epoch 42/100\n",
      "16/16 [==============================] - 0s 1ms/step - loss: 0.5424 - accuracy: 0.7762 - val_loss: 0.5355 - val_accuracy: 0.7857\n",
      "Epoch 43/100\n",
      "16/16 [==============================] - 0s 1ms/step - loss: 0.5420 - accuracy: 0.7762 - val_loss: 0.5352 - val_accuracy: 0.7857\n",
      "Epoch 44/100\n",
      "16/16 [==============================] - 0s 1ms/step - loss: 0.5415 - accuracy: 0.7762 - val_loss: 0.5351 - val_accuracy: 0.7857\n",
      "Epoch 45/100\n",
      "16/16 [==============================] - 0s 1ms/step - loss: 0.5414 - accuracy: 0.7762 - val_loss: 0.5352 - val_accuracy: 0.7857\n",
      "Epoch 46/100\n",
      "16/16 [==============================] - 0s 1ms/step - loss: 0.5409 - accuracy: 0.7762 - val_loss: 0.5353 - val_accuracy: 0.7857\n",
      "Epoch 47/100\n",
      "16/16 [==============================] - 0s 1ms/step - loss: 0.5405 - accuracy: 0.7762 - val_loss: 0.5350 - val_accuracy: 0.7857\n",
      "Epoch 48/100\n",
      "16/16 [==============================] - 0s 1ms/step - loss: 0.5404 - accuracy: 0.7762 - val_loss: 0.5345 - val_accuracy: 0.7857\n",
      "Epoch 49/100\n",
      "16/16 [==============================] - 0s 1ms/step - loss: 0.5399 - accuracy: 0.7762 - val_loss: 0.5344 - val_accuracy: 0.7857\n",
      "Epoch 50/100\n",
      "16/16 [==============================] - 0s 1ms/step - loss: 0.5397 - accuracy: 0.7762 - val_loss: 0.5345 - val_accuracy: 0.7857\n",
      "Epoch 51/100\n",
      "16/16 [==============================] - 0s 1ms/step - loss: 0.5392 - accuracy: 0.7762 - val_loss: 0.5341 - val_accuracy: 0.7857\n",
      "Epoch 52/100\n",
      "16/16 [==============================] - 0s 1ms/step - loss: 0.5390 - accuracy: 0.7762 - val_loss: 0.5339 - val_accuracy: 0.7857\n",
      "Epoch 53/100\n",
      "16/16 [==============================] - 0s 1ms/step - loss: 0.5386 - accuracy: 0.7762 - val_loss: 0.5338 - val_accuracy: 0.7857\n",
      "Epoch 54/100\n",
      "16/16 [==============================] - 0s 1ms/step - loss: 0.5386 - accuracy: 0.7762 - val_loss: 0.5340 - val_accuracy: 0.7857\n",
      "Epoch 55/100\n",
      "16/16 [==============================] - 0s 1ms/step - loss: 0.5381 - accuracy: 0.7782 - val_loss: 0.5335 - val_accuracy: 0.7857\n",
      "Epoch 56/100\n",
      "16/16 [==============================] - 0s 1ms/step - loss: 0.5378 - accuracy: 0.7762 - val_loss: 0.5338 - val_accuracy: 0.7857\n",
      "Epoch 57/100\n",
      "16/16 [==============================] - 0s 1ms/step - loss: 0.5377 - accuracy: 0.7762 - val_loss: 0.5332 - val_accuracy: 0.7857\n",
      "Epoch 58/100\n",
      "16/16 [==============================] - 0s 1ms/step - loss: 0.5370 - accuracy: 0.7762 - val_loss: 0.5332 - val_accuracy: 0.7857\n"
     ]
    },
    {
     "name": "stdout",
     "output_type": "stream",
     "text": [
      "Epoch 59/100\n",
      "16/16 [==============================] - 0s 1ms/step - loss: 0.5369 - accuracy: 0.7762 - val_loss: 0.5329 - val_accuracy: 0.7857\n",
      "Epoch 60/100\n",
      "16/16 [==============================] - 0s 1ms/step - loss: 0.5367 - accuracy: 0.7762 - val_loss: 0.5329 - val_accuracy: 0.7857\n",
      "Epoch 61/100\n",
      "16/16 [==============================] - 0s 1ms/step - loss: 0.5364 - accuracy: 0.7762 - val_loss: 0.5329 - val_accuracy: 0.7857\n",
      "Epoch 62/100\n",
      "16/16 [==============================] - 0s 1ms/step - loss: 0.5362 - accuracy: 0.7762 - val_loss: 0.5326 - val_accuracy: 0.7857\n",
      "Epoch 63/100\n",
      "16/16 [==============================] - 0s 1ms/step - loss: 0.5358 - accuracy: 0.7762 - val_loss: 0.5324 - val_accuracy: 0.7857\n",
      "Epoch 64/100\n",
      "16/16 [==============================] - 0s 1ms/step - loss: 0.5357 - accuracy: 0.7762 - val_loss: 0.5322 - val_accuracy: 0.7857\n",
      "Epoch 65/100\n",
      "16/16 [==============================] - 0s 1ms/step - loss: 0.5355 - accuracy: 0.7762 - val_loss: 0.5316 - val_accuracy: 0.7857\n",
      "Epoch 66/100\n",
      "16/16 [==============================] - 0s 1ms/step - loss: 0.5351 - accuracy: 0.7762 - val_loss: 0.5318 - val_accuracy: 0.7857\n",
      "Epoch 67/100\n",
      "16/16 [==============================] - 0s 1ms/step - loss: 0.5350 - accuracy: 0.7762 - val_loss: 0.5317 - val_accuracy: 0.7857\n",
      "Epoch 68/100\n",
      "16/16 [==============================] - 0s 1ms/step - loss: 0.5346 - accuracy: 0.7762 - val_loss: 0.5314 - val_accuracy: 0.7857\n",
      "Epoch 69/100\n",
      "16/16 [==============================] - 0s 1ms/step - loss: 0.5345 - accuracy: 0.7762 - val_loss: 0.5317 - val_accuracy: 0.7857\n",
      "Epoch 70/100\n",
      "16/16 [==============================] - 0s 1ms/step - loss: 0.5343 - accuracy: 0.7762 - val_loss: 0.5312 - val_accuracy: 0.7857\n",
      "Epoch 71/100\n",
      "16/16 [==============================] - 0s 1ms/step - loss: 0.5343 - accuracy: 0.7762 - val_loss: 0.5311 - val_accuracy: 0.7857\n",
      "Epoch 72/100\n",
      "16/16 [==============================] - 0s 1ms/step - loss: 0.5338 - accuracy: 0.7762 - val_loss: 0.5313 - val_accuracy: 0.7857\n",
      "Epoch 73/100\n",
      "16/16 [==============================] - 0s 1ms/step - loss: 0.5337 - accuracy: 0.7762 - val_loss: 0.5313 - val_accuracy: 0.7857\n",
      "Epoch 74/100\n",
      "16/16 [==============================] - 0s 1ms/step - loss: 0.5336 - accuracy: 0.7762 - val_loss: 0.5312 - val_accuracy: 0.7857\n",
      "Epoch 75/100\n",
      "16/16 [==============================] - 0s 1ms/step - loss: 0.5332 - accuracy: 0.7782 - val_loss: 0.5308 - val_accuracy: 0.7857\n",
      "Epoch 76/100\n",
      "16/16 [==============================] - 0s 1ms/step - loss: 0.5331 - accuracy: 0.7762 - val_loss: 0.5311 - val_accuracy: 0.7857\n",
      "Epoch 77/100\n",
      "16/16 [==============================] - 0s 1ms/step - loss: 0.5329 - accuracy: 0.7762 - val_loss: 0.5308 - val_accuracy: 0.7857\n",
      "Epoch 78/100\n",
      "16/16 [==============================] - 0s 1ms/step - loss: 0.5328 - accuracy: 0.7762 - val_loss: 0.5305 - val_accuracy: 0.7857\n",
      "Epoch 79/100\n",
      "16/16 [==============================] - 0s 1ms/step - loss: 0.5323 - accuracy: 0.7762 - val_loss: 0.5302 - val_accuracy: 0.7857\n",
      "Epoch 80/100\n",
      "16/16 [==============================] - 0s 1ms/step - loss: 0.5327 - accuracy: 0.7762 - val_loss: 0.5299 - val_accuracy: 0.7857\n",
      "Epoch 81/100\n",
      "16/16 [==============================] - 0s 1ms/step - loss: 0.5322 - accuracy: 0.7782 - val_loss: 0.5300 - val_accuracy: 0.7857\n",
      "Epoch 82/100\n",
      "16/16 [==============================] - 0s 1ms/step - loss: 0.5319 - accuracy: 0.7782 - val_loss: 0.5296 - val_accuracy: 0.7857\n",
      "Epoch 83/100\n",
      "16/16 [==============================] - 0s 1ms/step - loss: 0.5318 - accuracy: 0.7782 - val_loss: 0.5295 - val_accuracy: 0.7857\n",
      "Epoch 84/100\n",
      "16/16 [==============================] - 0s 1ms/step - loss: 0.5316 - accuracy: 0.7762 - val_loss: 0.5293 - val_accuracy: 0.7857\n",
      "Epoch 85/100\n",
      "16/16 [==============================] - 0s 1ms/step - loss: 0.5313 - accuracy: 0.7762 - val_loss: 0.5290 - val_accuracy: 0.7857\n",
      "Epoch 86/100\n",
      "16/16 [==============================] - 0s 1ms/step - loss: 0.5314 - accuracy: 0.7782 - val_loss: 0.5288 - val_accuracy: 0.7857\n",
      "Epoch 87/100\n",
      "16/16 [==============================] - 0s 1ms/step - loss: 0.5310 - accuracy: 0.7782 - val_loss: 0.5291 - val_accuracy: 0.7857\n",
      "Epoch 88/100\n",
      "16/16 [==============================] - 0s 1ms/step - loss: 0.5310 - accuracy: 0.7782 - val_loss: 0.5292 - val_accuracy: 0.7857\n",
      "Epoch 89/100\n",
      "16/16 [==============================] - 0s 1ms/step - loss: 0.5306 - accuracy: 0.7782 - val_loss: 0.5290 - val_accuracy: 0.7857\n",
      "Epoch 90/100\n",
      "16/16 [==============================] - 0s 1ms/step - loss: 0.5305 - accuracy: 0.7782 - val_loss: 0.5291 - val_accuracy: 0.7857\n",
      "Epoch 91/100\n",
      "16/16 [==============================] - 0s 1ms/step - loss: 0.5303 - accuracy: 0.7762 - val_loss: 0.5288 - val_accuracy: 0.7857\n",
      "Epoch 92/100\n",
      "16/16 [==============================] - 0s 1ms/step - loss: 0.5300 - accuracy: 0.7762 - val_loss: 0.5286 - val_accuracy: 0.7857\n",
      "Epoch 93/100\n",
      "16/16 [==============================] - 0s 1ms/step - loss: 0.5299 - accuracy: 0.7782 - val_loss: 0.5286 - val_accuracy: 0.7857\n",
      "Epoch 94/100\n",
      "16/16 [==============================] - 0s 1ms/step - loss: 0.5297 - accuracy: 0.7782 - val_loss: 0.5285 - val_accuracy: 0.7857\n",
      "Epoch 95/100\n",
      "16/16 [==============================] - 0s 1ms/step - loss: 0.5296 - accuracy: 0.7782 - val_loss: 0.5288 - val_accuracy: 0.7857\n",
      "Epoch 96/100\n",
      "16/16 [==============================] - 0s 1ms/step - loss: 0.5295 - accuracy: 0.7762 - val_loss: 0.5288 - val_accuracy: 0.7857\n",
      "Epoch 97/100\n",
      "16/16 [==============================] - 0s 1ms/step - loss: 0.5298 - accuracy: 0.7782 - val_loss: 0.5284 - val_accuracy: 0.7857\n",
      "Epoch 98/100\n",
      "16/16 [==============================] - 0s 1ms/step - loss: 0.5291 - accuracy: 0.7782 - val_loss: 0.5283 - val_accuracy: 0.7857\n",
      "Epoch 99/100\n",
      "16/16 [==============================] - 0s 1ms/step - loss: 0.5291 - accuracy: 0.7762 - val_loss: 0.5283 - val_accuracy: 0.7857\n",
      "Epoch 100/100\n",
      "16/16 [==============================] - 0s 1ms/step - loss: 0.5289 - accuracy: 0.7762 - val_loss: 0.5284 - val_accuracy: 0.7857\n"
     ]
    }
   ],
   "source": [
    "history = model.fit(X_train, Y_train, batch_size=32, epochs=100, verbose=1, validation_split=0.1)"
   ]
  },
  {
   "cell_type": "markdown",
   "id": "14744ad5",
   "metadata": {},
   "source": [
    "Graficamos ahora las curvas de aprendizaje para un mejor diagnóstico del aprendizaje"
   ]
  },
  {
   "cell_type": "code",
   "execution_count": 165,
   "id": "058bcfdf",
   "metadata": {},
   "outputs": [
    {
     "data": {
      "image/png": "[encoded data removed]",
      "text/plain": [
       "<Figure size 1500x600 with 2 Axes>"
      ]
     },
     "metadata": {},
     "output_type": "display_data"
    }
   ],
   "source": [
    "def plot_history(history):\n",
    "    hist = pd.DataFrame(history.history)\n",
    "    hist['epoch'] = history.epoch\n",
    "    plt.figure(figsize=(15, 6))\n",
    "    plt.subplot(121)\n",
    "    plt.title('Loss')\n",
    "    plt.xlabel('Epoch')\n",
    "    plt.ylabel('Loss')\n",
    "    plt.plot(hist['epoch'], hist['loss'], label=\"Train\")\n",
    "    plt.plot(hist['epoch'], hist['val_loss'], label = 'Val')\n",
    "    #plt.yscale('log')\n",
    "    plt.legend()\n",
    "\n",
    "    plt.subplot(122)\n",
    "    plt.title('Accuracy')\n",
    "    plt.xlabel('Epoch')\n",
    "    plt.ylabel('accuracy')\n",
    "    plt.plot(hist['epoch'], hist['accuracy'], label=\"Train\")\n",
    "    plt.plot(hist['epoch'], hist['val_accuracy'], label = 'Val')\n",
    "    plt.ylim([0,1])\n",
    "    plt.legend()\n",
    "    plt.tight_layout()\n",
    "    plt.show()\n",
    "     \n",
    "plot_history(history)"
   ]
  },
  {
   "cell_type": "markdown",
   "id": "6d2ced8e",
   "metadata": {},
   "source": [
    "## Paso 6. Evaluar el modelo con el test set"
   ]
  },
  {
   "cell_type": "markdown",
   "id": "c05ff3f8",
   "metadata": {},
   "source": [
    "Reporte de Clasificación"
   ]
  },
  {
   "cell_type": "code",
   "execution_count": 166,
   "id": "4175f88d",
   "metadata": {},
   "outputs": [
    {
     "name": "stdout",
     "output_type": "stream",
     "text": [
      "2/2 [==============================] - 0s 1ms/step\n",
      "              precision    recall  f1-score   support\n",
      "\n",
      " No aprobado       0.65      0.50      0.56        22\n",
      "    Aprobado       0.76      0.85      0.80        40\n",
      "\n",
      "    accuracy                           0.73        62\n",
      "   macro avg       0.70      0.68      0.68        62\n",
      "weighted avg       0.72      0.73      0.72        62\n",
      "\n"
     ]
    }
   ],
   "source": [
    "Y_pred = (model.predict(X_test) > 0.5) * 1\n",
    "print(classification_report(Y_test, Y_pred, target_names=(\"No aprobado\", \"Aprobado\")))"
   ]
  },
  {
   "cell_type": "markdown",
   "id": "2d30b095",
   "metadata": {},
   "source": [
    "Matriz de Confusión\n"
   ]
  },
  {
   "cell_type": "code",
   "execution_count": 167,
   "id": "163ec6e7",
   "metadata": {},
   "outputs": [
    {
     "data": {
      "image/png": "[encoded data removed]",
      "text/plain": [
       "<Figure size 640x480 with 2 Axes>"
      ]
     },
     "metadata": {},
     "output_type": "display_data"
    }
   ],
   "source": [
    "cm = confusion_matrix(Y_test, Y_pred)\n",
    "_ = sns.heatmap(cm/np.sum(cm), fmt=\"0.2%\", annot=True, cmap='Blues')"
   ]
  }
 ],
 "metadata": {
  "kernelspec": {
   "display_name": "Python 3 (ipykernel)",
   "language": "python",
   "name": "python3"
  },
  "language_info": {
   "codemirror_mode": {
    "name": "ipython",
    "version": 3
   },
   "file_extension": ".py",
   "mimetype": "text/x-python",
   "name": "python",
   "nbconvert_exporter": "python",
   "pygments_lexer": "ipython3",
   "version": "3.11.5"
  }
 },
 "nbformat": 4,
 "nbformat_minor": 5
}
