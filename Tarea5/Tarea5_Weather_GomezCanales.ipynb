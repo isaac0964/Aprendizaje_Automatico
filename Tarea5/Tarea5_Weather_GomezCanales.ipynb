{
 "cells": [
  {
   "cell_type": "markdown",
   "id": "0f091dbb",
   "metadata": {},
   "source": [
    "# Red Neuronal Densa TensorFlow"
   ]
  },
  {
   "cell_type": "markdown",
   "id": "c5950daa",
   "metadata": {},
   "source": [
    "## Predicción de Visibilidad de Weather History Dataset"
   ]
  },
  {
   "cell_type": "markdown",
   "id": "661620d2",
   "metadata": {},
   "source": [
    "### Ángel Isaac Gómez Canales"
   ]
  },
  {
   "cell_type": "markdown",
   "id": "7f1b6a4b",
   "metadata": {},
   "source": [
    "## Paso 1. Importar paquetería necesaria 📦"
   ]
  },
  {
   "cell_type": "code",
   "execution_count": 132,
   "id": "ad7531c7",
   "metadata": {},
   "outputs": [],
   "source": [
    "# Paqueteria basica\n",
    "import numpy as np\n",
    "import matplotlib.pyplot as plt\n",
    "import seaborn as sns\n",
    "import pandas as pd\n",
    "\n",
    "# Tensorflow y keras\n",
    "import tensorflow as tf\n",
    "from tensorflow import keras\n",
    "from keras import backend as K\n",
    "\n",
    "# Funcionalidades basicas de sklearn\n",
    "from sklearn.model_selection import train_test_split\n",
    "from sklearn.metrics import r2_score, mean_absolute_error, mean_squared_error\n",
    "from sklearn.preprocessing import StandardScaler, MinMaxScaler, LabelEncoder"
   ]
  },
  {
   "cell_type": "markdown",
   "id": "9525854a",
   "metadata": {},
   "source": [
    "## Paso 2. Cargar los datos 💾"
   ]
  },
  {
   "cell_type": "code",
   "execution_count": 133,
   "id": "608c6bf7",
   "metadata": {},
   "outputs": [],
   "source": [
    "data = pd.read_csv(\"../Datasets/weatherHistory.csv\")  # Cambiar la ruta a la adecuada"
   ]
  },
  {
   "cell_type": "markdown",
   "id": "289fb744",
   "metadata": {},
   "source": [
    "## Paso 3. Inspeccionar los datos 🔎"
   ]
  },
  {
   "cell_type": "markdown",
   "id": "504628dc",
   "metadata": {},
   "source": [
    "A continuacion se muestran los primeros 5 datos del datset para observar el formato que tienen los datos"
   ]
  },
  {
   "cell_type": "code",
   "execution_count": 134,
   "id": "481db320",
   "metadata": {},
   "outputs": [
    {
     "data": {
      "text/html": [
       "<div>\n",
       "<style scoped>\n",
       "    .dataframe tbody tr th:only-of-type {\n",
       "        vertical-align: middle;\n",
       "    }\n",
       "\n",
       "    .dataframe tbody tr th {\n",
       "        vertical-align: top;\n",
       "    }\n",
       "\n",
       "    .dataframe thead th {\n",
       "        text-align: right;\n",
       "    }\n",
       "</style>\n",
       "<table border=\"1\" class=\"dataframe\">\n",
       "  <thead>\n",
       "    <tr style=\"text-align: right;\">\n",
       "      <th></th>\n",
       "      <th>Formatted Date</th>\n",
       "      <th>Summary</th>\n",
       "      <th>Precip Type</th>\n",
       "      <th>Temperature (C)</th>\n",
       "      <th>Apparent Temperature (C)</th>\n",
       "      <th>Humidity</th>\n",
       "      <th>Wind Speed (km/h)</th>\n",
       "      <th>Wind Bearing (degrees)</th>\n",
       "      <th>Visibility (km)</th>\n",
       "      <th>Loud Cover</th>\n",
       "      <th>Pressure (millibars)</th>\n",
       "      <th>Daily Summary</th>\n",
       "    </tr>\n",
       "  </thead>\n",
       "  <tbody>\n",
       "    <tr>\n",
       "      <th>0</th>\n",
       "      <td>2006-04-01 00:00:00.000 +0200</td>\n",
       "      <td>Partly Cloudy</td>\n",
       "      <td>rain</td>\n",
       "      <td>9.472222</td>\n",
       "      <td>7.388889</td>\n",
       "      <td>0.89</td>\n",
       "      <td>14.1197</td>\n",
       "      <td>251.0</td>\n",
       "      <td>15.8263</td>\n",
       "      <td>0.0</td>\n",
       "      <td>1015.13</td>\n",
       "      <td>Partly cloudy throughout the day.</td>\n",
       "    </tr>\n",
       "    <tr>\n",
       "      <th>1</th>\n",
       "      <td>2006-04-01 01:00:00.000 +0200</td>\n",
       "      <td>Partly Cloudy</td>\n",
       "      <td>rain</td>\n",
       "      <td>9.355556</td>\n",
       "      <td>7.227778</td>\n",
       "      <td>0.86</td>\n",
       "      <td>14.2646</td>\n",
       "      <td>259.0</td>\n",
       "      <td>15.8263</td>\n",
       "      <td>0.0</td>\n",
       "      <td>1015.63</td>\n",
       "      <td>Partly cloudy throughout the day.</td>\n",
       "    </tr>\n",
       "    <tr>\n",
       "      <th>2</th>\n",
       "      <td>2006-04-01 02:00:00.000 +0200</td>\n",
       "      <td>Mostly Cloudy</td>\n",
       "      <td>rain</td>\n",
       "      <td>9.377778</td>\n",
       "      <td>9.377778</td>\n",
       "      <td>0.89</td>\n",
       "      <td>3.9284</td>\n",
       "      <td>204.0</td>\n",
       "      <td>14.9569</td>\n",
       "      <td>0.0</td>\n",
       "      <td>1015.94</td>\n",
       "      <td>Partly cloudy throughout the day.</td>\n",
       "    </tr>\n",
       "    <tr>\n",
       "      <th>3</th>\n",
       "      <td>2006-04-01 03:00:00.000 +0200</td>\n",
       "      <td>Partly Cloudy</td>\n",
       "      <td>rain</td>\n",
       "      <td>8.288889</td>\n",
       "      <td>5.944444</td>\n",
       "      <td>0.83</td>\n",
       "      <td>14.1036</td>\n",
       "      <td>269.0</td>\n",
       "      <td>15.8263</td>\n",
       "      <td>0.0</td>\n",
       "      <td>1016.41</td>\n",
       "      <td>Partly cloudy throughout the day.</td>\n",
       "    </tr>\n",
       "    <tr>\n",
       "      <th>4</th>\n",
       "      <td>2006-04-01 04:00:00.000 +0200</td>\n",
       "      <td>Mostly Cloudy</td>\n",
       "      <td>rain</td>\n",
       "      <td>8.755556</td>\n",
       "      <td>6.977778</td>\n",
       "      <td>0.83</td>\n",
       "      <td>11.0446</td>\n",
       "      <td>259.0</td>\n",
       "      <td>15.8263</td>\n",
       "      <td>0.0</td>\n",
       "      <td>1016.51</td>\n",
       "      <td>Partly cloudy throughout the day.</td>\n",
       "    </tr>\n",
       "  </tbody>\n",
       "</table>\n",
       "</div>"
      ],
      "text/plain": [
       "                  Formatted Date        Summary Precip Type  Temperature (C)  \\\n",
       "0  2006-04-01 00:00:00.000 +0200  Partly Cloudy        rain         9.472222   \n",
       "1  2006-04-01 01:00:00.000 +0200  Partly Cloudy        rain         9.355556   \n",
       "2  2006-04-01 02:00:00.000 +0200  Mostly Cloudy        rain         9.377778   \n",
       "3  2006-04-01 03:00:00.000 +0200  Partly Cloudy        rain         8.288889   \n",
       "4  2006-04-01 04:00:00.000 +0200  Mostly Cloudy        rain         8.755556   \n",
       "\n",
       "   Apparent Temperature (C)  Humidity  Wind Speed (km/h)  \\\n",
       "0                  7.388889      0.89            14.1197   \n",
       "1                  7.227778      0.86            14.2646   \n",
       "2                  9.377778      0.89             3.9284   \n",
       "3                  5.944444      0.83            14.1036   \n",
       "4                  6.977778      0.83            11.0446   \n",
       "\n",
       "   Wind Bearing (degrees)  Visibility (km)  Loud Cover  Pressure (millibars)  \\\n",
       "0                   251.0          15.8263         0.0               1015.13   \n",
       "1                   259.0          15.8263         0.0               1015.63   \n",
       "2                   204.0          14.9569         0.0               1015.94   \n",
       "3                   269.0          15.8263         0.0               1016.41   \n",
       "4                   259.0          15.8263         0.0               1016.51   \n",
       "\n",
       "                       Daily Summary  \n",
       "0  Partly cloudy throughout the day.  \n",
       "1  Partly cloudy throughout the day.  \n",
       "2  Partly cloudy throughout the day.  \n",
       "3  Partly cloudy throughout the day.  \n",
       "4  Partly cloudy throughout the day.  "
      ]
     },
     "execution_count": 134,
     "metadata": {},
     "output_type": "execute_result"
    }
   ],
   "source": [
    "data.head()"
   ]
  },
  {
   "cell_type": "code",
   "execution_count": 135,
   "id": "63946cc4",
   "metadata": {},
   "outputs": [
    {
     "data": {
      "text/plain": [
       "(96453, 12)"
      ]
     },
     "execution_count": 135,
     "metadata": {},
     "output_type": "execute_result"
    }
   ],
   "source": [
    "data.shape"
   ]
  },
  {
   "cell_type": "markdown",
   "id": "242e5932",
   "metadata": {},
   "source": [
    "Información del Dataset para conocer sus columnas y  ver si tiene valores nulos que se deban eliminar"
   ]
  },
  {
   "cell_type": "code",
   "execution_count": 136,
   "id": "2aa00380",
   "metadata": {},
   "outputs": [
    {
     "name": "stdout",
     "output_type": "stream",
     "text": [
      "<class 'pandas.core.frame.DataFrame'>\n",
      "RangeIndex: 96453 entries, 0 to 96452\n",
      "Data columns (total 12 columns):\n",
      " #   Column                    Non-Null Count  Dtype  \n",
      "---  ------                    --------------  -----  \n",
      " 0   Formatted Date            96453 non-null  object \n",
      " 1   Summary                   96453 non-null  object \n",
      " 2   Precip Type               95936 non-null  object \n",
      " 3   Temperature (C)           96453 non-null  float64\n",
      " 4   Apparent Temperature (C)  96453 non-null  float64\n",
      " 5   Humidity                  96453 non-null  float64\n",
      " 6   Wind Speed (km/h)         96453 non-null  float64\n",
      " 7   Wind Bearing (degrees)    96453 non-null  float64\n",
      " 8   Visibility (km)           96453 non-null  float64\n",
      " 9   Loud Cover                96453 non-null  float64\n",
      " 10  Pressure (millibars)      96453 non-null  float64\n",
      " 11  Daily Summary             96453 non-null  object \n",
      "dtypes: float64(8), object(4)\n",
      "memory usage: 8.8+ MB\n"
     ]
    }
   ],
   "source": [
    "data.info()"
   ]
  },
  {
   "cell_type": "code",
   "execution_count": 137,
   "id": "d1577360",
   "metadata": {},
   "outputs": [
    {
     "data": {
      "text/plain": [
       "Formatted Date                0\n",
       "Summary                       0\n",
       "Precip Type                 517\n",
       "Temperature (C)               0\n",
       "Apparent Temperature (C)      0\n",
       "Humidity                      0\n",
       "Wind Speed (km/h)             0\n",
       "Wind Bearing (degrees)        0\n",
       "Visibility (km)               0\n",
       "Loud Cover                    0\n",
       "Pressure (millibars)          0\n",
       "Daily Summary                 0\n",
       "dtype: int64"
      ]
     },
     "execution_count": 137,
     "metadata": {},
     "output_type": "execute_result"
    }
   ],
   "source": [
    "data.isna().sum()"
   ]
  },
  {
   "cell_type": "markdown",
   "id": "2570cfb3",
   "metadata": {},
   "source": [
    "De aquí vemos que la columna 'PrecipType' cuenta con 517 valores nan, los cuales será necesario tratar para poder pasar los datos al modelo."
   ]
  },
  {
   "cell_type": "code",
   "execution_count": 138,
   "id": "6f2f5fc1",
   "metadata": {},
   "outputs": [
    {
     "data": {
      "text/html": [
       "<div>\n",
       "<style scoped>\n",
       "    .dataframe tbody tr th:only-of-type {\n",
       "        vertical-align: middle;\n",
       "    }\n",
       "\n",
       "    .dataframe tbody tr th {\n",
       "        vertical-align: top;\n",
       "    }\n",
       "\n",
       "    .dataframe thead th {\n",
       "        text-align: right;\n",
       "    }\n",
       "</style>\n",
       "<table border=\"1\" class=\"dataframe\">\n",
       "  <thead>\n",
       "    <tr style=\"text-align: right;\">\n",
       "      <th></th>\n",
       "      <th>Temperature (C)</th>\n",
       "      <th>Apparent Temperature (C)</th>\n",
       "      <th>Humidity</th>\n",
       "      <th>Wind Speed (km/h)</th>\n",
       "      <th>Wind Bearing (degrees)</th>\n",
       "      <th>Visibility (km)</th>\n",
       "      <th>Loud Cover</th>\n",
       "      <th>Pressure (millibars)</th>\n",
       "    </tr>\n",
       "  </thead>\n",
       "  <tbody>\n",
       "    <tr>\n",
       "      <th>count</th>\n",
       "      <td>96453.000000</td>\n",
       "      <td>96453.000000</td>\n",
       "      <td>96453.000000</td>\n",
       "      <td>96453.000000</td>\n",
       "      <td>96453.000000</td>\n",
       "      <td>96453.000000</td>\n",
       "      <td>96453.0</td>\n",
       "      <td>96453.000000</td>\n",
       "    </tr>\n",
       "    <tr>\n",
       "      <th>mean</th>\n",
       "      <td>11.932678</td>\n",
       "      <td>10.855029</td>\n",
       "      <td>0.734899</td>\n",
       "      <td>10.810640</td>\n",
       "      <td>187.509232</td>\n",
       "      <td>10.347325</td>\n",
       "      <td>0.0</td>\n",
       "      <td>1003.235956</td>\n",
       "    </tr>\n",
       "    <tr>\n",
       "      <th>std</th>\n",
       "      <td>9.551546</td>\n",
       "      <td>10.696847</td>\n",
       "      <td>0.195473</td>\n",
       "      <td>6.913571</td>\n",
       "      <td>107.383428</td>\n",
       "      <td>4.192123</td>\n",
       "      <td>0.0</td>\n",
       "      <td>116.969906</td>\n",
       "    </tr>\n",
       "    <tr>\n",
       "      <th>min</th>\n",
       "      <td>-21.822222</td>\n",
       "      <td>-27.716667</td>\n",
       "      <td>0.000000</td>\n",
       "      <td>0.000000</td>\n",
       "      <td>0.000000</td>\n",
       "      <td>0.000000</td>\n",
       "      <td>0.0</td>\n",
       "      <td>0.000000</td>\n",
       "    </tr>\n",
       "    <tr>\n",
       "      <th>25%</th>\n",
       "      <td>4.688889</td>\n",
       "      <td>2.311111</td>\n",
       "      <td>0.600000</td>\n",
       "      <td>5.828200</td>\n",
       "      <td>116.000000</td>\n",
       "      <td>8.339800</td>\n",
       "      <td>0.0</td>\n",
       "      <td>1011.900000</td>\n",
       "    </tr>\n",
       "    <tr>\n",
       "      <th>50%</th>\n",
       "      <td>12.000000</td>\n",
       "      <td>12.000000</td>\n",
       "      <td>0.780000</td>\n",
       "      <td>9.965900</td>\n",
       "      <td>180.000000</td>\n",
       "      <td>10.046400</td>\n",
       "      <td>0.0</td>\n",
       "      <td>1016.450000</td>\n",
       "    </tr>\n",
       "    <tr>\n",
       "      <th>75%</th>\n",
       "      <td>18.838889</td>\n",
       "      <td>18.838889</td>\n",
       "      <td>0.890000</td>\n",
       "      <td>14.135800</td>\n",
       "      <td>290.000000</td>\n",
       "      <td>14.812000</td>\n",
       "      <td>0.0</td>\n",
       "      <td>1021.090000</td>\n",
       "    </tr>\n",
       "    <tr>\n",
       "      <th>max</th>\n",
       "      <td>39.905556</td>\n",
       "      <td>39.344444</td>\n",
       "      <td>1.000000</td>\n",
       "      <td>63.852600</td>\n",
       "      <td>359.000000</td>\n",
       "      <td>16.100000</td>\n",
       "      <td>0.0</td>\n",
       "      <td>1046.380000</td>\n",
       "    </tr>\n",
       "  </tbody>\n",
       "</table>\n",
       "</div>"
      ],
      "text/plain": [
       "       Temperature (C)  Apparent Temperature (C)      Humidity  \\\n",
       "count     96453.000000              96453.000000  96453.000000   \n",
       "mean         11.932678                 10.855029      0.734899   \n",
       "std           9.551546                 10.696847      0.195473   \n",
       "min         -21.822222                -27.716667      0.000000   \n",
       "25%           4.688889                  2.311111      0.600000   \n",
       "50%          12.000000                 12.000000      0.780000   \n",
       "75%          18.838889                 18.838889      0.890000   \n",
       "max          39.905556                 39.344444      1.000000   \n",
       "\n",
       "       Wind Speed (km/h)  Wind Bearing (degrees)  Visibility (km)  Loud Cover  \\\n",
       "count       96453.000000            96453.000000     96453.000000     96453.0   \n",
       "mean           10.810640              187.509232        10.347325         0.0   \n",
       "std             6.913571              107.383428         4.192123         0.0   \n",
       "min             0.000000                0.000000         0.000000         0.0   \n",
       "25%             5.828200              116.000000         8.339800         0.0   \n",
       "50%             9.965900              180.000000        10.046400         0.0   \n",
       "75%            14.135800              290.000000        14.812000         0.0   \n",
       "max            63.852600              359.000000        16.100000         0.0   \n",
       "\n",
       "       Pressure (millibars)  \n",
       "count          96453.000000  \n",
       "mean            1003.235956  \n",
       "std              116.969906  \n",
       "min                0.000000  \n",
       "25%             1011.900000  \n",
       "50%             1016.450000  \n",
       "75%             1021.090000  \n",
       "max             1046.380000  "
      ]
     },
     "execution_count": 138,
     "metadata": {},
     "output_type": "execute_result"
    }
   ],
   "source": [
    "data.describe()"
   ]
  },
  {
   "cell_type": "markdown",
   "id": "bfdc95f1",
   "metadata": {},
   "source": [
    "Se observa que hay columnas que toman valores en el orden de $10^{0}$, mientras que otras toman valores en el rango de $10^{3}$, por lo que será necesario escalar los datos."
   ]
  },
  {
   "cell_type": "markdown",
   "id": "e62126c0",
   "metadata": {},
   "source": [
    "Ahora veremos que información contienen las columnas no numéricas"
   ]
  },
  {
   "cell_type": "code",
   "execution_count": 139,
   "id": "d8937987",
   "metadata": {},
   "outputs": [
    {
     "data": {
      "text/html": [
       "<div>\n",
       "<style scoped>\n",
       "    .dataframe tbody tr th:only-of-type {\n",
       "        vertical-align: middle;\n",
       "    }\n",
       "\n",
       "    .dataframe tbody tr th {\n",
       "        vertical-align: top;\n",
       "    }\n",
       "\n",
       "    .dataframe thead th {\n",
       "        text-align: right;\n",
       "    }\n",
       "</style>\n",
       "<table border=\"1\" class=\"dataframe\">\n",
       "  <thead>\n",
       "    <tr style=\"text-align: right;\">\n",
       "      <th></th>\n",
       "      <th>Formatted Date</th>\n",
       "      <th>Summary</th>\n",
       "      <th>Precip Type</th>\n",
       "      <th>Daily Summary</th>\n",
       "    </tr>\n",
       "  </thead>\n",
       "  <tbody>\n",
       "    <tr>\n",
       "      <th>0</th>\n",
       "      <td>2006-04-01 00:00:00.000 +0200</td>\n",
       "      <td>Partly Cloudy</td>\n",
       "      <td>rain</td>\n",
       "      <td>Partly cloudy throughout the day.</td>\n",
       "    </tr>\n",
       "    <tr>\n",
       "      <th>1</th>\n",
       "      <td>2006-04-01 01:00:00.000 +0200</td>\n",
       "      <td>Partly Cloudy</td>\n",
       "      <td>rain</td>\n",
       "      <td>Partly cloudy throughout the day.</td>\n",
       "    </tr>\n",
       "    <tr>\n",
       "      <th>2</th>\n",
       "      <td>2006-04-01 02:00:00.000 +0200</td>\n",
       "      <td>Mostly Cloudy</td>\n",
       "      <td>rain</td>\n",
       "      <td>Partly cloudy throughout the day.</td>\n",
       "    </tr>\n",
       "    <tr>\n",
       "      <th>3</th>\n",
       "      <td>2006-04-01 03:00:00.000 +0200</td>\n",
       "      <td>Partly Cloudy</td>\n",
       "      <td>rain</td>\n",
       "      <td>Partly cloudy throughout the day.</td>\n",
       "    </tr>\n",
       "    <tr>\n",
       "      <th>4</th>\n",
       "      <td>2006-04-01 04:00:00.000 +0200</td>\n",
       "      <td>Mostly Cloudy</td>\n",
       "      <td>rain</td>\n",
       "      <td>Partly cloudy throughout the day.</td>\n",
       "    </tr>\n",
       "    <tr>\n",
       "      <th>...</th>\n",
       "      <td>...</td>\n",
       "      <td>...</td>\n",
       "      <td>...</td>\n",
       "      <td>...</td>\n",
       "    </tr>\n",
       "    <tr>\n",
       "      <th>96448</th>\n",
       "      <td>2016-09-09 19:00:00.000 +0200</td>\n",
       "      <td>Partly Cloudy</td>\n",
       "      <td>rain</td>\n",
       "      <td>Partly cloudy starting in the morning.</td>\n",
       "    </tr>\n",
       "    <tr>\n",
       "      <th>96449</th>\n",
       "      <td>2016-09-09 20:00:00.000 +0200</td>\n",
       "      <td>Partly Cloudy</td>\n",
       "      <td>rain</td>\n",
       "      <td>Partly cloudy starting in the morning.</td>\n",
       "    </tr>\n",
       "    <tr>\n",
       "      <th>96450</th>\n",
       "      <td>2016-09-09 21:00:00.000 +0200</td>\n",
       "      <td>Partly Cloudy</td>\n",
       "      <td>rain</td>\n",
       "      <td>Partly cloudy starting in the morning.</td>\n",
       "    </tr>\n",
       "    <tr>\n",
       "      <th>96451</th>\n",
       "      <td>2016-09-09 22:00:00.000 +0200</td>\n",
       "      <td>Partly Cloudy</td>\n",
       "      <td>rain</td>\n",
       "      <td>Partly cloudy starting in the morning.</td>\n",
       "    </tr>\n",
       "    <tr>\n",
       "      <th>96452</th>\n",
       "      <td>2016-09-09 23:00:00.000 +0200</td>\n",
       "      <td>Partly Cloudy</td>\n",
       "      <td>rain</td>\n",
       "      <td>Partly cloudy starting in the morning.</td>\n",
       "    </tr>\n",
       "  </tbody>\n",
       "</table>\n",
       "<p>96453 rows × 4 columns</p>\n",
       "</div>"
      ],
      "text/plain": [
       "                      Formatted Date        Summary Precip Type  \\\n",
       "0      2006-04-01 00:00:00.000 +0200  Partly Cloudy        rain   \n",
       "1      2006-04-01 01:00:00.000 +0200  Partly Cloudy        rain   \n",
       "2      2006-04-01 02:00:00.000 +0200  Mostly Cloudy        rain   \n",
       "3      2006-04-01 03:00:00.000 +0200  Partly Cloudy        rain   \n",
       "4      2006-04-01 04:00:00.000 +0200  Mostly Cloudy        rain   \n",
       "...                              ...            ...         ...   \n",
       "96448  2016-09-09 19:00:00.000 +0200  Partly Cloudy        rain   \n",
       "96449  2016-09-09 20:00:00.000 +0200  Partly Cloudy        rain   \n",
       "96450  2016-09-09 21:00:00.000 +0200  Partly Cloudy        rain   \n",
       "96451  2016-09-09 22:00:00.000 +0200  Partly Cloudy        rain   \n",
       "96452  2016-09-09 23:00:00.000 +0200  Partly Cloudy        rain   \n",
       "\n",
       "                                Daily Summary  \n",
       "0           Partly cloudy throughout the day.  \n",
       "1           Partly cloudy throughout the day.  \n",
       "2           Partly cloudy throughout the day.  \n",
       "3           Partly cloudy throughout the day.  \n",
       "4           Partly cloudy throughout the day.  \n",
       "...                                       ...  \n",
       "96448  Partly cloudy starting in the morning.  \n",
       "96449  Partly cloudy starting in the morning.  \n",
       "96450  Partly cloudy starting in the morning.  \n",
       "96451  Partly cloudy starting in the morning.  \n",
       "96452  Partly cloudy starting in the morning.  \n",
       "\n",
       "[96453 rows x 4 columns]"
      ]
     },
     "execution_count": 139,
     "metadata": {},
     "output_type": "execute_result"
    }
   ],
   "source": [
    "data.select_dtypes(include=\"object\")"
   ]
  },
  {
   "cell_type": "code",
   "execution_count": 140,
   "id": "b1980b45",
   "metadata": {},
   "outputs": [
    {
     "data": {
      "text/plain": [
       "Summary\n",
       "Partly Cloudy                          31733\n",
       "Mostly Cloudy                          28094\n",
       "Overcast                               16597\n",
       "Clear                                  10890\n",
       "Foggy                                   7148\n",
       "Breezy and Overcast                      528\n",
       "Breezy and Mostly Cloudy                 516\n",
       "Breezy and Partly Cloudy                 386\n",
       "Dry and Partly Cloudy                     86\n",
       "Windy and Partly Cloudy                   67\n",
       "Light Rain                                63\n",
       "Breezy                                    54\n",
       "Windy and Overcast                        45\n",
       "Humid and Mostly Cloudy                   40\n",
       "Drizzle                                   39\n",
       "Breezy and Foggy                          35\n",
       "Windy and Mostly Cloudy                   35\n",
       "Dry                                       34\n",
       "Humid and Partly Cloudy                   17\n",
       "Dry and Mostly Cloudy                     14\n",
       "Rain                                      10\n",
       "Windy                                      8\n",
       "Humid and Overcast                         7\n",
       "Windy and Foggy                            4\n",
       "Windy and Dry                              1\n",
       "Dangerously Windy and Partly Cloudy        1\n",
       "Breezy and Dry                             1\n",
       "Name: count, dtype: int64"
      ]
     },
     "execution_count": 140,
     "metadata": {},
     "output_type": "execute_result"
    }
   ],
   "source": [
    "data[\"Summary\"].value_counts()"
   ]
  },
  {
   "cell_type": "code",
   "execution_count": 141,
   "id": "825db20c",
   "metadata": {},
   "outputs": [
    {
     "data": {
      "text/plain": [
       "Precip Type\n",
       "rain    85224\n",
       "snow    10712\n",
       "Name: count, dtype: int64"
      ]
     },
     "execution_count": 141,
     "metadata": {},
     "output_type": "execute_result"
    }
   ],
   "source": [
    "data['Precip Type'].value_counts()"
   ]
  },
  {
   "cell_type": "code",
   "execution_count": 142,
   "id": "34f97778",
   "metadata": {},
   "outputs": [
    {
     "data": {
      "text/plain": [
       "Daily Summary\n",
       "Mostly cloudy throughout the day.                                                                       20085\n",
       "Partly cloudy throughout the day.                                                                        9981\n",
       "Partly cloudy until night.                                                                               6169\n",
       "Partly cloudy starting in the morning.                                                                   5184\n",
       "Foggy in the morning.                                                                                    4201\n",
       "                                                                                                        ...  \n",
       "Breezy starting overnight continuing until morning and foggy overnight.                                    24\n",
       "Mostly cloudy throughout the day and breezy starting overnight continuing until afternoon.                 24\n",
       "Partly cloudy starting in the morning and breezy starting in the afternoon continuing until evening.       24\n",
       "Rain until afternoon.                                                                                      24\n",
       "Foggy starting overnight continuing until morning and breezy in the afternoon.                             23\n",
       "Name: count, Length: 214, dtype: int64"
      ]
     },
     "execution_count": 142,
     "metadata": {},
     "output_type": "execute_result"
    }
   ],
   "source": [
    "data[\"Daily Summary\"].value_counts()"
   ]
  },
  {
   "cell_type": "markdown",
   "id": "523b7b0c",
   "metadata": {},
   "source": [
    "Estas columnas las codificaremos mas adelante"
   ]
  },
  {
   "cell_type": "markdown",
   "id": "163e2e34",
   "metadata": {},
   "source": [
    "## Paso 3. Preprocesamiento de los datos 🛠️"
   ]
  },
  {
   "cell_type": "markdown",
   "id": "f1f56d74",
   "metadata": {},
   "source": [
    "Primero eliminaremos columnas que no aporten informacion al modelo, en este caso elimnaremos las columnas de fecha y el resumen diario, ya que esta información ya está contenida en la columna de resumen, por lo que podría ser redundante"
   ]
  },
  {
   "cell_type": "code",
   "execution_count": 143,
   "id": "cab7cca8",
   "metadata": {},
   "outputs": [],
   "source": [
    "data.drop(columns=[\"Formatted Date\", \"Daily Summary\"], inplace=True)"
   ]
  },
  {
   "cell_type": "markdown",
   "id": "9f8978ce",
   "metadata": {},
   "source": [
    "Ahora eliminamos las filas que tengan valores nan, en este caso podemos \"darnos el lujo\" de eliminar las columnas nan ya que tenemos una gran cantidad de datos."
   ]
  },
  {
   "cell_type": "code",
   "execution_count": 144,
   "id": "6c552466",
   "metadata": {},
   "outputs": [],
   "source": [
    "data.dropna(axis=0, inplace=True)"
   ]
  },
  {
   "cell_type": "markdown",
   "id": "2fbb34db",
   "metadata": {},
   "source": [
    "Ahora codificamos las variables no numericas"
   ]
  },
  {
   "cell_type": "code",
   "execution_count": 145,
   "id": "5ce813ab",
   "metadata": {},
   "outputs": [
    {
     "name": "stdout",
     "output_type": "stream",
     "text": [
      "Codificada columna: Summary\n",
      "Codificada columna: Precip Type\n"
     ]
    }
   ],
   "source": [
    "# Sustituir las columnas por la version codificada\n",
    "for columna in data.select_dtypes(include=\"object\").columns:\n",
    "    LE = LabelEncoder()\n",
    "    data[columna] = LE.fit_transform(data[columna])\n",
    "    print(f\"Codificada columna: {columna}\")"
   ]
  },
  {
   "cell_type": "code",
   "execution_count": 146,
   "id": "e9901077",
   "metadata": {},
   "outputs": [
    {
     "data": {
      "text/html": [
       "<div>\n",
       "<style scoped>\n",
       "    .dataframe tbody tr th:only-of-type {\n",
       "        vertical-align: middle;\n",
       "    }\n",
       "\n",
       "    .dataframe tbody tr th {\n",
       "        vertical-align: top;\n",
       "    }\n",
       "\n",
       "    .dataframe thead th {\n",
       "        text-align: right;\n",
       "    }\n",
       "</style>\n",
       "<table border=\"1\" class=\"dataframe\">\n",
       "  <thead>\n",
       "    <tr style=\"text-align: right;\">\n",
       "      <th></th>\n",
       "      <th>Summary</th>\n",
       "      <th>Precip Type</th>\n",
       "      <th>Temperature (C)</th>\n",
       "      <th>Apparent Temperature (C)</th>\n",
       "      <th>Humidity</th>\n",
       "      <th>Wind Speed (km/h)</th>\n",
       "      <th>Wind Bearing (degrees)</th>\n",
       "      <th>Visibility (km)</th>\n",
       "      <th>Loud Cover</th>\n",
       "      <th>Pressure (millibars)</th>\n",
       "    </tr>\n",
       "  </thead>\n",
       "  <tbody>\n",
       "    <tr>\n",
       "      <th>96448</th>\n",
       "      <td>19</td>\n",
       "      <td>0</td>\n",
       "      <td>26.016667</td>\n",
       "      <td>26.016667</td>\n",
       "      <td>0.43</td>\n",
       "      <td>10.9963</td>\n",
       "      <td>31.0</td>\n",
       "      <td>16.1000</td>\n",
       "      <td>0.0</td>\n",
       "      <td>1014.36</td>\n",
       "    </tr>\n",
       "    <tr>\n",
       "      <th>96449</th>\n",
       "      <td>19</td>\n",
       "      <td>0</td>\n",
       "      <td>24.583333</td>\n",
       "      <td>24.583333</td>\n",
       "      <td>0.48</td>\n",
       "      <td>10.0947</td>\n",
       "      <td>20.0</td>\n",
       "      <td>15.5526</td>\n",
       "      <td>0.0</td>\n",
       "      <td>1015.16</td>\n",
       "    </tr>\n",
       "    <tr>\n",
       "      <th>96450</th>\n",
       "      <td>19</td>\n",
       "      <td>0</td>\n",
       "      <td>22.038889</td>\n",
       "      <td>22.038889</td>\n",
       "      <td>0.56</td>\n",
       "      <td>8.9838</td>\n",
       "      <td>30.0</td>\n",
       "      <td>16.1000</td>\n",
       "      <td>0.0</td>\n",
       "      <td>1015.66</td>\n",
       "    </tr>\n",
       "    <tr>\n",
       "      <th>96451</th>\n",
       "      <td>19</td>\n",
       "      <td>0</td>\n",
       "      <td>21.522222</td>\n",
       "      <td>21.522222</td>\n",
       "      <td>0.60</td>\n",
       "      <td>10.5294</td>\n",
       "      <td>20.0</td>\n",
       "      <td>16.1000</td>\n",
       "      <td>0.0</td>\n",
       "      <td>1015.95</td>\n",
       "    </tr>\n",
       "    <tr>\n",
       "      <th>96452</th>\n",
       "      <td>19</td>\n",
       "      <td>0</td>\n",
       "      <td>20.438889</td>\n",
       "      <td>20.438889</td>\n",
       "      <td>0.61</td>\n",
       "      <td>5.8765</td>\n",
       "      <td>39.0</td>\n",
       "      <td>15.5204</td>\n",
       "      <td>0.0</td>\n",
       "      <td>1016.16</td>\n",
       "    </tr>\n",
       "  </tbody>\n",
       "</table>\n",
       "</div>"
      ],
      "text/plain": [
       "       Summary  Precip Type  Temperature (C)  Apparent Temperature (C)  \\\n",
       "96448       19            0        26.016667                 26.016667   \n",
       "96449       19            0        24.583333                 24.583333   \n",
       "96450       19            0        22.038889                 22.038889   \n",
       "96451       19            0        21.522222                 21.522222   \n",
       "96452       19            0        20.438889                 20.438889   \n",
       "\n",
       "       Humidity  Wind Speed (km/h)  Wind Bearing (degrees)  Visibility (km)  \\\n",
       "96448      0.43            10.9963                    31.0          16.1000   \n",
       "96449      0.48            10.0947                    20.0          15.5526   \n",
       "96450      0.56             8.9838                    30.0          16.1000   \n",
       "96451      0.60            10.5294                    20.0          16.1000   \n",
       "96452      0.61             5.8765                    39.0          15.5204   \n",
       "\n",
       "       Loud Cover  Pressure (millibars)  \n",
       "96448         0.0               1014.36  \n",
       "96449         0.0               1015.16  \n",
       "96450         0.0               1015.66  \n",
       "96451         0.0               1015.95  \n",
       "96452         0.0               1016.16  "
      ]
     },
     "execution_count": 146,
     "metadata": {},
     "output_type": "execute_result"
    }
   ],
   "source": [
    "data.tail()"
   ]
  },
  {
   "cell_type": "markdown",
   "id": "56bbe857",
   "metadata": {},
   "source": [
    "A continuación, separamos las variables de entrada de las salidas"
   ]
  },
  {
   "cell_type": "code",
   "execution_count": 147,
   "id": "45b3296c",
   "metadata": {},
   "outputs": [],
   "source": [
    "X = data.drop(columns=\"Visibility (km)\")\n",
    "Y = data[\"Visibility (km)\"].to_numpy()"
   ]
  },
  {
   "cell_type": "markdown",
   "id": "3ed9c482",
   "metadata": {},
   "source": [
    "El siguiente paso es escalar los datos para que tengan rangos similares y poder entrenar la red de mejor manera"
   ]
  },
  {
   "cell_type": "code",
   "execution_count": 148,
   "id": "324ac676",
   "metadata": {},
   "outputs": [],
   "source": [
    "X = StandardScaler().fit_transform(X)"
   ]
  },
  {
   "cell_type": "markdown",
   "id": "9670abe8",
   "metadata": {},
   "source": [
    "Finalmente, particionamos los datos con el 70% para entrenamiento, 15% para validacion el 15% para prueba"
   ]
  },
  {
   "cell_type": "code",
   "execution_count": 149,
   "id": "5f59ea39",
   "metadata": {},
   "outputs": [],
   "source": [
    "X_train, X_res, Y_train, Y_res = train_test_split(X, Y, test_size=0.3)  # Obtener set de entrenamiento y test/val\n",
    "X_test, X_val, Y_test, Y_val = train_test_split(X_res, Y_res, test_size=0.5)  # Obtener set de validacion y test"
   ]
  },
  {
   "cell_type": "markdown",
   "id": "7d334309",
   "metadata": {},
   "source": [
    "# Paso 4. Diseñar Red Neuronal 👨‍💻"
   ]
  },
  {
   "cell_type": "markdown",
   "id": "675697d6",
   "metadata": {},
   "source": [
    "Definimos la funcion para r2score"
   ]
  },
  {
   "cell_type": "code",
   "execution_count": 123,
   "id": "4536a920",
   "metadata": {},
   "outputs": [],
   "source": [
    "def r2score(y_true, y_pred):\n",
    "    SS_res = K.sum(K.square(y_true - y_pred))\n",
    "    SS_tot = K.sum(K.square(y_true - K.mean(y_true)))\n",
    "    return 1 - SS_res / (SS_tot + K.epsilon())"
   ]
  },
  {
   "cell_type": "code",
   "execution_count": 163,
   "id": "cd69da70",
   "metadata": {},
   "outputs": [],
   "source": [
    "model = keras.Sequential()\n",
    "model.add(keras.layers.Dense(512, activation=tf.keras.layers.LeakyReLU(alpha=0.01), input_shape=[X_train.shape[1]], kernel_regularizer=keras.regularizers.L1L2(0.01)))\n",
    "model.add(keras.layers.Dense(256, activation=tf.keras.layers.LeakyReLU(alpha=0.01), kernel_regularizer=keras.regularizers.L1L2(0.01)))\n",
    "model.add(keras.layers.Dense(128, activation=tf.keras.layers.LeakyReLU(alpha=0.01), kernel_regularizer=keras.regularizers.L1L2(0.01)))\n",
    "model.add(keras.layers.Dense(64, activation=tf.keras.layers.LeakyReLU(alpha=0.01), kernel_regularizer=keras.regularizers.L1L2(0.01)))\n",
    "model.add(keras.layers.Dense(32, activation=tf.keras.layers.LeakyReLU(alpha=0.01), kernel_regularizer=keras.regularizers.L1L2(0.01)))\n",
    "model.add(keras.layers.Dense(32, activation=tf.keras.layers.LeakyReLU(alpha=0.01), kernel_regularizer=keras.regularizers.L1L2(0.01)))\n",
    "model.add(keras.layers.Dense(16, activation=tf.keras.layers.LeakyReLU(alpha=0.01), kernel_regularizer=keras.regularizers.L1L2(0.01)))\n",
    "model.add(keras.layers.Dense(1, activation=\"linear\"))\n",
    "model.compile(loss=keras.losses.mean_squared_error, optimizer=keras.optimizers.legacy.Adam(), metrics=[keras.metrics.mean_absolute_error, r2score])"
   ]
  },
  {
   "cell_type": "markdown",
   "id": "2ff21ae0",
   "metadata": {},
   "source": [
    "El Dropout hace que se obtengan val r2 mas altos"
   ]
  },
  {
   "cell_type": "code",
   "execution_count": 164,
   "id": "5e845750",
   "metadata": {},
   "outputs": [
    {
     "name": "stdout",
     "output_type": "stream",
     "text": [
      "Model: \"sequential_11\"\n",
      "_________________________________________________________________\n",
      " Layer (type)                Output Shape              Param #   \n",
      "=================================================================\n",
      " dense_67 (Dense)            (None, 512)               5120      \n",
      "                                                                 \n",
      " dense_68 (Dense)            (None, 256)               131328    \n",
      "                                                                 \n",
      " dense_69 (Dense)            (None, 128)               32896     \n",
      "                                                                 \n",
      " dense_70 (Dense)            (None, 64)                8256      \n",
      "                                                                 \n",
      " dense_71 (Dense)            (None, 32)                2080      \n",
      "                                                                 \n",
      " dense_72 (Dense)            (None, 32)                1056      \n",
      "                                                                 \n",
      " dense_73 (Dense)            (None, 16)                528       \n",
      "                                                                 \n",
      " dense_74 (Dense)            (None, 1)                 17        \n",
      "                                                                 \n",
      "=================================================================\n",
      "Total params: 181,281\n",
      "Trainable params: 181,281\n",
      "Non-trainable params: 0\n",
      "_________________________________________________________________\n"
     ]
    }
   ],
   "source": [
    "# Resumen del modelo\n",
    "model.summary()"
   ]
  },
  {
   "cell_type": "markdown",
   "id": "dcf646a4",
   "metadata": {},
   "source": [
    "## Paso 5. Entrenar la Red Neuronal 🧠💪"
   ]
  },
  {
   "cell_type": "code",
   "execution_count": 165,
   "id": "3dfb593d",
   "metadata": {},
   "outputs": [
    {
     "name": "stdout",
     "output_type": "stream",
     "text": [
      "Epoch 1/100\n",
      "2099/2099 [==============================] - 4s 2ms/step - loss: 19.2982 - mean_absolute_error: 2.6086 - r2score: 0.3626 - val_loss: 11.0775 - val_mean_absolute_error: 2.4174 - val_r2score: 0.4580\n",
      "Epoch 2/100\n",
      "2099/2099 [==============================] - 3s 2ms/step - loss: 10.8025 - mean_absolute_error: 2.4267 - r2score: 0.4578 - val_loss: 11.0938 - val_mean_absolute_error: 2.3407 - val_r2score: 0.4079\n",
      "Epoch 3/100\n",
      "2099/2099 [==============================] - 3s 2ms/step - loss: 10.1805 - mean_absolute_error: 2.4050 - r2score: 0.4669 - val_loss: 9.7920 - val_mean_absolute_error: 2.4217 - val_r2score: 0.4684\n",
      "Epoch 4/100\n",
      "2099/2099 [==============================] - 3s 2ms/step - loss: 9.8565 - mean_absolute_error: 2.3948 - r2score: 0.4731 - val_loss: 9.6001 - val_mean_absolute_error: 2.3188 - val_r2score: 0.4709\n",
      "Epoch 5/100\n",
      "2099/2099 [==============================] - 3s 2ms/step - loss: 9.6989 - mean_absolute_error: 2.3931 - r2score: 0.4773 - val_loss: 9.3364 - val_mean_absolute_error: 2.3615 - val_r2score: 0.4805\n",
      "Epoch 6/100\n",
      "2099/2099 [==============================] - 3s 2ms/step - loss: 9.5530 - mean_absolute_error: 2.3884 - r2score: 0.4763 - val_loss: 9.5478 - val_mean_absolute_error: 2.5018 - val_r2score: 0.4604\n",
      "Epoch 7/100\n",
      "2099/2099 [==============================] - 3s 2ms/step - loss: 9.4805 - mean_absolute_error: 2.3858 - r2score: 0.4802 - val_loss: 9.5803 - val_mean_absolute_error: 2.2933 - val_r2score: 0.4588\n",
      "Epoch 8/100\n",
      "2099/2099 [==============================] - 3s 2ms/step - loss: 9.3882 - mean_absolute_error: 2.3829 - r2score: 0.4834 - val_loss: 9.2606 - val_mean_absolute_error: 2.3446 - val_r2score: 0.4755\n",
      "Epoch 9/100\n",
      "2099/2099 [==============================] - 3s 2ms/step - loss: 9.3604 - mean_absolute_error: 2.3851 - r2score: 0.4780 - val_loss: 9.3478 - val_mean_absolute_error: 2.4632 - val_r2score: 0.4670\n",
      "Epoch 10/100\n",
      "2099/2099 [==============================] - 4s 2ms/step - loss: 9.3060 - mean_absolute_error: 2.3818 - r2score: 0.4839 - val_loss: 9.2017 - val_mean_absolute_error: 2.3382 - val_r2score: 0.4753\n",
      "Epoch 11/100\n",
      "2099/2099 [==============================] - 4s 2ms/step - loss: 9.2616 - mean_absolute_error: 2.3802 - r2score: 0.4839 - val_loss: 9.1528 - val_mean_absolute_error: 2.3720 - val_r2score: 0.4786\n",
      "Epoch 12/100\n",
      "2099/2099 [==============================] - 3s 2ms/step - loss: 9.2154 - mean_absolute_error: 2.3742 - r2score: 0.4871 - val_loss: 9.0163 - val_mean_absolute_error: 2.3920 - val_r2score: 0.4844\n",
      "Epoch 13/100\n",
      "2099/2099 [==============================] - 3s 2ms/step - loss: 9.1895 - mean_absolute_error: 2.3744 - r2score: 0.4881 - val_loss: 9.0858 - val_mean_absolute_error: 2.4242 - val_r2score: 0.4783\n",
      "Epoch 14/100\n",
      "2099/2099 [==============================] - 4s 2ms/step - loss: 9.1885 - mean_absolute_error: 2.3753 - r2score: 0.4865 - val_loss: 8.9901 - val_mean_absolute_error: 2.3838 - val_r2score: 0.4841\n",
      "Epoch 15/100\n",
      "2099/2099 [==============================] - 4s 2ms/step - loss: 9.1513 - mean_absolute_error: 2.3719 - r2score: 0.4897 - val_loss: 9.0020 - val_mean_absolute_error: 2.3231 - val_r2score: 0.4832\n",
      "Epoch 16/100\n",
      "2099/2099 [==============================] - 4s 2ms/step - loss: 9.1435 - mean_absolute_error: 2.3733 - r2score: 0.4875 - val_loss: 9.0608 - val_mean_absolute_error: 2.4359 - val_r2score: 0.4778\n",
      "Epoch 17/100\n",
      "2099/2099 [==============================] - 3s 2ms/step - loss: 9.1129 - mean_absolute_error: 2.3723 - r2score: 0.4900 - val_loss: 9.2297 - val_mean_absolute_error: 2.2853 - val_r2score: 0.4689\n",
      "Epoch 18/100\n",
      "2099/2099 [==============================] - 3s 2ms/step - loss: 9.1245 - mean_absolute_error: 2.3768 - r2score: 0.4870 - val_loss: 8.9232 - val_mean_absolute_error: 2.3569 - val_r2score: 0.4856\n",
      "Epoch 19/100\n",
      "2099/2099 [==============================] - 3s 2ms/step - loss: 9.0918 - mean_absolute_error: 2.3739 - r2score: 0.4863 - val_loss: 8.9035 - val_mean_absolute_error: 2.3560 - val_r2score: 0.4858\n",
      "Epoch 20/100\n",
      "2099/2099 [==============================] - 3s 2ms/step - loss: 9.0751 - mean_absolute_error: 2.3720 - r2score: 0.4876 - val_loss: 8.8575 - val_mean_absolute_error: 2.3425 - val_r2score: 0.4884\n",
      "Epoch 21/100\n",
      "2099/2099 [==============================] - 3s 2ms/step - loss: 9.0695 - mean_absolute_error: 2.3726 - r2score: 0.4860 - val_loss: 8.9923 - val_mean_absolute_error: 2.4488 - val_r2score: 0.4792\n",
      "Epoch 22/100\n",
      "2099/2099 [==============================] - 3s 2ms/step - loss: 9.0421 - mean_absolute_error: 2.3692 - r2score: 0.4894 - val_loss: 9.0661 - val_mean_absolute_error: 2.2927 - val_r2score: 0.4759\n",
      "Epoch 23/100\n",
      "2099/2099 [==============================] - 3s 2ms/step - loss: 9.0323 - mean_absolute_error: 2.3703 - r2score: 0.4911 - val_loss: 8.8780 - val_mean_absolute_error: 2.3752 - val_r2score: 0.4841\n",
      "Epoch 24/100\n",
      "2099/2099 [==============================] - 3s 2ms/step - loss: 9.0247 - mean_absolute_error: 2.3683 - r2score: 0.4915 - val_loss: 9.0986 - val_mean_absolute_error: 2.2708 - val_r2score: 0.4730\n",
      "Epoch 25/100\n",
      "2099/2099 [==============================] - 3s 2ms/step - loss: 9.0032 - mean_absolute_error: 2.3682 - r2score: 0.4889 - val_loss: 8.8798 - val_mean_absolute_error: 2.4007 - val_r2score: 0.4820\n",
      "Epoch 26/100\n",
      "2099/2099 [==============================] - 3s 2ms/step - loss: 8.9986 - mean_absolute_error: 2.3680 - r2score: 0.4931 - val_loss: 9.0077 - val_mean_absolute_error: 2.4634 - val_r2score: 0.4732\n",
      "Epoch 27/100\n",
      "2099/2099 [==============================] - 3s 2ms/step - loss: 9.0084 - mean_absolute_error: 2.3702 - r2score: 0.4914 - val_loss: 8.8047 - val_mean_absolute_error: 2.3523 - val_r2score: 0.4878\n",
      "Epoch 28/100\n",
      "2099/2099 [==============================] - 3s 2ms/step - loss: 8.9757 - mean_absolute_error: 2.3685 - r2score: 0.4906 - val_loss: 9.1041 - val_mean_absolute_error: 2.4855 - val_r2score: 0.4661\n",
      "Epoch 29/100\n",
      "2099/2099 [==============================] - 3s 2ms/step - loss: 8.9807 - mean_absolute_error: 2.3695 - r2score: 0.4880 - val_loss: 9.4377 - val_mean_absolute_error: 2.5565 - val_r2score: 0.4435\n",
      "Epoch 30/100\n",
      "2099/2099 [==============================] - 3s 2ms/step - loss: 8.9556 - mean_absolute_error: 2.3676 - r2score: 0.4912 - val_loss: 8.8677 - val_mean_absolute_error: 2.3068 - val_r2score: 0.4834\n",
      "Epoch 31/100\n",
      "2099/2099 [==============================] - 3s 2ms/step - loss: 8.9465 - mean_absolute_error: 2.3670 - r2score: 0.4893 - val_loss: 8.7613 - val_mean_absolute_error: 2.3706 - val_r2score: 0.4880\n",
      "Epoch 32/100\n",
      "2099/2099 [==============================] - 3s 2ms/step - loss: 8.9279 - mean_absolute_error: 2.3675 - r2score: 0.4911 - val_loss: 8.9410 - val_mean_absolute_error: 2.3199 - val_r2score: 0.4772\n",
      "Epoch 33/100\n",
      "2099/2099 [==============================] - 3s 2ms/step - loss: 8.9305 - mean_absolute_error: 2.3663 - r2score: 0.4897 - val_loss: 8.7546 - val_mean_absolute_error: 2.3311 - val_r2score: 0.4891\n",
      "Epoch 34/100\n",
      "2099/2099 [==============================] - 3s 2ms/step - loss: 8.9384 - mean_absolute_error: 2.3691 - r2score: 0.4931 - val_loss: 8.9639 - val_mean_absolute_error: 2.3042 - val_r2score: 0.4756\n",
      "Epoch 35/100\n",
      "2099/2099 [==============================] - 3s 2ms/step - loss: 8.9172 - mean_absolute_error: 2.3684 - r2score: 0.4903 - val_loss: 8.7500 - val_mean_absolute_error: 2.3354 - val_r2score: 0.4904\n",
      "Epoch 36/100\n",
      "2099/2099 [==============================] - 3s 2ms/step - loss: 8.8880 - mean_absolute_error: 2.3647 - r2score: 0.4928 - val_loss: 8.7031 - val_mean_absolute_error: 2.3594 - val_r2score: 0.4898\n",
      "Epoch 37/100\n",
      "2099/2099 [==============================] - 3s 2ms/step - loss: 8.8472 - mean_absolute_error: 2.3595 - r2score: 0.4954 - val_loss: 8.9449 - val_mean_absolute_error: 2.2850 - val_r2score: 0.4773\n",
      "Epoch 38/100\n",
      "2099/2099 [==============================] - 4s 2ms/step - loss: 8.8105 - mean_absolute_error: 2.3550 - r2score: 0.4968 - val_loss: 8.6581 - val_mean_absolute_error: 2.3404 - val_r2score: 0.4938\n",
      "Epoch 39/100\n",
      "2099/2099 [==============================] - 3s 2ms/step - loss: 8.7839 - mean_absolute_error: 2.3524 - r2score: 0.4993 - val_loss: 8.6208 - val_mean_absolute_error: 2.3485 - val_r2score: 0.4952\n",
      "Epoch 40/100\n"
     ]
    },
    {
     "name": "stdout",
     "output_type": "stream",
     "text": [
      "2099/2099 [==============================] - 3s 2ms/step - loss: 8.7643 - mean_absolute_error: 2.3472 - r2score: 0.5003 - val_loss: 8.8807 - val_mean_absolute_error: 2.4713 - val_r2score: 0.4758\n",
      "Epoch 41/100\n",
      "2099/2099 [==============================] - 3s 2ms/step - loss: 8.7368 - mean_absolute_error: 2.3448 - r2score: 0.5010 - val_loss: 8.6486 - val_mean_absolute_error: 2.3051 - val_r2score: 0.4951\n",
      "Epoch 42/100\n",
      "2099/2099 [==============================] - 3s 2ms/step - loss: 8.7473 - mean_absolute_error: 2.3456 - r2score: 0.5008 - val_loss: 8.6240 - val_mean_absolute_error: 2.3550 - val_r2score: 0.4944\n",
      "Epoch 43/100\n",
      "2099/2099 [==============================] - 3s 2ms/step - loss: 8.7287 - mean_absolute_error: 2.3462 - r2score: 0.5013 - val_loss: 8.6223 - val_mean_absolute_error: 2.3120 - val_r2score: 0.4945\n",
      "Epoch 44/100\n",
      "2099/2099 [==============================] - 3s 2ms/step - loss: 8.7184 - mean_absolute_error: 2.3431 - r2score: 0.5023 - val_loss: 8.6943 - val_mean_absolute_error: 2.3078 - val_r2score: 0.4903\n",
      "Epoch 45/100\n",
      "2099/2099 [==============================] - 3s 2ms/step - loss: 8.7057 - mean_absolute_error: 2.3432 - r2score: 0.5016 - val_loss: 8.5699 - val_mean_absolute_error: 2.3513 - val_r2score: 0.4961\n",
      "Epoch 46/100\n",
      "2099/2099 [==============================] - 4s 2ms/step - loss: 8.7011 - mean_absolute_error: 2.3440 - r2score: 0.5061 - val_loss: 8.5985 - val_mean_absolute_error: 2.2825 - val_r2score: 0.4962\n",
      "Epoch 47/100\n",
      "2099/2099 [==============================] - 4s 2ms/step - loss: 8.6809 - mean_absolute_error: 2.3402 - r2score: 0.5023 - val_loss: 8.5437 - val_mean_absolute_error: 2.3348 - val_r2score: 0.4977\n",
      "Epoch 48/100\n",
      "2099/2099 [==============================] - 4s 2ms/step - loss: 8.6947 - mean_absolute_error: 2.3415 - r2score: 0.5000 - val_loss: 8.5520 - val_mean_absolute_error: 2.3531 - val_r2score: 0.4968\n",
      "Epoch 49/100\n",
      "2099/2099 [==============================] - 4s 2ms/step - loss: 8.6738 - mean_absolute_error: 2.3394 - r2score: 0.5013 - val_loss: 8.5759 - val_mean_absolute_error: 2.3673 - val_r2score: 0.4945\n",
      "Epoch 50/100\n",
      "2099/2099 [==============================] - 4s 2ms/step - loss: 8.6755 - mean_absolute_error: 2.3390 - r2score: 0.5022 - val_loss: 8.5138 - val_mean_absolute_error: 2.3030 - val_r2score: 0.4999\n",
      "Epoch 51/100\n",
      "2099/2099 [==============================] - 4s 2ms/step - loss: 8.6566 - mean_absolute_error: 2.3381 - r2score: 0.5045 - val_loss: 8.5463 - val_mean_absolute_error: 2.3039 - val_r2score: 0.4977\n",
      "Epoch 52/100\n",
      "2099/2099 [==============================] - 4s 2ms/step - loss: 8.6495 - mean_absolute_error: 2.3376 - r2score: 0.5033 - val_loss: 8.5627 - val_mean_absolute_error: 2.2733 - val_r2score: 0.4974\n",
      "Epoch 53/100\n",
      "2099/2099 [==============================] - 3s 2ms/step - loss: 8.6303 - mean_absolute_error: 2.3367 - r2score: 0.5038 - val_loss: 8.5355 - val_mean_absolute_error: 2.3344 - val_r2score: 0.4973\n",
      "Epoch 54/100\n",
      "2099/2099 [==============================] - 4s 2ms/step - loss: 8.6277 - mean_absolute_error: 2.3355 - r2score: 0.5056 - val_loss: 8.6257 - val_mean_absolute_error: 2.3988 - val_r2score: 0.4917\n",
      "Epoch 55/100\n",
      "2099/2099 [==============================] - 3s 2ms/step - loss: 8.6336 - mean_absolute_error: 2.3372 - r2score: 0.5037 - val_loss: 8.5564 - val_mean_absolute_error: 2.2936 - val_r2score: 0.4960\n",
      "Epoch 56/100\n",
      "2099/2099 [==============================] - 3s 2ms/step - loss: 8.6384 - mean_absolute_error: 2.3377 - r2score: 0.5034 - val_loss: 8.4820 - val_mean_absolute_error: 2.3390 - val_r2score: 0.4999\n",
      "Epoch 57/100\n",
      "2099/2099 [==============================] - 3s 2ms/step - loss: 8.6320 - mean_absolute_error: 2.3368 - r2score: 0.5049 - val_loss: 8.5245 - val_mean_absolute_error: 2.3277 - val_r2score: 0.4979\n",
      "Epoch 58/100\n",
      "2099/2099 [==============================] - 3s 2ms/step - loss: 8.6268 - mean_absolute_error: 2.3385 - r2score: 0.5036 - val_loss: 8.5245 - val_mean_absolute_error: 2.2916 - val_r2score: 0.4982\n",
      "Epoch 59/100\n",
      "2099/2099 [==============================] - 3s 2ms/step - loss: 8.6120 - mean_absolute_error: 2.3365 - r2score: 0.5056 - val_loss: 8.6296 - val_mean_absolute_error: 2.2750 - val_r2score: 0.4911\n",
      "Epoch 60/100\n",
      "2099/2099 [==============================] - 3s 2ms/step - loss: 8.6163 - mean_absolute_error: 2.3368 - r2score: 0.5044 - val_loss: 8.5844 - val_mean_absolute_error: 2.3940 - val_r2score: 0.4917\n",
      "Epoch 61/100\n",
      "2099/2099 [==============================] - 3s 2ms/step - loss: 8.6079 - mean_absolute_error: 2.3354 - r2score: 0.5042 - val_loss: 8.5090 - val_mean_absolute_error: 2.3479 - val_r2score: 0.4976\n",
      "Epoch 62/100\n",
      "2099/2099 [==============================] - 3s 2ms/step - loss: 8.6101 - mean_absolute_error: 2.3362 - r2score: 0.5059 - val_loss: 8.5737 - val_mean_absolute_error: 2.2931 - val_r2score: 0.4935\n",
      "Epoch 63/100\n",
      "2099/2099 [==============================] - 3s 2ms/step - loss: 8.6027 - mean_absolute_error: 2.3364 - r2score: 0.5058 - val_loss: 8.4328 - val_mean_absolute_error: 2.3090 - val_r2score: 0.5025\n",
      "Epoch 64/100\n",
      "2099/2099 [==============================] - 3s 2ms/step - loss: 8.5953 - mean_absolute_error: 2.3365 - r2score: 0.5054 - val_loss: 8.5425 - val_mean_absolute_error: 2.3830 - val_r2score: 0.4941\n",
      "Epoch 65/100\n",
      "2099/2099 [==============================] - 3s 2ms/step - loss: 8.6016 - mean_absolute_error: 2.3368 - r2score: 0.5044 - val_loss: 8.5010 - val_mean_absolute_error: 2.3689 - val_r2score: 0.4963\n",
      "Epoch 66/100\n",
      "2099/2099 [==============================] - 3s 2ms/step - loss: 8.5967 - mean_absolute_error: 2.3366 - r2score: 0.5046 - val_loss: 8.5058 - val_mean_absolute_error: 2.3185 - val_r2score: 0.4979\n",
      "Epoch 67/100\n",
      "2099/2099 [==============================] - 3s 2ms/step - loss: 8.5909 - mean_absolute_error: 2.3356 - r2score: 0.5067 - val_loss: 8.4944 - val_mean_absolute_error: 2.3353 - val_r2score: 0.4982\n",
      "Epoch 68/100\n",
      "2099/2099 [==============================] - 3s 2ms/step - loss: 8.5875 - mean_absolute_error: 2.3347 - r2score: 0.5044 - val_loss: 8.4655 - val_mean_absolute_error: 2.3272 - val_r2score: 0.5001\n",
      "Epoch 69/100\n",
      "2099/2099 [==============================] - 3s 2ms/step - loss: 8.5898 - mean_absolute_error: 2.3355 - r2score: 0.5047 - val_loss: 8.4287 - val_mean_absolute_error: 2.3110 - val_r2score: 0.5012\n",
      "Epoch 70/100\n",
      "2099/2099 [==============================] - 3s 2ms/step - loss: 8.5862 - mean_absolute_error: 2.3367 - r2score: 0.5063 - val_loss: 8.5334 - val_mean_absolute_error: 2.3660 - val_r2score: 0.4940\n",
      "Epoch 71/100\n",
      "2099/2099 [==============================] - 3s 2ms/step - loss: 8.5736 - mean_absolute_error: 2.3369 - r2score: 0.5044 - val_loss: 8.5283 - val_mean_absolute_error: 2.4058 - val_r2score: 0.4931\n",
      "Epoch 72/100\n",
      "2099/2099 [==============================] - 3s 2ms/step - loss: 8.5659 - mean_absolute_error: 2.3345 - r2score: 0.5071 - val_loss: 8.4707 - val_mean_absolute_error: 2.3536 - val_r2score: 0.4978\n",
      "Epoch 73/100\n",
      "2099/2099 [==============================] - 3s 2ms/step - loss: 8.5673 - mean_absolute_error: 2.3341 - r2score: 0.5065 - val_loss: 8.4365 - val_mean_absolute_error: 2.3723 - val_r2score: 0.4997\n",
      "Epoch 74/100\n",
      "2099/2099 [==============================] - 3s 2ms/step - loss: 8.5637 - mean_absolute_error: 2.3357 - r2score: 0.5049 - val_loss: 8.4876 - val_mean_absolute_error: 2.2600 - val_r2score: 0.4985\n",
      "Epoch 75/100\n",
      "2099/2099 [==============================] - 3s 2ms/step - loss: 8.5665 - mean_absolute_error: 2.3337 - r2score: 0.5063 - val_loss: 8.5602 - val_mean_absolute_error: 2.3704 - val_r2score: 0.4946\n",
      "Epoch 76/100\n",
      "2099/2099 [==============================] - 4s 2ms/step - loss: 8.5592 - mean_absolute_error: 2.3337 - r2score: 0.5060 - val_loss: 8.5001 - val_mean_absolute_error: 2.3679 - val_r2score: 0.4955\n",
      "Epoch 77/100\n",
      "2099/2099 [==============================] - 4s 2ms/step - loss: 8.5690 - mean_absolute_error: 2.3367 - r2score: 0.5061 - val_loss: 8.4662 - val_mean_absolute_error: 2.3426 - val_r2score: 0.4987\n",
      "Epoch 78/100\n",
      "2099/2099 [==============================] - 4s 2ms/step - loss: 8.5613 - mean_absolute_error: 2.3335 - r2score: 0.5045 - val_loss: 8.5852 - val_mean_absolute_error: 2.4109 - val_r2score: 0.4891\n",
      "Epoch 79/100\n"
     ]
    },
    {
     "name": "stdout",
     "output_type": "stream",
     "text": [
      "2099/2099 [==============================] - 4s 2ms/step - loss: 8.5678 - mean_absolute_error: 2.3348 - r2score: 0.5055 - val_loss: 8.4505 - val_mean_absolute_error: 2.3271 - val_r2score: 0.4997\n",
      "Epoch 80/100\n",
      "2099/2099 [==============================] - 4s 2ms/step - loss: 8.5519 - mean_absolute_error: 2.3337 - r2score: 0.5056 - val_loss: 8.4789 - val_mean_absolute_error: 2.3079 - val_r2score: 0.4975\n",
      "Epoch 81/100\n",
      "2099/2099 [==============================] - 3s 2ms/step - loss: 8.5638 - mean_absolute_error: 2.3354 - r2score: 0.5052 - val_loss: 8.5844 - val_mean_absolute_error: 2.2753 - val_r2score: 0.4922\n",
      "Epoch 82/100\n",
      "2099/2099 [==============================] - 3s 2ms/step - loss: 8.5631 - mean_absolute_error: 2.3345 - r2score: 0.5071 - val_loss: 8.4812 - val_mean_absolute_error: 2.2801 - val_r2score: 0.4984\n",
      "Epoch 83/100\n",
      "2099/2099 [==============================] - 3s 2ms/step - loss: 8.5597 - mean_absolute_error: 2.3355 - r2score: 0.5048 - val_loss: 8.4321 - val_mean_absolute_error: 2.3156 - val_r2score: 0.5009\n",
      "Epoch 84/100\n",
      "2099/2099 [==============================] - 3s 2ms/step - loss: 8.5611 - mean_absolute_error: 2.3354 - r2score: 0.5060 - val_loss: 8.3877 - val_mean_absolute_error: 2.3078 - val_r2score: 0.5032\n",
      "Epoch 85/100\n",
      "2099/2099 [==============================] - 3s 2ms/step - loss: 8.5540 - mean_absolute_error: 2.3330 - r2score: 0.5059 - val_loss: 8.4139 - val_mean_absolute_error: 2.3037 - val_r2score: 0.5018\n",
      "Epoch 86/100\n",
      "2099/2099 [==============================] - 3s 2ms/step - loss: 8.5579 - mean_absolute_error: 2.3336 - r2score: 0.5050 - val_loss: 8.8489 - val_mean_absolute_error: 2.4841 - val_r2score: 0.4711\n",
      "Epoch 87/100\n",
      "2099/2099 [==============================] - 3s 2ms/step - loss: 8.5486 - mean_absolute_error: 2.3356 - r2score: 0.5058 - val_loss: 8.5054 - val_mean_absolute_error: 2.2623 - val_r2score: 0.4968\n",
      "Epoch 88/100\n",
      "2099/2099 [==============================] - 4s 2ms/step - loss: 8.5416 - mean_absolute_error: 2.3328 - r2score: 0.5086 - val_loss: 8.4349 - val_mean_absolute_error: 2.2906 - val_r2score: 0.5002\n",
      "Epoch 89/100\n",
      "2099/2099 [==============================] - 3s 2ms/step - loss: 8.5526 - mean_absolute_error: 2.3338 - r2score: 0.5053 - val_loss: 8.4037 - val_mean_absolute_error: 2.3331 - val_r2score: 0.5015\n",
      "Epoch 90/100\n",
      "2099/2099 [==============================] - 3s 2ms/step - loss: 8.5405 - mean_absolute_error: 2.3324 - r2score: 0.5042 - val_loss: 8.3886 - val_mean_absolute_error: 2.3411 - val_r2score: 0.5022\n",
      "Epoch 91/100\n",
      "2099/2099 [==============================] - 3s 2ms/step - loss: 8.5425 - mean_absolute_error: 2.3340 - r2score: 0.5081 - val_loss: 8.4357 - val_mean_absolute_error: 2.3226 - val_r2score: 0.5000\n",
      "Epoch 92/100\n",
      "2099/2099 [==============================] - 3s 2ms/step - loss: 8.5384 - mean_absolute_error: 2.3345 - r2score: 0.5078 - val_loss: 8.4568 - val_mean_absolute_error: 2.3337 - val_r2score: 0.5003\n",
      "Epoch 93/100\n",
      "2099/2099 [==============================] - 3s 2ms/step - loss: 8.5423 - mean_absolute_error: 2.3324 - r2score: 0.5078 - val_loss: 8.5901 - val_mean_absolute_error: 2.2693 - val_r2score: 0.4913\n",
      "Epoch 94/100\n",
      "2099/2099 [==============================] - 3s 2ms/step - loss: 8.5467 - mean_absolute_error: 2.3357 - r2score: 0.5057 - val_loss: 8.4248 - val_mean_absolute_error: 2.3149 - val_r2score: 0.5010\n",
      "Epoch 95/100\n",
      "2099/2099 [==============================] - 4s 2ms/step - loss: 8.5426 - mean_absolute_error: 2.3324 - r2score: 0.5049 - val_loss: 8.4408 - val_mean_absolute_error: 2.3209 - val_r2score: 0.5001\n",
      "Epoch 96/100\n",
      "2099/2099 [==============================] - 3s 2ms/step - loss: 8.5316 - mean_absolute_error: 2.3329 - r2score: 0.5073 - val_loss: 8.4312 - val_mean_absolute_error: 2.2948 - val_r2score: 0.5019\n",
      "Epoch 97/100\n",
      "2099/2099 [==============================] - 3s 2ms/step - loss: 8.5255 - mean_absolute_error: 2.3314 - r2score: 0.5052 - val_loss: 8.4180 - val_mean_absolute_error: 2.3049 - val_r2score: 0.5018\n",
      "Epoch 98/100\n",
      "2099/2099 [==============================] - 3s 2ms/step - loss: 8.5294 - mean_absolute_error: 2.3343 - r2score: 0.5067 - val_loss: 8.4209 - val_mean_absolute_error: 2.3162 - val_r2score: 0.5003\n",
      "Epoch 99/100\n",
      "2099/2099 [==============================] - 3s 2ms/step - loss: 8.5253 - mean_absolute_error: 2.3316 - r2score: 0.5095 - val_loss: 8.4195 - val_mean_absolute_error: 2.3150 - val_r2score: 0.5012\n",
      "Epoch 100/100\n",
      "2099/2099 [==============================] - 3s 2ms/step - loss: 8.5211 - mean_absolute_error: 2.3311 - r2score: 0.5080 - val_loss: 8.4466 - val_mean_absolute_error: 2.3129 - val_r2score: 0.4988\n"
     ]
    }
   ],
   "source": [
    "history = model.fit(X_train, Y_train, batch_size=32, epochs=100, verbose=1, validation_data=(X_val, Y_val))"
   ]
  },
  {
   "cell_type": "markdown",
   "id": "14744ad5",
   "metadata": {},
   "source": [
    "Graficamos ahora las curvas de aprendizaje para un mejor diagnóstico del aprendizaje"
   ]
  },
  {
   "cell_type": "code",
   "execution_count": 166,
   "id": "058bcfdf",
   "metadata": {},
   "outputs": [
    {
     "data": {
      "image/png": "[encoded data removed]",
      "text/plain": [
       "<Figure size 1500x600 with 3 Axes>"
      ]
     },
     "metadata": {},
     "output_type": "display_data"
    }
   ],
   "source": [
    "def plot_history(history):\n",
    "    hist = pd.DataFrame(history.history)\n",
    "    hist['epoch'] = history.epoch\n",
    "    plt.figure(figsize=(15, 6))\n",
    "    plt.subplot(131)\n",
    "    plt.title('Loss')\n",
    "    plt.xlabel('Epoch')\n",
    "    plt.ylabel('Loss')\n",
    "    plt.plot(hist['epoch'], hist['loss'], label=\"Train\")\n",
    "    plt.plot(hist['epoch'], hist['val_loss'], label = 'Val')\n",
    "    #plt.yscale('log')\n",
    "    plt.legend()\n",
    "\n",
    "    plt.subplot(132)\n",
    "    plt.title('r2score')\n",
    "    plt.xlabel('Epoch')\n",
    "    plt.ylabel('r2score')\n",
    "    plt.plot(hist['epoch'], hist['r2score'], label=\"Train\")\n",
    "    plt.plot(hist['epoch'], hist['val_r2score'], label = 'Val')\n",
    "    plt.ylim([0,1])\n",
    "    plt.legend()\n",
    "    \n",
    "    \n",
    "    \n",
    "    plt.subplot(133)\n",
    "    plt.title('MAE')\n",
    "    plt.xlabel('Epoch')\n",
    "    plt.ylabel('MAE')\n",
    "    plt.plot(hist['epoch'], hist['mean_absolute_error'], label=\"Train\")\n",
    "    plt.plot(hist['epoch'], hist['val_mean_absolute_error'], label = 'Val')\n",
    "    plt.legend()\n",
    "    \n",
    "    plt.tight_layout()\n",
    "    plt.show()\n",
    "     \n",
    "plot_history(history)"
   ]
  },
  {
   "cell_type": "markdown",
   "id": "6d2ced8e",
   "metadata": {},
   "source": [
    "## Paso 6. Evaluar el modelo con el test set"
   ]
  },
  {
   "cell_type": "markdown",
   "id": "c05ff3f8",
   "metadata": {},
   "source": [
    "Metricas de desempeño; r2 score, error absoluto medio, raiz cuadrada del error cuadrado medio"
   ]
  },
  {
   "cell_type": "code",
   "execution_count": 167,
   "id": "4175f88d",
   "metadata": {},
   "outputs": [
    {
     "data": {
      "text/html": [
       "<div>\n",
       "<style scoped>\n",
       "    .dataframe tbody tr th:only-of-type {\n",
       "        vertical-align: middle;\n",
       "    }\n",
       "\n",
       "    .dataframe tbody tr th {\n",
       "        vertical-align: top;\n",
       "    }\n",
       "\n",
       "    .dataframe thead th {\n",
       "        text-align: right;\n",
       "    }\n",
       "</style>\n",
       "<table border=\"1\" class=\"dataframe\">\n",
       "  <thead>\n",
       "    <tr style=\"text-align: right;\">\n",
       "      <th></th>\n",
       "      <th>r2 score</th>\n",
       "      <th>MAE</th>\n",
       "      <th>RMSE</th>\n",
       "    </tr>\n",
       "  </thead>\n",
       "  <tbody>\n",
       "    <tr>\n",
       "      <th>0</th>\n",
       "      <td>0.534585</td>\n",
       "      <td>2.34702</td>\n",
       "      <td>2.848089</td>\n",
       "    </tr>\n",
       "  </tbody>\n",
       "</table>\n",
       "</div>"
      ],
      "text/plain": [
       "   r2 score      MAE      RMSE\n",
       "0  0.534585  2.34702  2.848089"
      ]
     },
     "execution_count": 167,
     "metadata": {},
     "output_type": "execute_result"
    }
   ],
   "source": [
    "Y_pred = model.predict(X_test, verbose=0)\n",
    "r2 = r2_score(Y_test, Y_pred)\n",
    "mae = mean_absolute_error(Y_test, Y_pred)\n",
    "rmse = np.sqrt(mean_squared_error(Y_test, Y_pred))\n",
    "\n",
    "metricas = pd.DataFrame({\"r2 score\": [r2], \"MAE\": [mae], \"RMSE\": [rmse]})\n",
    "metricas"
   ]
  }
 ],
 "metadata": {
  "kernelspec": {
   "display_name": "Python 3 (ipykernel)",
   "language": "python",
   "name": "python3"
  },
  "language_info": {
   "codemirror_mode": {
    "name": "ipython",
    "version": 3
   },
   "file_extension": ".py",
   "mimetype": "text/x-python",
   "name": "python",
   "nbconvert_exporter": "python",
   "pygments_lexer": "ipython3",
   "version": "3.11.5"
  }
 },
 "nbformat": 4,
 "nbformat_minor": 5
}
