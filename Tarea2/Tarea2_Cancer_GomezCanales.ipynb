{
 "cells": [
  {
   "cell_type": "markdown",
   "id": "dd2a870b",
   "metadata": {},
   "source": [
    "# Predicción de Cancer con una Neurona"
   ]
  },
  {
   "cell_type": "markdown",
   "id": "7b70f0e8",
   "metadata": {},
   "source": [
    "## Paso 1. Importar paquetería necesaria 📦"
   ]
  },
  {
   "cell_type": "code",
   "execution_count": 213,
   "id": "5bab399d",
   "metadata": {},
   "outputs": [],
   "source": [
    "import numpy as np\n",
    "import matplotlib.pyplot as plt\n",
    "import pandas as pd"
   ]
  },
  {
   "cell_type": "markdown",
   "id": "930b51ba",
   "metadata": {},
   "source": [
    "## Paso 2. Cargar los datos 📊"
   ]
  },
  {
   "cell_type": "code",
   "execution_count": 214,
   "id": "d25f4cd4",
   "metadata": {},
   "outputs": [],
   "source": [
    "data = pd.read_csv(\"../Datasets/Cancer.csv\")"
   ]
  },
  {
   "cell_type": "markdown",
   "id": "b0578756",
   "metadata": {},
   "source": [
    "## Paso 3. Inspeccionar los datos 👀"
   ]
  },
  {
   "cell_type": "markdown",
   "id": "b502601e",
   "metadata": {},
   "source": [
    "Se muestran los primeros 5 registros en los datos para ver el formato de estos"
   ]
  },
  {
   "cell_type": "code",
   "execution_count": 215,
   "id": "956bb21d",
   "metadata": {},
   "outputs": [
    {
     "data": {
      "text/html": [
       "<div>\n",
       "<style scoped>\n",
       "    .dataframe tbody tr th:only-of-type {\n",
       "        vertical-align: middle;\n",
       "    }\n",
       "\n",
       "    .dataframe tbody tr th {\n",
       "        vertical-align: top;\n",
       "    }\n",
       "\n",
       "    .dataframe thead th {\n",
       "        text-align: right;\n",
       "    }\n",
       "</style>\n",
       "<table border=\"1\" class=\"dataframe\">\n",
       "  <thead>\n",
       "    <tr style=\"text-align: right;\">\n",
       "      <th></th>\n",
       "      <th>Clump</th>\n",
       "      <th>UnifSize</th>\n",
       "      <th>UnifShape</th>\n",
       "      <th>MargAdh</th>\n",
       "      <th>SingEpiSize</th>\n",
       "      <th>BareNuc</th>\n",
       "      <th>BlandChrom</th>\n",
       "      <th>NormNucl</th>\n",
       "      <th>Mit</th>\n",
       "      <th>Class</th>\n",
       "    </tr>\n",
       "  </thead>\n",
       "  <tbody>\n",
       "    <tr>\n",
       "      <th>0</th>\n",
       "      <td>5</td>\n",
       "      <td>1</td>\n",
       "      <td>1</td>\n",
       "      <td>1</td>\n",
       "      <td>2</td>\n",
       "      <td>1</td>\n",
       "      <td>3</td>\n",
       "      <td>1</td>\n",
       "      <td>1</td>\n",
       "      <td>1</td>\n",
       "    </tr>\n",
       "    <tr>\n",
       "      <th>1</th>\n",
       "      <td>5</td>\n",
       "      <td>4</td>\n",
       "      <td>4</td>\n",
       "      <td>5</td>\n",
       "      <td>7</td>\n",
       "      <td>10</td>\n",
       "      <td>3</td>\n",
       "      <td>2</td>\n",
       "      <td>1</td>\n",
       "      <td>1</td>\n",
       "    </tr>\n",
       "    <tr>\n",
       "      <th>2</th>\n",
       "      <td>3</td>\n",
       "      <td>1</td>\n",
       "      <td>1</td>\n",
       "      <td>1</td>\n",
       "      <td>2</td>\n",
       "      <td>2</td>\n",
       "      <td>3</td>\n",
       "      <td>1</td>\n",
       "      <td>1</td>\n",
       "      <td>1</td>\n",
       "    </tr>\n",
       "    <tr>\n",
       "      <th>3</th>\n",
       "      <td>6</td>\n",
       "      <td>8</td>\n",
       "      <td>8</td>\n",
       "      <td>1</td>\n",
       "      <td>3</td>\n",
       "      <td>4</td>\n",
       "      <td>3</td>\n",
       "      <td>7</td>\n",
       "      <td>1</td>\n",
       "      <td>1</td>\n",
       "    </tr>\n",
       "    <tr>\n",
       "      <th>4</th>\n",
       "      <td>4</td>\n",
       "      <td>1</td>\n",
       "      <td>1</td>\n",
       "      <td>3</td>\n",
       "      <td>2</td>\n",
       "      <td>1</td>\n",
       "      <td>3</td>\n",
       "      <td>1</td>\n",
       "      <td>1</td>\n",
       "      <td>1</td>\n",
       "    </tr>\n",
       "  </tbody>\n",
       "</table>\n",
       "</div>"
      ],
      "text/plain": [
       "   Clump  UnifSize  UnifShape  MargAdh  SingEpiSize  BareNuc  BlandChrom  \\\n",
       "0      5         1          1        1            2        1           3   \n",
       "1      5         4          4        5            7       10           3   \n",
       "2      3         1          1        1            2        2           3   \n",
       "3      6         8          8        1            3        4           3   \n",
       "4      4         1          1        3            2        1           3   \n",
       "\n",
       "   NormNucl  Mit  Class  \n",
       "0         1    1      1  \n",
       "1         2    1      1  \n",
       "2         1    1      1  \n",
       "3         7    1      1  \n",
       "4         1    1      1  "
      ]
     },
     "execution_count": 215,
     "metadata": {},
     "output_type": "execute_result"
    }
   ],
   "source": [
    "data.head()"
   ]
  },
  {
   "cell_type": "markdown",
   "id": "c70d88cf",
   "metadata": {},
   "source": [
    "Se muestra el tamaño del dataset"
   ]
  },
  {
   "cell_type": "code",
   "execution_count": 216,
   "id": "a9a9f5cc",
   "metadata": {},
   "outputs": [
    {
     "data": {
      "text/plain": [
       "(683, 10)"
      ]
     },
     "execution_count": 216,
     "metadata": {},
     "output_type": "execute_result"
    }
   ],
   "source": [
    "data.shape  # Tamano del dataset"
   ]
  },
  {
   "cell_type": "markdown",
   "id": "6720baa1",
   "metadata": {},
   "source": [
    "Estadisticas del dataset"
   ]
  },
  {
   "cell_type": "code",
   "execution_count": 217,
   "id": "0f25a76f",
   "metadata": {},
   "outputs": [
    {
     "data": {
      "text/html": [
       "<div>\n",
       "<style scoped>\n",
       "    .dataframe tbody tr th:only-of-type {\n",
       "        vertical-align: middle;\n",
       "    }\n",
       "\n",
       "    .dataframe tbody tr th {\n",
       "        vertical-align: top;\n",
       "    }\n",
       "\n",
       "    .dataframe thead th {\n",
       "        text-align: right;\n",
       "    }\n",
       "</style>\n",
       "<table border=\"1\" class=\"dataframe\">\n",
       "  <thead>\n",
       "    <tr style=\"text-align: right;\">\n",
       "      <th></th>\n",
       "      <th>Clump</th>\n",
       "      <th>UnifSize</th>\n",
       "      <th>UnifShape</th>\n",
       "      <th>MargAdh</th>\n",
       "      <th>SingEpiSize</th>\n",
       "      <th>BareNuc</th>\n",
       "      <th>BlandChrom</th>\n",
       "      <th>NormNucl</th>\n",
       "      <th>Mit</th>\n",
       "      <th>Class</th>\n",
       "    </tr>\n",
       "  </thead>\n",
       "  <tbody>\n",
       "    <tr>\n",
       "      <th>count</th>\n",
       "      <td>683.000000</td>\n",
       "      <td>683.000000</td>\n",
       "      <td>683.000000</td>\n",
       "      <td>683.000000</td>\n",
       "      <td>683.000000</td>\n",
       "      <td>683.000000</td>\n",
       "      <td>683.000000</td>\n",
       "      <td>683.000000</td>\n",
       "      <td>683.000000</td>\n",
       "      <td>683.000000</td>\n",
       "    </tr>\n",
       "    <tr>\n",
       "      <th>mean</th>\n",
       "      <td>4.442167</td>\n",
       "      <td>3.150805</td>\n",
       "      <td>3.215227</td>\n",
       "      <td>2.830161</td>\n",
       "      <td>3.234261</td>\n",
       "      <td>3.544656</td>\n",
       "      <td>3.445095</td>\n",
       "      <td>2.869693</td>\n",
       "      <td>1.603221</td>\n",
       "      <td>0.650073</td>\n",
       "    </tr>\n",
       "    <tr>\n",
       "      <th>std</th>\n",
       "      <td>2.820761</td>\n",
       "      <td>3.065145</td>\n",
       "      <td>2.988581</td>\n",
       "      <td>2.864562</td>\n",
       "      <td>2.223085</td>\n",
       "      <td>3.643857</td>\n",
       "      <td>2.449697</td>\n",
       "      <td>3.052666</td>\n",
       "      <td>1.732674</td>\n",
       "      <td>0.477296</td>\n",
       "    </tr>\n",
       "    <tr>\n",
       "      <th>min</th>\n",
       "      <td>1.000000</td>\n",
       "      <td>1.000000</td>\n",
       "      <td>1.000000</td>\n",
       "      <td>1.000000</td>\n",
       "      <td>1.000000</td>\n",
       "      <td>1.000000</td>\n",
       "      <td>1.000000</td>\n",
       "      <td>1.000000</td>\n",
       "      <td>1.000000</td>\n",
       "      <td>0.000000</td>\n",
       "    </tr>\n",
       "    <tr>\n",
       "      <th>25%</th>\n",
       "      <td>2.000000</td>\n",
       "      <td>1.000000</td>\n",
       "      <td>1.000000</td>\n",
       "      <td>1.000000</td>\n",
       "      <td>2.000000</td>\n",
       "      <td>1.000000</td>\n",
       "      <td>2.000000</td>\n",
       "      <td>1.000000</td>\n",
       "      <td>1.000000</td>\n",
       "      <td>0.000000</td>\n",
       "    </tr>\n",
       "    <tr>\n",
       "      <th>50%</th>\n",
       "      <td>4.000000</td>\n",
       "      <td>1.000000</td>\n",
       "      <td>1.000000</td>\n",
       "      <td>1.000000</td>\n",
       "      <td>2.000000</td>\n",
       "      <td>1.000000</td>\n",
       "      <td>3.000000</td>\n",
       "      <td>1.000000</td>\n",
       "      <td>1.000000</td>\n",
       "      <td>1.000000</td>\n",
       "    </tr>\n",
       "    <tr>\n",
       "      <th>75%</th>\n",
       "      <td>6.000000</td>\n",
       "      <td>5.000000</td>\n",
       "      <td>5.000000</td>\n",
       "      <td>4.000000</td>\n",
       "      <td>4.000000</td>\n",
       "      <td>6.000000</td>\n",
       "      <td>5.000000</td>\n",
       "      <td>4.000000</td>\n",
       "      <td>1.000000</td>\n",
       "      <td>1.000000</td>\n",
       "    </tr>\n",
       "    <tr>\n",
       "      <th>max</th>\n",
       "      <td>10.000000</td>\n",
       "      <td>10.000000</td>\n",
       "      <td>10.000000</td>\n",
       "      <td>10.000000</td>\n",
       "      <td>10.000000</td>\n",
       "      <td>10.000000</td>\n",
       "      <td>10.000000</td>\n",
       "      <td>10.000000</td>\n",
       "      <td>10.000000</td>\n",
       "      <td>1.000000</td>\n",
       "    </tr>\n",
       "  </tbody>\n",
       "</table>\n",
       "</div>"
      ],
      "text/plain": [
       "            Clump    UnifSize   UnifShape     MargAdh  SingEpiSize  \\\n",
       "count  683.000000  683.000000  683.000000  683.000000   683.000000   \n",
       "mean     4.442167    3.150805    3.215227    2.830161     3.234261   \n",
       "std      2.820761    3.065145    2.988581    2.864562     2.223085   \n",
       "min      1.000000    1.000000    1.000000    1.000000     1.000000   \n",
       "25%      2.000000    1.000000    1.000000    1.000000     2.000000   \n",
       "50%      4.000000    1.000000    1.000000    1.000000     2.000000   \n",
       "75%      6.000000    5.000000    5.000000    4.000000     4.000000   \n",
       "max     10.000000   10.000000   10.000000   10.000000    10.000000   \n",
       "\n",
       "          BareNuc  BlandChrom    NormNucl         Mit       Class  \n",
       "count  683.000000  683.000000  683.000000  683.000000  683.000000  \n",
       "mean     3.544656    3.445095    2.869693    1.603221    0.650073  \n",
       "std      3.643857    2.449697    3.052666    1.732674    0.477296  \n",
       "min      1.000000    1.000000    1.000000    1.000000    0.000000  \n",
       "25%      1.000000    2.000000    1.000000    1.000000    0.000000  \n",
       "50%      1.000000    3.000000    1.000000    1.000000    1.000000  \n",
       "75%      6.000000    5.000000    4.000000    1.000000    1.000000  \n",
       "max     10.000000   10.000000   10.000000   10.000000    1.000000  "
      ]
     },
     "execution_count": 217,
     "metadata": {},
     "output_type": "execute_result"
    }
   ],
   "source": [
    "data.describe()"
   ]
  },
  {
   "cell_type": "markdown",
   "id": "1a9df071",
   "metadata": {},
   "source": [
    "Se puede observar lo que incluyen los datos, además se puede notar que la última columna del dataset es la que contiene la salida deseada (cancer o no) para cada paciente"
   ]
  },
  {
   "cell_type": "markdown",
   "id": "643b0824",
   "metadata": {},
   "source": [
    "## Paso 4. Separar características y salidas deseadas ✂️"
   ]
  },
  {
   "cell_type": "code",
   "execution_count": 218,
   "id": "79139ab9",
   "metadata": {},
   "outputs": [],
   "source": [
    "X = data.iloc[:, :-1]  # Caracteristicas (entrada a la red)\n",
    "y = data.iloc[:, -1]"
   ]
  },
  {
   "cell_type": "markdown",
   "id": "acd36d55",
   "metadata": {},
   "source": [
    "## Paso 5. Normalizar los datos para obtener buenos resultados 📏"
   ]
  },
  {
   "cell_type": "markdown",
   "id": "7fccfa0c",
   "metadata": {},
   "source": [
    "Como podemos recordar de clases pasadas, las redes neuronales son sensiblas a la escala de los datos, y observando los datos se puede notar que estos están en rangos muy diferentes, por lo que será necesario normalizarlos para obtener buenos resultados"
   ]
  },
  {
   "cell_type": "code",
   "execution_count": 219,
   "id": "d769ca82",
   "metadata": {},
   "outputs": [],
   "source": [
    "X_scaled = (X - np.min(X, axis=0)) / (np.max(X, axis=0) - np.min(X, axis=0))"
   ]
  },
  {
   "cell_type": "markdown",
   "id": "89d15109",
   "metadata": {},
   "source": [
    "## Paso 6. Separar los datos en entrenamiento y prueba 🧐"
   ]
  },
  {
   "cell_type": "markdown",
   "id": "7726c6c5",
   "metadata": {},
   "source": [
    "Para poder medir de manera correcta el desempeño de nuestro modelo y no obtener resultados sesgados, es necesario separar datos para evaluar nuestro modelo, los cuales serán datos que el modelo \"no ha visto\", es decir, que el modelo no fue entrenado con estos datos. Usaremos el 80% de los datos para entrenamiento y el 20% restante para prueba, la división se hará de manera aleatoria."
   ]
  },
  {
   "cell_type": "code",
   "execution_count": 220,
   "id": "30e6aaa1",
   "metadata": {},
   "outputs": [],
   "source": [
    "n = len(X_scaled)  # Numero de datos\n",
    "idx = np.random.permutation(n)  # Obtener indices de los datos en orden aleatorio\n",
    "tamano_train = int(n * 0.9)\n",
    "idx_train = idx[:tamano_train]  # Indices de entrenamiento\n",
    "idx_test = idx[tamano_train:]  # Indices de prueba\n",
    "X_train = X_scaled.iloc[idx_train]\n",
    "y_train = y.iloc[idx_train]\n",
    "X_test = X_scaled.iloc[idx_test]\n",
    "y_test = y.iloc[idx_test]"
   ]
  },
  {
   "cell_type": "markdown",
   "id": "5c6a59cd",
   "metadata": {},
   "source": [
    "## Paso 7. Transponer los datos para que tengan la forma adecuada para la red "
   ]
  },
  {
   "cell_type": "markdown",
   "id": "57dd5e3f",
   "metadata": {},
   "source": [
    "Ahora se transponen los datos para que estos tengan la forma adecuada para entrar a la red, es decir, un paciente por cada columna, en vez de un paciente por fila, además de pasar los datos de DataFrame de Pandas a array de numpy"
   ]
  },
  {
   "cell_type": "code",
   "execution_count": 221,
   "id": "b8690e59",
   "metadata": {},
   "outputs": [],
   "source": [
    "X_train = X_train.to_numpy().T\n",
    "y_train = y_train.to_numpy()\n",
    "X_test = X_test.to_numpy().T\n",
    "y_test = y_test.to_numpy()"
   ]
  },
  {
   "cell_type": "markdown",
   "id": "97ad70e0",
   "metadata": {},
   "source": [
    "## Paso 8. Neurona Logística 🧠"
   ]
  },
  {
   "cell_type": "markdown",
   "id": "752614df",
   "metadata": {},
   "source": [
    "Ahora se implementa el código de la neurona logística"
   ]
  },
  {
   "cell_type": "code",
   "execution_count": 222,
   "id": "d8fd85d9",
   "metadata": {},
   "outputs": [],
   "source": [
    "class Logistic_Neuron:\n",
    "    \n",
    "    def __init__(self,  n_inputs, learning_rate=0.1):\n",
    "        # Aleatorios entre -1 y 1\n",
    "        self.w = -1 + 2 * np.random.rand(n_inputs)\n",
    "        self.b = -1 + 2 * np.random.rand()\n",
    "        self.eta = learning_rate\n",
    "        \n",
    "    def predict_proba(self, X):\n",
    "        Z = np.dot(self.w, X) + self.b\n",
    "        Y_est = 1 / (1 + np.exp(-Z))\n",
    "        return Y_est\n",
    "        \n",
    "    def predict(self, X, umbral=0.5):\n",
    "        return 1 * (self.predict_proba(X) > 0.5)\n",
    "\n",
    "    def train(self, X, Y, epochs=50):\n",
    "        _, p = X.shape\n",
    "        # Para guardar el error\n",
    "        errores = []\n",
    "        for _ in range(epochs):\n",
    "            Y_est = self.predict_proba(X)\n",
    "            # Completa las siguientes líneas de código\n",
    "            self.w += self.eta / p * ((Y - Y_est) @ X.T).reshape(-1)\n",
    "            self.b += self.eta / p * np.sum(Y - Y_est)\n",
    "            # Calcular el MSE\n",
    "            mse = np.square(Y - Y_est).sum() / len(Y)\n",
    "            errores.append(mse)\n",
    "        # Graficar el error al final del entrenamiento\n",
    "        plt.plot(range(epochs), errores)\n",
    "        plt.xlabel(\"epoch\")\n",
    "        plt.ylabel(\"MSE\")"
   ]
  },
  {
   "cell_type": "markdown",
   "id": "fabb15d4",
   "metadata": {},
   "source": [
    "## Paso 9. Entrenar la neurona 🏋️"
   ]
  },
  {
   "cell_type": "code",
   "execution_count": 223,
   "id": "0da1c900",
   "metadata": {},
   "outputs": [
    {
     "data": {
      "image/png": "[encoded data removed]",
      "text/plain": [
       "<Figure size 640x480 with 1 Axes>"
      ]
     },
     "metadata": {},
     "output_type": "display_data"
    }
   ],
   "source": [
    "neuron = Logistic_Neuron(X_train.shape[0], 1)\n",
    "neuron.train(X_train, y_train, epochs=2000)"
   ]
  },
  {
   "cell_type": "markdown",
   "id": "aeac31bc",
   "metadata": {},
   "source": [
    "## Paso 10. Evaluar la neurona con el set de prueba 📝"
   ]
  },
  {
   "cell_type": "markdown",
   "id": "e26345f9",
   "metadata": {},
   "source": [
    "Primero realizamos predicciones con la neurona sobre el set de prueba"
   ]
  },
  {
   "cell_type": "code",
   "execution_count": 224,
   "id": "492777a2",
   "metadata": {},
   "outputs": [],
   "source": [
    "y_pred = neuron.predict(X_test)"
   ]
  },
  {
   "cell_type": "markdown",
   "id": "58554006",
   "metadata": {},
   "source": [
    "Para evaluar la neurona usaremos la metrica de accuracy, esta métrica se define como el numero de aciertos de la neurona entre el total de predicciones realizadas por la neurona, esto es:\n",
    "\\begin{equation}\n",
    "\\text{accuracy} = \\frac{\\text{Preds correctas}}{\\text{Total de preds}}\n",
    "\\end{equation}"
   ]
  },
  {
   "cell_type": "code",
   "execution_count": 225,
   "id": "ebc7eb82",
   "metadata": {},
   "outputs": [
    {
     "name": "stdout",
     "output_type": "stream",
     "text": [
      "El accuracy del modelo es de 0.9565217391304348\n"
     ]
    }
   ],
   "source": [
    "accuracy = np.mean(y_pred==y_test)\n",
    "print(f\"El accuracy del modelo es de {accuracy}\")"
   ]
  },
  {
   "cell_type": "markdown",
   "id": "522defa0-517f-4944-a2a3-72809b06644c",
   "metadata": {},
   "source": [
    "Como se puede observar aquí, el accuracy es muy bajo, sin embargo no se pudo obtener un mayor accuracy, además de que en la gráfica del error se observa que el error ya no sigue disminuyendo después de entrenar el modelo por más épocas, esto puede ser debido a que la predicción del cancer no es un problema lineal por lo que habría que usar un modelo no lineal para poder obtener mejores resultados."
   ]
  }
 ],
 "metadata": {
  "kernelspec": {
   "display_name": "Python 3 (ipykernel)",
   "language": "python",
   "name": "python3"
  },
  "language_info": {
   "codemirror_mode": {
    "name": "ipython",
    "version": 3
   },
   "file_extension": ".py",
   "mimetype": "text/x-python",
   "name": "python",
   "nbconvert_exporter": "python",
   "pygments_lexer": "ipython3",
   "version": "3.11.7"
  }
 },
 "nbformat": 4,
 "nbformat_minor": 5
}
